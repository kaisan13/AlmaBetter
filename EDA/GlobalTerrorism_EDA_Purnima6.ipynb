{
  "nbformat": 4,
  "nbformat_minor": 0,
  "metadata": {
    "colab": {
      "provenance": [],
      "collapsed_sections": [
        "w6K7xa23Elo4",
        "K5QZ13OEpz2H",
        "lQ7QKXXCp7Bj",
        "448CDAPjqfQr",
        "KSlN3yHqYklG",
        "t6dVpIINYklI",
        "ijmpgYnKYklI",
        "-JiQyfWJYklI",
        "EM7whBJCYoAo",
        "fge-S5ZAYoAp",
        "85gYPyotYoAp",
        "RoGjAbkUYoAp",
        "4Of9eVA-YrdM",
        "iky9q4vBYrdO",
        "F6T5p64dYrdO",
        "y-Ehk30pYrdP",
        "bamQiAODYuh1",
        "QHF8YVU7Yuh3",
        "GwzvFGzlYuh3",
        "qYpmQ266Yuh3",
        "OH-pJp9IphqM",
        "bbFf2-_FphqN",
        "_ouA3fa0phqN",
        "Seke61FWphqN",
        "PIIx-8_IphqN",
        "t27r6nlMphqO",
        "r2jJGEOYphqO",
        "b0JNsNcRphqO",
        "BZR9WyysphqO",
        "jj7wYXLtphqO",
        "eZrbJ2SmphqO",
        "rFu4xreNphqO",
        "YJ55k-q6phqO",
        "gCFgpxoyphqP",
        "OVtJsKN_phqQ",
        "lssrdh5qphqQ",
        "U2RJ9gkRphqQ",
        "1M8mcRywphqQ",
        "tgIPom80phqQ",
        "JMzcOPDDphqR",
        "x-EpHcCOp1ci",
        "X_VqEhTip1ck",
        "8zGJKyg5p1ck",
        "PVzmfK_Ep1ck",
        "n3dbpmDWp1ck",
        "ylSl6qgtp1ck",
        "ZWILFDl5p1ck",
        "M7G43BXep1ck",
        "Ag9LCva-p1cl",
        "E6MkPsBcp1cl",
        "2cELzS2fp1cl",
        "3MPXvC8up1cl",
        "NC_X3p0fY2L0",
        "UV0SzAkaZNRQ",
        "YPEH6qLeZNRQ",
        "q29F0dvdveiT",
        "EXh0U9oCveiU",
        "22aHeOlLveiV",
        "JcMwzZxoAimU",
        "8G2x9gOozGDZ",
        "gCX9965dhzqZ",
        "gIfDvo9L0UH2"
      ],
      "include_colab_link": true
    },
    "kernelspec": {
      "name": "python3",
      "display_name": "Python 3"
    },
    "language_info": {
      "name": "python"
    }
  },
  "cells": [
    {
      "cell_type": "markdown",
      "metadata": {
        "id": "view-in-github",
        "colab_type": "text"
      },
      "source": [
        "<a href=\"https://colab.research.google.com/github/P9169/AlmaBetter/blob/main/EDA/GlobalTerrorism_EDA_Purnima6.ipynb\" target=\"_parent\"><img src=\"https://colab.research.google.com/assets/colab-badge.svg\" alt=\"Open In Colab\"/></a>"
      ]
    },
    {
      "cell_type": "markdown",
      "source": [
        "# **Project Name**    - Global Terrorism Dataset\n",
        "\n"
      ],
      "metadata": {
        "id": "vncDsAP0Gaoa"
      }
    },
    {
      "cell_type": "markdown",
      "source": [
        "##### **Project Type**    - EDA\n",
        "##### **Contribution**    - Team\n",
        "##### Team Member 1 -Purnima Pandey\n",
        "##### Team Membaer 2 -Ajay Kumar Singh"
      ],
      "metadata": {
        "id": "beRrZCGUAJYm"
      }
    },
    {
      "cell_type": "markdown",
      "source": [
        "# **Project Summary -**\n",
        "In our team, their are two members, **Purnima Pandey** and **Ajay Kumar Singh.** we are working together on **Exploratory Data Analysis** on **Global Terrorism Dataset.** We have decided to choose this project to find out the hot zones of terrorism, security issues and key insights by ensuring through visualization.\n",
        "\n",
        "**\"The threatened or actual use of illegal force and violence by a non-state actor to attain a political, economic, religious or social goal through fear, coercion or intimidation**.Terrorism is characterized by the use of violence against civilians, with the expressed desire of causing terror or panic in the population.Generally, terrorism is defined as an unlawful use of violence designed to further political aims by creating fear. This means that it can be difficult to define which violent acts should be classified as terrorism, and cases where the perpetrator does not have a political motivation. For example, it is not clear on the status of violence in wars of national liberation and self-determination. This lack of universal agreement has hampered the ability of the international community to coordinate efforts to combat terrorism.Terrorism is by no means just a 21st century issue, with attacks that could be described as terrorism dating back as far as the Roman Empire. Turning to more modern times, looking at the number of terror attack victims in Western Europe since 1970 shows more victims in the 1970s and 1980s than in the 2000s. Much of this violence was enacted by **nationalist movements such as the IRA or the ETA** , as well as political extremists on both the left and right. Moreover, the 1970s and 1980s saw a range of high-profiled plane hijackings, for instance the hijacking of the Landshut between Spain and Germany in 1977, and the hijacking of the Air France flight that was redirected to Entebbe in Uganda in 1976. However, there has been a number of deadly terrorist attacks in Europe since the turn of the millennium, with seven of the 10 deadliest terrorist attacks on the continent happening since 2004.\n",
        "\n",
        "  The **Global Terrorism Dataset(GTD) is a database on terrorist attacks around the world from** 1970 to 2017 containing over **180,000 attacks.** **Researchers at The National Consortium** maintain the database for the **Study Of Terrorism And Responses To Terrorism(START)  , headquartered at \"University Of Maryland\".** In this database there are **135 columns and 181,691** rows of different variables. The primary purpose of the project is to dive into generating visualizations, surrounding time and what they demonstrate. It had to focus on global bombings between 1970 to 2017, as of now attacks have become more deadly with the lethality rising by **26%** and **Islamic States(IS)** and it affiliates remained the world's deadliest terrorist group for the eight consecutive years, with attacks in **21 countries** and Islamic State, the deadliest, saw an increase of **12% to 2.9 deaths per attack,** while **al-Shabaab's lethality rate is at its highest level since 2017,** if we look at **Global Terrorism Index 2023**, **Afghanistan is the country which is mostly affected by terrorism in 2023 and India's rank is 13th globally.** The hub of terrorism is rapidly changing and moving towards countries facing political instability, conflict and ecological degradation, particularly in the Sahel. Deaths from terrorism in the **Sahel increased by 7%** and are now higher than **South Asia and Middle East and North Africa(MENA)** combined. The area is also the most impacted region in the world, representing **43%** of deaths from terrorism globally, this index is produced by **The Institute For Economics And Piece(IEP)**, think tank, using data from terrorism tracker and other sources. Now, **the next two deadliest terrorist groups are Balochistan Liberation Army(BLA) and Jamaat Nusrat Al-Islam Wal Muslimeen(JNIM).**\n",
        "    "
      ],
      "metadata": {
        "id": "FJNUwmbgGyua"
      }
    },
    {
      "cell_type": "markdown",
      "source": [],
      "metadata": {
        "id": "F6v_1wHtG2nS"
      }
    },
    {
      "cell_type": "markdown",
      "source": [
        "# **GitHub Link -**"
      ],
      "metadata": {
        "id": "w6K7xa23Elo4"
      }
    },
    {
      "cell_type": "markdown",
      "source": [
        "Provide your GitHub Link here."
      ],
      "metadata": {
        "id": "h1o69JH3Eqqn"
      }
    },
    {
      "cell_type": "markdown",
      "source": [
        "# **Problem Statement**"
      ],
      "metadata": {
        "id": "yQaldy8SH6Dl"
      }
    },
    {
      "cell_type": "markdown",
      "source": [],
      "metadata": {
        "id": "TUleRlLB3Kdh"
      }
    },
    {
      "cell_type": "markdown",
      "source": [
        "\n",
        "\n",
        "The problem is to analyze the Global Terrorism dataset and understand why terrorist attacks have shifted towards urban centers and targeted soft civilian.\n",
        "\n",
        "Problem Statements-\n",
        "\n",
        "1- What are the regions with the highest number of terrorist incidents in the Global Terrorism Dataset?\n",
        "\n",
        "02-What are the most common types of terrorist attacks recorded in the dataset?\n",
        "\n",
        "\n",
        "03-Are there any significant seasonal patterns in terrorist incidents?\n",
        "\n",
        "04-How does the number of terrorist incidents vary between developed and developing countries?\n",
        "\n",
        "05-Is there a correlation between socio-economic factors and the occurrence of terrorist incidents?\n",
        "\n",
        "Are there any trends or patterns in the weapons used in terrorist attacks?\n",
        "\n",
        "06-How do terrorist incidents differ based on the motivation behind the attacks (e.g., political, religious, ideological)?\n",
        "\n",
        "07-How effective have counterterrorism measures been in reducing the frequency of attacks?\n",
        "\n",
        "\n",
        "08-What is the demographic profile of individuals involved in terrorist activities?\n",
        "\n",
        "09-What are the most targeted industries or sectors by terrorist groups?\n",
        "\n",
        "\n",
        "10-What is the impact of terrorist attacks on the economy and tourism of affected regions?\n",
        "\n",
        "\n",
        "11-How has social media usage influenced the spread and organization of terrorist activities?\n",
        "\n",
        "12-How have global counterterrorism efforts and international collaborations impacted terrorism trends?\n",
        "\n",
        "\n",
        "13-These problem statement questions can serve as a starting point for conducting in-depth analyses and gaining valuable insights from the Global Terrorism Dataset. Depending on the scope and goals of the analysis, additional questions and hypotheses can be formulated to further explore the dataset's complexities and nuances."
      ],
      "metadata": {
        "id": "DpeJGUA3kjGy"
      }
    },
    {
      "cell_type": "markdown",
      "source": [
        "#### **Define Your Business Objective?**"
      ],
      "metadata": {
        "id": "PH-0ReGfmX4f"
      }
    },
    {
      "cell_type": "markdown",
      "source": [
        "\n",
        "\n",
        "The business objective is to perform exploratory data analysis on the dataset, visualizing data features related to types of attacks, highly sensitive areas, and attack frequencies, in order to identify valuable conclusions and insights regarding global terrorism trends."
      ],
      "metadata": {
        "id": "PhDvGCAqmjP1"
      }
    },
    {
      "cell_type": "markdown",
      "source": [
        "# **General Guidelines** : -  "
      ],
      "metadata": {
        "id": "mDgbUHAGgjLW"
      }
    },
    {
      "cell_type": "markdown",
      "source": [
        "1.   Well-structured, formatted, and commented code is required.\n",
        "2.   Exception Handling, Production Grade Code & Deployment Ready Code will be a plus. Those students will be awarded some additional credits.\n",
        "     \n",
        "     The additional credits will have advantages over other students during Star Student selection.\n",
        "       \n",
        "             [ Note: - Deployment Ready Code is defined as, the whole .ipynb notebook should be executable in one go\n",
        "                       without a single error logged. ]\n",
        "\n",
        "3.   Each and every logic should have proper comments.\n",
        "4. You may add as many number of charts you want. Make Sure for each and every chart the following format should be answered.\n",
        "        \n",
        "\n",
        "```\n",
        "# Chart visualization code\n",
        "```\n",
        "            \n",
        "\n",
        "*   Why did you pick the specific chart?\n",
        "*   What is/are the insight(s) found from the chart?\n",
        "* Will the gained insights help creating a positive business impact?\n",
        "Are there any insights that lead to negative growth? Justify with specific reason.\n",
        "\n",
        "5. You have to create at least 20 logical & meaningful charts having important insights.\n",
        "\n",
        "\n",
        "[ Hints : - Do the Vizualization in  a structured way while following \"UBM\" Rule.\n",
        "\n",
        "U - Univariate Analysis,\n",
        "\n",
        "B - Bivariate Analysis (Numerical - Categorical, Numerical - Numerical, Categorical - Categorical)\n",
        "\n",
        "M - Multivariate Analysis\n",
        " ]\n",
        "\n",
        "\n",
        "\n"
      ],
      "metadata": {
        "id": "ZrxVaUj-hHfC"
      }
    },
    {
      "cell_type": "markdown",
      "source": [
        "# ***Let's Begin !***"
      ],
      "metadata": {
        "id": "O_i_v8NEhb9l"
      }
    },
    {
      "cell_type": "markdown",
      "source": [
        "## ***1. Know Your Data***"
      ],
      "metadata": {
        "id": "HhfV-JJviCcP"
      }
    },
    {
      "cell_type": "markdown",
      "source": [
        "### Import Libraries"
      ],
      "metadata": {
        "id": "Y3lxredqlCYt"
      }
    },
    {
      "cell_type": "code",
      "source": [
        "# Import Libraries\n",
        "import pandas as pd\n",
        "import numpy as np"
      ],
      "metadata": {
        "id": "M8Vqi-pPk-HR"
      },
      "execution_count": 1,
      "outputs": []
    },
    {
      "cell_type": "markdown",
      "source": [
        "### Dataset Loading"
      ],
      "metadata": {
        "id": "3RnN4peoiCZX"
      }
    },
    {
      "cell_type": "code",
      "source": [
        "# Load Dataset\n",
        "from google.colab import drive\n",
        "drive.mount('/content/drive')\n",
        "\n",
        "url='/content/drive/MyDrive/Colab Notebooks/Global Terrorism  EDA/Global Terrorism Data.csv'\n",
        "df= pd.read_csv(url,encoding='Latin-1')\n",
        "df"
      ],
      "metadata": {
        "id": "4CkvbW_SlZ_R",
        "colab": {
          "base_uri": "https://localhost:8080/",
          "height": 976
        },
        "outputId": "83a86bcb-b366-4b69-b755-2d57594be2ba"
      },
      "execution_count": 2,
      "outputs": [
        {
          "output_type": "stream",
          "name": "stdout",
          "text": [
            "Mounted at /content/drive\n"
          ]
        },
        {
          "output_type": "stream",
          "name": "stderr",
          "text": [
            "<ipython-input-2-462ec51699fb>:6: DtypeWarning: Columns (4,6,31,33,61,62,63,76,79,90,92,94,96,114,115,121) have mixed types. Specify dtype option on import or set low_memory=False.\n",
            "  df= pd.read_csv(url,encoding='Latin-1')\n"
          ]
        },
        {
          "output_type": "execute_result",
          "data": {
            "text/plain": [
              "             eventid  iyear  imonth  iday approxdate  extended resolution  \\\n",
              "0       197000000001   1970       7     2        NaN         0        NaN   \n",
              "1       197000000002   1970       0     0        NaN         0        NaN   \n",
              "2       197001000001   1970       1     0        NaN         0        NaN   \n",
              "3       197001000002   1970       1     0        NaN         0        NaN   \n",
              "4       197001000003   1970       1     0        NaN         0        NaN   \n",
              "...              ...    ...     ...   ...        ...       ...        ...   \n",
              "181686  201712310022   2017      12    31        NaN         0        NaN   \n",
              "181687  201712310029   2017      12    31        NaN         0        NaN   \n",
              "181688  201712310030   2017      12    31        NaN         0        NaN   \n",
              "181689  201712310031   2017      12    31        NaN         0        NaN   \n",
              "181690  201712310032   2017      12    31        NaN         0        NaN   \n",
              "\n",
              "        country         country_txt  region  ... addnotes  \\\n",
              "0            58  Dominican Republic       2  ...      NaN   \n",
              "1           130              Mexico       1  ...      NaN   \n",
              "2           160         Philippines       5  ...      NaN   \n",
              "3            78              Greece       8  ...      NaN   \n",
              "4           101               Japan       4  ...      NaN   \n",
              "...         ...                 ...     ...  ...      ...   \n",
              "181686      182             Somalia      11  ...      NaN   \n",
              "181687      200               Syria      10  ...      NaN   \n",
              "181688      160         Philippines       5  ...      NaN   \n",
              "181689       92               India       6  ...      NaN   \n",
              "181690      160         Philippines       5  ...      NaN   \n",
              "\n",
              "                                                   scite1  \\\n",
              "0                                                     NaN   \n",
              "1                                                     NaN   \n",
              "2                                                     NaN   \n",
              "3                                                     NaN   \n",
              "4                                                     NaN   \n",
              "...                                                   ...   \n",
              "181686  \"Somalia: Al-Shabaab Militants Attack Army Che...   \n",
              "181687  \"Putin's 'victory' in Syria has turned into a ...   \n",
              "181688  \"Maguindanao clashes trap tribe members,\" Phil...   \n",
              "181689  \"Trader escapes grenade attack in Imphal,\" Bus...   \n",
              "181690  \"Security tightened in Cotabato following IED ...   \n",
              "\n",
              "                                                   scite2  \\\n",
              "0                                                     NaN   \n",
              "1                                                     NaN   \n",
              "2                                                     NaN   \n",
              "3                                                     NaN   \n",
              "4                                                     NaN   \n",
              "...                                                   ...   \n",
              "181686  \"Highlights: Somalia Daily Media Highlights 2 ...   \n",
              "181687  \"Two Russian soldiers killed at Hmeymim base i...   \n",
              "181688                                                NaN   \n",
              "181689                                                NaN   \n",
              "181690  \"Security tightened in Cotabato City,\" Manila ...   \n",
              "\n",
              "                                                   scite3  \\\n",
              "0                                                     NaN   \n",
              "1                                                     NaN   \n",
              "2                                                     NaN   \n",
              "3                                                     NaN   \n",
              "4                                                     NaN   \n",
              "...                                                   ...   \n",
              "181686  \"Highlights: Somalia Daily Media Highlights 1 ...   \n",
              "181687  \"Two Russian servicemen killed in Syria mortar...   \n",
              "181688                                                NaN   \n",
              "181689                                                NaN   \n",
              "181690                                                NaN   \n",
              "\n",
              "                        dbsource  INT_LOG  INT_IDEO INT_MISC INT_ANY  related  \n",
              "0                           PGIS        0         0        0       0      NaN  \n",
              "1                           PGIS        0         1        1       1      NaN  \n",
              "2                           PGIS       -9        -9        1       1      NaN  \n",
              "3                           PGIS       -9        -9        1       1      NaN  \n",
              "4                           PGIS       -9        -9        1       1      NaN  \n",
              "...                          ...      ...       ...      ...     ...      ...  \n",
              "181686  START Primary Collection        0         0        0       0      NaN  \n",
              "181687  START Primary Collection       -9        -9        1       1      NaN  \n",
              "181688  START Primary Collection        0         0        0       0      NaN  \n",
              "181689  START Primary Collection       -9        -9        0      -9      NaN  \n",
              "181690  START Primary Collection       -9        -9        0      -9      NaN  \n",
              "\n",
              "[181691 rows x 135 columns]"
            ],
            "text/html": [
              "\n",
              "\n",
              "  <div id=\"df-d4810f1c-c6d7-4663-af39-522b7e5f56c7\">\n",
              "    <div class=\"colab-df-container\">\n",
              "      <div>\n",
              "<style scoped>\n",
              "    .dataframe tbody tr th:only-of-type {\n",
              "        vertical-align: middle;\n",
              "    }\n",
              "\n",
              "    .dataframe tbody tr th {\n",
              "        vertical-align: top;\n",
              "    }\n",
              "\n",
              "    .dataframe thead th {\n",
              "        text-align: right;\n",
              "    }\n",
              "</style>\n",
              "<table border=\"1\" class=\"dataframe\">\n",
              "  <thead>\n",
              "    <tr style=\"text-align: right;\">\n",
              "      <th></th>\n",
              "      <th>eventid</th>\n",
              "      <th>iyear</th>\n",
              "      <th>imonth</th>\n",
              "      <th>iday</th>\n",
              "      <th>approxdate</th>\n",
              "      <th>extended</th>\n",
              "      <th>resolution</th>\n",
              "      <th>country</th>\n",
              "      <th>country_txt</th>\n",
              "      <th>region</th>\n",
              "      <th>...</th>\n",
              "      <th>addnotes</th>\n",
              "      <th>scite1</th>\n",
              "      <th>scite2</th>\n",
              "      <th>scite3</th>\n",
              "      <th>dbsource</th>\n",
              "      <th>INT_LOG</th>\n",
              "      <th>INT_IDEO</th>\n",
              "      <th>INT_MISC</th>\n",
              "      <th>INT_ANY</th>\n",
              "      <th>related</th>\n",
              "    </tr>\n",
              "  </thead>\n",
              "  <tbody>\n",
              "    <tr>\n",
              "      <th>0</th>\n",
              "      <td>197000000001</td>\n",
              "      <td>1970</td>\n",
              "      <td>7</td>\n",
              "      <td>2</td>\n",
              "      <td>NaN</td>\n",
              "      <td>0</td>\n",
              "      <td>NaN</td>\n",
              "      <td>58</td>\n",
              "      <td>Dominican Republic</td>\n",
              "      <td>2</td>\n",
              "      <td>...</td>\n",
              "      <td>NaN</td>\n",
              "      <td>NaN</td>\n",
              "      <td>NaN</td>\n",
              "      <td>NaN</td>\n",
              "      <td>PGIS</td>\n",
              "      <td>0</td>\n",
              "      <td>0</td>\n",
              "      <td>0</td>\n",
              "      <td>0</td>\n",
              "      <td>NaN</td>\n",
              "    </tr>\n",
              "    <tr>\n",
              "      <th>1</th>\n",
              "      <td>197000000002</td>\n",
              "      <td>1970</td>\n",
              "      <td>0</td>\n",
              "      <td>0</td>\n",
              "      <td>NaN</td>\n",
              "      <td>0</td>\n",
              "      <td>NaN</td>\n",
              "      <td>130</td>\n",
              "      <td>Mexico</td>\n",
              "      <td>1</td>\n",
              "      <td>...</td>\n",
              "      <td>NaN</td>\n",
              "      <td>NaN</td>\n",
              "      <td>NaN</td>\n",
              "      <td>NaN</td>\n",
              "      <td>PGIS</td>\n",
              "      <td>0</td>\n",
              "      <td>1</td>\n",
              "      <td>1</td>\n",
              "      <td>1</td>\n",
              "      <td>NaN</td>\n",
              "    </tr>\n",
              "    <tr>\n",
              "      <th>2</th>\n",
              "      <td>197001000001</td>\n",
              "      <td>1970</td>\n",
              "      <td>1</td>\n",
              "      <td>0</td>\n",
              "      <td>NaN</td>\n",
              "      <td>0</td>\n",
              "      <td>NaN</td>\n",
              "      <td>160</td>\n",
              "      <td>Philippines</td>\n",
              "      <td>5</td>\n",
              "      <td>...</td>\n",
              "      <td>NaN</td>\n",
              "      <td>NaN</td>\n",
              "      <td>NaN</td>\n",
              "      <td>NaN</td>\n",
              "      <td>PGIS</td>\n",
              "      <td>-9</td>\n",
              "      <td>-9</td>\n",
              "      <td>1</td>\n",
              "      <td>1</td>\n",
              "      <td>NaN</td>\n",
              "    </tr>\n",
              "    <tr>\n",
              "      <th>3</th>\n",
              "      <td>197001000002</td>\n",
              "      <td>1970</td>\n",
              "      <td>1</td>\n",
              "      <td>0</td>\n",
              "      <td>NaN</td>\n",
              "      <td>0</td>\n",
              "      <td>NaN</td>\n",
              "      <td>78</td>\n",
              "      <td>Greece</td>\n",
              "      <td>8</td>\n",
              "      <td>...</td>\n",
              "      <td>NaN</td>\n",
              "      <td>NaN</td>\n",
              "      <td>NaN</td>\n",
              "      <td>NaN</td>\n",
              "      <td>PGIS</td>\n",
              "      <td>-9</td>\n",
              "      <td>-9</td>\n",
              "      <td>1</td>\n",
              "      <td>1</td>\n",
              "      <td>NaN</td>\n",
              "    </tr>\n",
              "    <tr>\n",
              "      <th>4</th>\n",
              "      <td>197001000003</td>\n",
              "      <td>1970</td>\n",
              "      <td>1</td>\n",
              "      <td>0</td>\n",
              "      <td>NaN</td>\n",
              "      <td>0</td>\n",
              "      <td>NaN</td>\n",
              "      <td>101</td>\n",
              "      <td>Japan</td>\n",
              "      <td>4</td>\n",
              "      <td>...</td>\n",
              "      <td>NaN</td>\n",
              "      <td>NaN</td>\n",
              "      <td>NaN</td>\n",
              "      <td>NaN</td>\n",
              "      <td>PGIS</td>\n",
              "      <td>-9</td>\n",
              "      <td>-9</td>\n",
              "      <td>1</td>\n",
              "      <td>1</td>\n",
              "      <td>NaN</td>\n",
              "    </tr>\n",
              "    <tr>\n",
              "      <th>...</th>\n",
              "      <td>...</td>\n",
              "      <td>...</td>\n",
              "      <td>...</td>\n",
              "      <td>...</td>\n",
              "      <td>...</td>\n",
              "      <td>...</td>\n",
              "      <td>...</td>\n",
              "      <td>...</td>\n",
              "      <td>...</td>\n",
              "      <td>...</td>\n",
              "      <td>...</td>\n",
              "      <td>...</td>\n",
              "      <td>...</td>\n",
              "      <td>...</td>\n",
              "      <td>...</td>\n",
              "      <td>...</td>\n",
              "      <td>...</td>\n",
              "      <td>...</td>\n",
              "      <td>...</td>\n",
              "      <td>...</td>\n",
              "      <td>...</td>\n",
              "    </tr>\n",
              "    <tr>\n",
              "      <th>181686</th>\n",
              "      <td>201712310022</td>\n",
              "      <td>2017</td>\n",
              "      <td>12</td>\n",
              "      <td>31</td>\n",
              "      <td>NaN</td>\n",
              "      <td>0</td>\n",
              "      <td>NaN</td>\n",
              "      <td>182</td>\n",
              "      <td>Somalia</td>\n",
              "      <td>11</td>\n",
              "      <td>...</td>\n",
              "      <td>NaN</td>\n",
              "      <td>\"Somalia: Al-Shabaab Militants Attack Army Che...</td>\n",
              "      <td>\"Highlights: Somalia Daily Media Highlights 2 ...</td>\n",
              "      <td>\"Highlights: Somalia Daily Media Highlights 1 ...</td>\n",
              "      <td>START Primary Collection</td>\n",
              "      <td>0</td>\n",
              "      <td>0</td>\n",
              "      <td>0</td>\n",
              "      <td>0</td>\n",
              "      <td>NaN</td>\n",
              "    </tr>\n",
              "    <tr>\n",
              "      <th>181687</th>\n",
              "      <td>201712310029</td>\n",
              "      <td>2017</td>\n",
              "      <td>12</td>\n",
              "      <td>31</td>\n",
              "      <td>NaN</td>\n",
              "      <td>0</td>\n",
              "      <td>NaN</td>\n",
              "      <td>200</td>\n",
              "      <td>Syria</td>\n",
              "      <td>10</td>\n",
              "      <td>...</td>\n",
              "      <td>NaN</td>\n",
              "      <td>\"Putin's 'victory' in Syria has turned into a ...</td>\n",
              "      <td>\"Two Russian soldiers killed at Hmeymim base i...</td>\n",
              "      <td>\"Two Russian servicemen killed in Syria mortar...</td>\n",
              "      <td>START Primary Collection</td>\n",
              "      <td>-9</td>\n",
              "      <td>-9</td>\n",
              "      <td>1</td>\n",
              "      <td>1</td>\n",
              "      <td>NaN</td>\n",
              "    </tr>\n",
              "    <tr>\n",
              "      <th>181688</th>\n",
              "      <td>201712310030</td>\n",
              "      <td>2017</td>\n",
              "      <td>12</td>\n",
              "      <td>31</td>\n",
              "      <td>NaN</td>\n",
              "      <td>0</td>\n",
              "      <td>NaN</td>\n",
              "      <td>160</td>\n",
              "      <td>Philippines</td>\n",
              "      <td>5</td>\n",
              "      <td>...</td>\n",
              "      <td>NaN</td>\n",
              "      <td>\"Maguindanao clashes trap tribe members,\" Phil...</td>\n",
              "      <td>NaN</td>\n",
              "      <td>NaN</td>\n",
              "      <td>START Primary Collection</td>\n",
              "      <td>0</td>\n",
              "      <td>0</td>\n",
              "      <td>0</td>\n",
              "      <td>0</td>\n",
              "      <td>NaN</td>\n",
              "    </tr>\n",
              "    <tr>\n",
              "      <th>181689</th>\n",
              "      <td>201712310031</td>\n",
              "      <td>2017</td>\n",
              "      <td>12</td>\n",
              "      <td>31</td>\n",
              "      <td>NaN</td>\n",
              "      <td>0</td>\n",
              "      <td>NaN</td>\n",
              "      <td>92</td>\n",
              "      <td>India</td>\n",
              "      <td>6</td>\n",
              "      <td>...</td>\n",
              "      <td>NaN</td>\n",
              "      <td>\"Trader escapes grenade attack in Imphal,\" Bus...</td>\n",
              "      <td>NaN</td>\n",
              "      <td>NaN</td>\n",
              "      <td>START Primary Collection</td>\n",
              "      <td>-9</td>\n",
              "      <td>-9</td>\n",
              "      <td>0</td>\n",
              "      <td>-9</td>\n",
              "      <td>NaN</td>\n",
              "    </tr>\n",
              "    <tr>\n",
              "      <th>181690</th>\n",
              "      <td>201712310032</td>\n",
              "      <td>2017</td>\n",
              "      <td>12</td>\n",
              "      <td>31</td>\n",
              "      <td>NaN</td>\n",
              "      <td>0</td>\n",
              "      <td>NaN</td>\n",
              "      <td>160</td>\n",
              "      <td>Philippines</td>\n",
              "      <td>5</td>\n",
              "      <td>...</td>\n",
              "      <td>NaN</td>\n",
              "      <td>\"Security tightened in Cotabato following IED ...</td>\n",
              "      <td>\"Security tightened in Cotabato City,\" Manila ...</td>\n",
              "      <td>NaN</td>\n",
              "      <td>START Primary Collection</td>\n",
              "      <td>-9</td>\n",
              "      <td>-9</td>\n",
              "      <td>0</td>\n",
              "      <td>-9</td>\n",
              "      <td>NaN</td>\n",
              "    </tr>\n",
              "  </tbody>\n",
              "</table>\n",
              "<p>181691 rows × 135 columns</p>\n",
              "</div>\n",
              "      <button class=\"colab-df-convert\" onclick=\"convertToInteractive('df-d4810f1c-c6d7-4663-af39-522b7e5f56c7')\"\n",
              "              title=\"Convert this dataframe to an interactive table.\"\n",
              "              style=\"display:none;\">\n",
              "\n",
              "  <svg xmlns=\"http://www.w3.org/2000/svg\" height=\"24px\"viewBox=\"0 0 24 24\"\n",
              "       width=\"24px\">\n",
              "    <path d=\"M0 0h24v24H0V0z\" fill=\"none\"/>\n",
              "    <path d=\"M18.56 5.44l.94 2.06.94-2.06 2.06-.94-2.06-.94-.94-2.06-.94 2.06-2.06.94zm-11 1L8.5 8.5l.94-2.06 2.06-.94-2.06-.94L8.5 2.5l-.94 2.06-2.06.94zm10 10l.94 2.06.94-2.06 2.06-.94-2.06-.94-.94-2.06-.94 2.06-2.06.94z\"/><path d=\"M17.41 7.96l-1.37-1.37c-.4-.4-.92-.59-1.43-.59-.52 0-1.04.2-1.43.59L10.3 9.45l-7.72 7.72c-.78.78-.78 2.05 0 2.83L4 21.41c.39.39.9.59 1.41.59.51 0 1.02-.2 1.41-.59l7.78-7.78 2.81-2.81c.8-.78.8-2.07 0-2.86zM5.41 20L4 18.59l7.72-7.72 1.47 1.35L5.41 20z\"/>\n",
              "  </svg>\n",
              "      </button>\n",
              "\n",
              "\n",
              "\n",
              "    <div id=\"df-714d7d79-3a8d-4090-a26a-59d9fcb46c14\">\n",
              "      <button class=\"colab-df-quickchart\" onclick=\"quickchart('df-714d7d79-3a8d-4090-a26a-59d9fcb46c14')\"\n",
              "              title=\"Suggest charts.\"\n",
              "              style=\"display:none;\">\n",
              "\n",
              "<svg xmlns=\"http://www.w3.org/2000/svg\" height=\"24px\"viewBox=\"0 0 24 24\"\n",
              "     width=\"24px\">\n",
              "    <g>\n",
              "        <path d=\"M19 3H5c-1.1 0-2 .9-2 2v14c0 1.1.9 2 2 2h14c1.1 0 2-.9 2-2V5c0-1.1-.9-2-2-2zM9 17H7v-7h2v7zm4 0h-2V7h2v10zm4 0h-2v-4h2v4z\"/>\n",
              "    </g>\n",
              "</svg>\n",
              "      </button>\n",
              "    </div>\n",
              "\n",
              "<style>\n",
              "  .colab-df-quickchart {\n",
              "    background-color: #E8F0FE;\n",
              "    border: none;\n",
              "    border-radius: 50%;\n",
              "    cursor: pointer;\n",
              "    display: none;\n",
              "    fill: #1967D2;\n",
              "    height: 32px;\n",
              "    padding: 0 0 0 0;\n",
              "    width: 32px;\n",
              "  }\n",
              "\n",
              "  .colab-df-quickchart:hover {\n",
              "    background-color: #E2EBFA;\n",
              "    box-shadow: 0px 1px 2px rgba(60, 64, 67, 0.3), 0px 1px 3px 1px rgba(60, 64, 67, 0.15);\n",
              "    fill: #174EA6;\n",
              "  }\n",
              "\n",
              "  [theme=dark] .colab-df-quickchart {\n",
              "    background-color: #3B4455;\n",
              "    fill: #D2E3FC;\n",
              "  }\n",
              "\n",
              "  [theme=dark] .colab-df-quickchart:hover {\n",
              "    background-color: #434B5C;\n",
              "    box-shadow: 0px 1px 3px 1px rgba(0, 0, 0, 0.15);\n",
              "    filter: drop-shadow(0px 1px 2px rgba(0, 0, 0, 0.3));\n",
              "    fill: #FFFFFF;\n",
              "  }\n",
              "</style>\n",
              "\n",
              "    <script>\n",
              "      async function quickchart(key) {\n",
              "        const containerElement = document.querySelector('#' + key);\n",
              "        const charts = await google.colab.kernel.invokeFunction(\n",
              "            'suggestCharts', [key], {});\n",
              "      }\n",
              "    </script>\n",
              "\n",
              "      <script>\n",
              "\n",
              "function displayQuickchartButton(domScope) {\n",
              "  let quickchartButtonEl =\n",
              "    domScope.querySelector('#df-714d7d79-3a8d-4090-a26a-59d9fcb46c14 button.colab-df-quickchart');\n",
              "  quickchartButtonEl.style.display =\n",
              "    google.colab.kernel.accessAllowed ? 'block' : 'none';\n",
              "}\n",
              "\n",
              "        displayQuickchartButton(document);\n",
              "      </script>\n",
              "      <style>\n",
              "    .colab-df-container {\n",
              "      display:flex;\n",
              "      flex-wrap:wrap;\n",
              "      gap: 12px;\n",
              "    }\n",
              "\n",
              "    .colab-df-convert {\n",
              "      background-color: #E8F0FE;\n",
              "      border: none;\n",
              "      border-radius: 50%;\n",
              "      cursor: pointer;\n",
              "      display: none;\n",
              "      fill: #1967D2;\n",
              "      height: 32px;\n",
              "      padding: 0 0 0 0;\n",
              "      width: 32px;\n",
              "    }\n",
              "\n",
              "    .colab-df-convert:hover {\n",
              "      background-color: #E2EBFA;\n",
              "      box-shadow: 0px 1px 2px rgba(60, 64, 67, 0.3), 0px 1px 3px 1px rgba(60, 64, 67, 0.15);\n",
              "      fill: #174EA6;\n",
              "    }\n",
              "\n",
              "    [theme=dark] .colab-df-convert {\n",
              "      background-color: #3B4455;\n",
              "      fill: #D2E3FC;\n",
              "    }\n",
              "\n",
              "    [theme=dark] .colab-df-convert:hover {\n",
              "      background-color: #434B5C;\n",
              "      box-shadow: 0px 1px 3px 1px rgba(0, 0, 0, 0.15);\n",
              "      filter: drop-shadow(0px 1px 2px rgba(0, 0, 0, 0.3));\n",
              "      fill: #FFFFFF;\n",
              "    }\n",
              "  </style>\n",
              "\n",
              "      <script>\n",
              "        const buttonEl =\n",
              "          document.querySelector('#df-d4810f1c-c6d7-4663-af39-522b7e5f56c7 button.colab-df-convert');\n",
              "        buttonEl.style.display =\n",
              "          google.colab.kernel.accessAllowed ? 'block' : 'none';\n",
              "\n",
              "        async function convertToInteractive(key) {\n",
              "          const element = document.querySelector('#df-d4810f1c-c6d7-4663-af39-522b7e5f56c7');\n",
              "          const dataTable =\n",
              "            await google.colab.kernel.invokeFunction('convertToInteractive',\n",
              "                                                     [key], {});\n",
              "          if (!dataTable) return;\n",
              "\n",
              "          const docLinkHtml = 'Like what you see? Visit the ' +\n",
              "            '<a target=\"_blank\" href=https://colab.research.google.com/notebooks/data_table.ipynb>data table notebook</a>'\n",
              "            + ' to learn more about interactive tables.';\n",
              "          element.innerHTML = '';\n",
              "          dataTable['output_type'] = 'display_data';\n",
              "          await google.colab.output.renderOutput(dataTable, element);\n",
              "          const docLink = document.createElement('div');\n",
              "          docLink.innerHTML = docLinkHtml;\n",
              "          element.appendChild(docLink);\n",
              "        }\n",
              "      </script>\n",
              "    </div>\n",
              "  </div>\n"
            ]
          },
          "metadata": {},
          "execution_count": 2
        }
      ]
    },
    {
      "cell_type": "code",
      "source": [
        "df.rename(columns ={'iyear':'Year','imonth':'Month','iday':'Day','country_txt':'Country','provstate':'State','region_txt':'Region',\n",
        "                        'city':'City','latitude':'Latitude','longitude':'Longitude','attacktype1_txt':'AttackType','nkill':'Killed',\n",
        "                        'nwound':'Wounded','target1':'Target','summary':'Summary','gname':'Group','targtype1_txt':'Target_type',\n",
        "                        'weaptype1_txt':'Weapon_type','weapdetail':'Weapon_Detail','success':'Success','targsubtype1_txt':'Sub_Target',\n",
        "                        'natlty1_txt':'Nationality','multiple':'Multiple','motive':'Motive','suicide':'Suicide'},inplace=True)"
      ],
      "metadata": {
        "id": "uemYE9p2dKLa"
      },
      "execution_count": 3,
      "outputs": []
    },
    {
      "cell_type": "code",
      "source": [
        "gtd_df= df[['Year','Month','Day','Country','State','Region','City','Latitude','Longitude','AttackType','Killed',\n",
        "               'Wounded','Target','Summary','Group','Target_type','Weapon_type','Weapon_Detail','Success','Multiple','Nationality','Sub_Target','Motive','Suicide']]"
      ],
      "metadata": {
        "id": "jl_unCypdJ6z"
      },
      "execution_count": 4,
      "outputs": []
    },
    {
      "cell_type": "code",
      "source": [
        "import pandas as pd\n",
        "pd.set_option('display.max_rows', None)\n",
        "pd.set_option('display.max_columns', None)\n",
        "gtd_df.head()"
      ],
      "metadata": {
        "colab": {
          "base_uri": "https://localhost:8080/",
          "height": 409
        },
        "id": "_8HKaeXI94ZS",
        "outputId": "469f51ba-07a2-44e2-8308-a63600da6cdb"
      },
      "execution_count": 5,
      "outputs": [
        {
          "output_type": "execute_result",
          "data": {
            "text/plain": [
              "   Year  Month  Day             Country    State                       Region  \\\n",
              "0  1970      7    2  Dominican Republic      NaN  Central America & Caribbean   \n",
              "1  1970      0    0              Mexico  Federal                North America   \n",
              "2  1970      1    0         Philippines   Tarlac               Southeast Asia   \n",
              "3  1970      1    0              Greece   Attica               Western Europe   \n",
              "4  1970      1    0               Japan  Fukouka                    East Asia   \n",
              "\n",
              "            City   Latitude   Longitude                      AttackType  \\\n",
              "0  Santo Domingo  18.456792  -69.951164                   Assassination   \n",
              "1    Mexico city  19.371887  -99.086624     Hostage Taking (Kidnapping)   \n",
              "2        Unknown  15.478598  120.599741                   Assassination   \n",
              "3         Athens  37.997490   23.762728               Bombing/Explosion   \n",
              "4        Fukouka  33.580412  130.396361  Facility/Infrastructure Attack   \n",
              "\n",
              "   Killed  Wounded                   Target Summary  \\\n",
              "0     1.0      0.0             Julio Guzman     NaN   \n",
              "1     0.0      0.0  Nadine Chaval, daughter     NaN   \n",
              "2     1.0      0.0                 Employee     NaN   \n",
              "3     NaN      NaN             U.S. Embassy     NaN   \n",
              "4     NaN      NaN           U.S. Consulate     NaN   \n",
              "\n",
              "                                Group                  Target_type  \\\n",
              "0                              MANO-D  Private Citizens & Property   \n",
              "1  23rd of September Communist League      Government (Diplomatic)   \n",
              "2                             Unknown          Journalists & Media   \n",
              "3                             Unknown      Government (Diplomatic)   \n",
              "4                             Unknown      Government (Diplomatic)   \n",
              "\n",
              "  Weapon_type Weapon_Detail  Success  Multiple         Nationality  \\\n",
              "0     Unknown           NaN        1       0.0  Dominican Republic   \n",
              "1     Unknown           NaN        1       0.0             Belgium   \n",
              "2     Unknown           NaN        1       0.0       United States   \n",
              "3  Explosives     Explosive        1       0.0       United States   \n",
              "4  Incendiary    Incendiary        1       0.0       United States   \n",
              "\n",
              "                                          Sub_Target Motive  Suicide  \n",
              "0                                     Named Civilian    NaN        0  \n",
              "1  Diplomatic Personnel (outside of embassy, cons...    NaN        0  \n",
              "2                    Radio Journalist/Staff/Facility    NaN        0  \n",
              "3                                  Embassy/Consulate    NaN        0  \n",
              "4                                  Embassy/Consulate    NaN        0  "
            ],
            "text/html": [
              "\n",
              "\n",
              "  <div id=\"df-82af7ddd-7422-40a8-bb83-f254e7ade17d\">\n",
              "    <div class=\"colab-df-container\">\n",
              "      <div>\n",
              "<style scoped>\n",
              "    .dataframe tbody tr th:only-of-type {\n",
              "        vertical-align: middle;\n",
              "    }\n",
              "\n",
              "    .dataframe tbody tr th {\n",
              "        vertical-align: top;\n",
              "    }\n",
              "\n",
              "    .dataframe thead th {\n",
              "        text-align: right;\n",
              "    }\n",
              "</style>\n",
              "<table border=\"1\" class=\"dataframe\">\n",
              "  <thead>\n",
              "    <tr style=\"text-align: right;\">\n",
              "      <th></th>\n",
              "      <th>Year</th>\n",
              "      <th>Month</th>\n",
              "      <th>Day</th>\n",
              "      <th>Country</th>\n",
              "      <th>State</th>\n",
              "      <th>Region</th>\n",
              "      <th>City</th>\n",
              "      <th>Latitude</th>\n",
              "      <th>Longitude</th>\n",
              "      <th>AttackType</th>\n",
              "      <th>Killed</th>\n",
              "      <th>Wounded</th>\n",
              "      <th>Target</th>\n",
              "      <th>Summary</th>\n",
              "      <th>Group</th>\n",
              "      <th>Target_type</th>\n",
              "      <th>Weapon_type</th>\n",
              "      <th>Weapon_Detail</th>\n",
              "      <th>Success</th>\n",
              "      <th>Multiple</th>\n",
              "      <th>Nationality</th>\n",
              "      <th>Sub_Target</th>\n",
              "      <th>Motive</th>\n",
              "      <th>Suicide</th>\n",
              "    </tr>\n",
              "  </thead>\n",
              "  <tbody>\n",
              "    <tr>\n",
              "      <th>0</th>\n",
              "      <td>1970</td>\n",
              "      <td>7</td>\n",
              "      <td>2</td>\n",
              "      <td>Dominican Republic</td>\n",
              "      <td>NaN</td>\n",
              "      <td>Central America &amp; Caribbean</td>\n",
              "      <td>Santo Domingo</td>\n",
              "      <td>18.456792</td>\n",
              "      <td>-69.951164</td>\n",
              "      <td>Assassination</td>\n",
              "      <td>1.0</td>\n",
              "      <td>0.0</td>\n",
              "      <td>Julio Guzman</td>\n",
              "      <td>NaN</td>\n",
              "      <td>MANO-D</td>\n",
              "      <td>Private Citizens &amp; Property</td>\n",
              "      <td>Unknown</td>\n",
              "      <td>NaN</td>\n",
              "      <td>1</td>\n",
              "      <td>0.0</td>\n",
              "      <td>Dominican Republic</td>\n",
              "      <td>Named Civilian</td>\n",
              "      <td>NaN</td>\n",
              "      <td>0</td>\n",
              "    </tr>\n",
              "    <tr>\n",
              "      <th>1</th>\n",
              "      <td>1970</td>\n",
              "      <td>0</td>\n",
              "      <td>0</td>\n",
              "      <td>Mexico</td>\n",
              "      <td>Federal</td>\n",
              "      <td>North America</td>\n",
              "      <td>Mexico city</td>\n",
              "      <td>19.371887</td>\n",
              "      <td>-99.086624</td>\n",
              "      <td>Hostage Taking (Kidnapping)</td>\n",
              "      <td>0.0</td>\n",
              "      <td>0.0</td>\n",
              "      <td>Nadine Chaval, daughter</td>\n",
              "      <td>NaN</td>\n",
              "      <td>23rd of September Communist League</td>\n",
              "      <td>Government (Diplomatic)</td>\n",
              "      <td>Unknown</td>\n",
              "      <td>NaN</td>\n",
              "      <td>1</td>\n",
              "      <td>0.0</td>\n",
              "      <td>Belgium</td>\n",
              "      <td>Diplomatic Personnel (outside of embassy, cons...</td>\n",
              "      <td>NaN</td>\n",
              "      <td>0</td>\n",
              "    </tr>\n",
              "    <tr>\n",
              "      <th>2</th>\n",
              "      <td>1970</td>\n",
              "      <td>1</td>\n",
              "      <td>0</td>\n",
              "      <td>Philippines</td>\n",
              "      <td>Tarlac</td>\n",
              "      <td>Southeast Asia</td>\n",
              "      <td>Unknown</td>\n",
              "      <td>15.478598</td>\n",
              "      <td>120.599741</td>\n",
              "      <td>Assassination</td>\n",
              "      <td>1.0</td>\n",
              "      <td>0.0</td>\n",
              "      <td>Employee</td>\n",
              "      <td>NaN</td>\n",
              "      <td>Unknown</td>\n",
              "      <td>Journalists &amp; Media</td>\n",
              "      <td>Unknown</td>\n",
              "      <td>NaN</td>\n",
              "      <td>1</td>\n",
              "      <td>0.0</td>\n",
              "      <td>United States</td>\n",
              "      <td>Radio Journalist/Staff/Facility</td>\n",
              "      <td>NaN</td>\n",
              "      <td>0</td>\n",
              "    </tr>\n",
              "    <tr>\n",
              "      <th>3</th>\n",
              "      <td>1970</td>\n",
              "      <td>1</td>\n",
              "      <td>0</td>\n",
              "      <td>Greece</td>\n",
              "      <td>Attica</td>\n",
              "      <td>Western Europe</td>\n",
              "      <td>Athens</td>\n",
              "      <td>37.997490</td>\n",
              "      <td>23.762728</td>\n",
              "      <td>Bombing/Explosion</td>\n",
              "      <td>NaN</td>\n",
              "      <td>NaN</td>\n",
              "      <td>U.S. Embassy</td>\n",
              "      <td>NaN</td>\n",
              "      <td>Unknown</td>\n",
              "      <td>Government (Diplomatic)</td>\n",
              "      <td>Explosives</td>\n",
              "      <td>Explosive</td>\n",
              "      <td>1</td>\n",
              "      <td>0.0</td>\n",
              "      <td>United States</td>\n",
              "      <td>Embassy/Consulate</td>\n",
              "      <td>NaN</td>\n",
              "      <td>0</td>\n",
              "    </tr>\n",
              "    <tr>\n",
              "      <th>4</th>\n",
              "      <td>1970</td>\n",
              "      <td>1</td>\n",
              "      <td>0</td>\n",
              "      <td>Japan</td>\n",
              "      <td>Fukouka</td>\n",
              "      <td>East Asia</td>\n",
              "      <td>Fukouka</td>\n",
              "      <td>33.580412</td>\n",
              "      <td>130.396361</td>\n",
              "      <td>Facility/Infrastructure Attack</td>\n",
              "      <td>NaN</td>\n",
              "      <td>NaN</td>\n",
              "      <td>U.S. Consulate</td>\n",
              "      <td>NaN</td>\n",
              "      <td>Unknown</td>\n",
              "      <td>Government (Diplomatic)</td>\n",
              "      <td>Incendiary</td>\n",
              "      <td>Incendiary</td>\n",
              "      <td>1</td>\n",
              "      <td>0.0</td>\n",
              "      <td>United States</td>\n",
              "      <td>Embassy/Consulate</td>\n",
              "      <td>NaN</td>\n",
              "      <td>0</td>\n",
              "    </tr>\n",
              "  </tbody>\n",
              "</table>\n",
              "</div>\n",
              "      <button class=\"colab-df-convert\" onclick=\"convertToInteractive('df-82af7ddd-7422-40a8-bb83-f254e7ade17d')\"\n",
              "              title=\"Convert this dataframe to an interactive table.\"\n",
              "              style=\"display:none;\">\n",
              "\n",
              "  <svg xmlns=\"http://www.w3.org/2000/svg\" height=\"24px\"viewBox=\"0 0 24 24\"\n",
              "       width=\"24px\">\n",
              "    <path d=\"M0 0h24v24H0V0z\" fill=\"none\"/>\n",
              "    <path d=\"M18.56 5.44l.94 2.06.94-2.06 2.06-.94-2.06-.94-.94-2.06-.94 2.06-2.06.94zm-11 1L8.5 8.5l.94-2.06 2.06-.94-2.06-.94L8.5 2.5l-.94 2.06-2.06.94zm10 10l.94 2.06.94-2.06 2.06-.94-2.06-.94-.94-2.06-.94 2.06-2.06.94z\"/><path d=\"M17.41 7.96l-1.37-1.37c-.4-.4-.92-.59-1.43-.59-.52 0-1.04.2-1.43.59L10.3 9.45l-7.72 7.72c-.78.78-.78 2.05 0 2.83L4 21.41c.39.39.9.59 1.41.59.51 0 1.02-.2 1.41-.59l7.78-7.78 2.81-2.81c.8-.78.8-2.07 0-2.86zM5.41 20L4 18.59l7.72-7.72 1.47 1.35L5.41 20z\"/>\n",
              "  </svg>\n",
              "      </button>\n",
              "\n",
              "\n",
              "\n",
              "    <div id=\"df-b3fa70e8-380b-4095-bb52-fe309eb51247\">\n",
              "      <button class=\"colab-df-quickchart\" onclick=\"quickchart('df-b3fa70e8-380b-4095-bb52-fe309eb51247')\"\n",
              "              title=\"Suggest charts.\"\n",
              "              style=\"display:none;\">\n",
              "\n",
              "<svg xmlns=\"http://www.w3.org/2000/svg\" height=\"24px\"viewBox=\"0 0 24 24\"\n",
              "     width=\"24px\">\n",
              "    <g>\n",
              "        <path d=\"M19 3H5c-1.1 0-2 .9-2 2v14c0 1.1.9 2 2 2h14c1.1 0 2-.9 2-2V5c0-1.1-.9-2-2-2zM9 17H7v-7h2v7zm4 0h-2V7h2v10zm4 0h-2v-4h2v4z\"/>\n",
              "    </g>\n",
              "</svg>\n",
              "      </button>\n",
              "    </div>\n",
              "\n",
              "<style>\n",
              "  .colab-df-quickchart {\n",
              "    background-color: #E8F0FE;\n",
              "    border: none;\n",
              "    border-radius: 50%;\n",
              "    cursor: pointer;\n",
              "    display: none;\n",
              "    fill: #1967D2;\n",
              "    height: 32px;\n",
              "    padding: 0 0 0 0;\n",
              "    width: 32px;\n",
              "  }\n",
              "\n",
              "  .colab-df-quickchart:hover {\n",
              "    background-color: #E2EBFA;\n",
              "    box-shadow: 0px 1px 2px rgba(60, 64, 67, 0.3), 0px 1px 3px 1px rgba(60, 64, 67, 0.15);\n",
              "    fill: #174EA6;\n",
              "  }\n",
              "\n",
              "  [theme=dark] .colab-df-quickchart {\n",
              "    background-color: #3B4455;\n",
              "    fill: #D2E3FC;\n",
              "  }\n",
              "\n",
              "  [theme=dark] .colab-df-quickchart:hover {\n",
              "    background-color: #434B5C;\n",
              "    box-shadow: 0px 1px 3px 1px rgba(0, 0, 0, 0.15);\n",
              "    filter: drop-shadow(0px 1px 2px rgba(0, 0, 0, 0.3));\n",
              "    fill: #FFFFFF;\n",
              "  }\n",
              "</style>\n",
              "\n",
              "    <script>\n",
              "      async function quickchart(key) {\n",
              "        const containerElement = document.querySelector('#' + key);\n",
              "        const charts = await google.colab.kernel.invokeFunction(\n",
              "            'suggestCharts', [key], {});\n",
              "      }\n",
              "    </script>\n",
              "\n",
              "      <script>\n",
              "\n",
              "function displayQuickchartButton(domScope) {\n",
              "  let quickchartButtonEl =\n",
              "    domScope.querySelector('#df-b3fa70e8-380b-4095-bb52-fe309eb51247 button.colab-df-quickchart');\n",
              "  quickchartButtonEl.style.display =\n",
              "    google.colab.kernel.accessAllowed ? 'block' : 'none';\n",
              "}\n",
              "\n",
              "        displayQuickchartButton(document);\n",
              "      </script>\n",
              "      <style>\n",
              "    .colab-df-container {\n",
              "      display:flex;\n",
              "      flex-wrap:wrap;\n",
              "      gap: 12px;\n",
              "    }\n",
              "\n",
              "    .colab-df-convert {\n",
              "      background-color: #E8F0FE;\n",
              "      border: none;\n",
              "      border-radius: 50%;\n",
              "      cursor: pointer;\n",
              "      display: none;\n",
              "      fill: #1967D2;\n",
              "      height: 32px;\n",
              "      padding: 0 0 0 0;\n",
              "      width: 32px;\n",
              "    }\n",
              "\n",
              "    .colab-df-convert:hover {\n",
              "      background-color: #E2EBFA;\n",
              "      box-shadow: 0px 1px 2px rgba(60, 64, 67, 0.3), 0px 1px 3px 1px rgba(60, 64, 67, 0.15);\n",
              "      fill: #174EA6;\n",
              "    }\n",
              "\n",
              "    [theme=dark] .colab-df-convert {\n",
              "      background-color: #3B4455;\n",
              "      fill: #D2E3FC;\n",
              "    }\n",
              "\n",
              "    [theme=dark] .colab-df-convert:hover {\n",
              "      background-color: #434B5C;\n",
              "      box-shadow: 0px 1px 3px 1px rgba(0, 0, 0, 0.15);\n",
              "      filter: drop-shadow(0px 1px 2px rgba(0, 0, 0, 0.3));\n",
              "      fill: #FFFFFF;\n",
              "    }\n",
              "  </style>\n",
              "\n",
              "      <script>\n",
              "        const buttonEl =\n",
              "          document.querySelector('#df-82af7ddd-7422-40a8-bb83-f254e7ade17d button.colab-df-convert');\n",
              "        buttonEl.style.display =\n",
              "          google.colab.kernel.accessAllowed ? 'block' : 'none';\n",
              "\n",
              "        async function convertToInteractive(key) {\n",
              "          const element = document.querySelector('#df-82af7ddd-7422-40a8-bb83-f254e7ade17d');\n",
              "          const dataTable =\n",
              "            await google.colab.kernel.invokeFunction('convertToInteractive',\n",
              "                                                     [key], {});\n",
              "          if (!dataTable) return;\n",
              "\n",
              "          const docLinkHtml = 'Like what you see? Visit the ' +\n",
              "            '<a target=\"_blank\" href=https://colab.research.google.com/notebooks/data_table.ipynb>data table notebook</a>'\n",
              "            + ' to learn more about interactive tables.';\n",
              "          element.innerHTML = '';\n",
              "          dataTable['output_type'] = 'display_data';\n",
              "          await google.colab.output.renderOutput(dataTable, element);\n",
              "          const docLink = document.createElement('div');\n",
              "          docLink.innerHTML = docLinkHtml;\n",
              "          element.appendChild(docLink);\n",
              "        }\n",
              "      </script>\n",
              "    </div>\n",
              "  </div>\n"
            ]
          },
          "metadata": {},
          "execution_count": 5
        }
      ]
    },
    {
      "cell_type": "markdown",
      "source": [
        "### Dataset First View"
      ],
      "metadata": {
        "id": "x71ZqKXriCWQ"
      }
    },
    {
      "cell_type": "code",
      "source": [
        "# Dataset First Look\n",
        "print(\"top 5 rows of the dataframe: \")\n",
        "gtd_df.head()"
      ],
      "metadata": {
        "id": "LWNFOSvLl09H",
        "colab": {
          "base_uri": "https://localhost:8080/",
          "height": 427
        },
        "outputId": "e23d523a-bfd7-4fa2-e77c-3b4ec49add38"
      },
      "execution_count": 6,
      "outputs": [
        {
          "output_type": "stream",
          "name": "stdout",
          "text": [
            "top 5 rows of the dataframe: \n"
          ]
        },
        {
          "output_type": "execute_result",
          "data": {
            "text/plain": [
              "   Year  Month  Day             Country    State                       Region  \\\n",
              "0  1970      7    2  Dominican Republic      NaN  Central America & Caribbean   \n",
              "1  1970      0    0              Mexico  Federal                North America   \n",
              "2  1970      1    0         Philippines   Tarlac               Southeast Asia   \n",
              "3  1970      1    0              Greece   Attica               Western Europe   \n",
              "4  1970      1    0               Japan  Fukouka                    East Asia   \n",
              "\n",
              "            City   Latitude   Longitude                      AttackType  \\\n",
              "0  Santo Domingo  18.456792  -69.951164                   Assassination   \n",
              "1    Mexico city  19.371887  -99.086624     Hostage Taking (Kidnapping)   \n",
              "2        Unknown  15.478598  120.599741                   Assassination   \n",
              "3         Athens  37.997490   23.762728               Bombing/Explosion   \n",
              "4        Fukouka  33.580412  130.396361  Facility/Infrastructure Attack   \n",
              "\n",
              "   Killed  Wounded                   Target Summary  \\\n",
              "0     1.0      0.0             Julio Guzman     NaN   \n",
              "1     0.0      0.0  Nadine Chaval, daughter     NaN   \n",
              "2     1.0      0.0                 Employee     NaN   \n",
              "3     NaN      NaN             U.S. Embassy     NaN   \n",
              "4     NaN      NaN           U.S. Consulate     NaN   \n",
              "\n",
              "                                Group                  Target_type  \\\n",
              "0                              MANO-D  Private Citizens & Property   \n",
              "1  23rd of September Communist League      Government (Diplomatic)   \n",
              "2                             Unknown          Journalists & Media   \n",
              "3                             Unknown      Government (Diplomatic)   \n",
              "4                             Unknown      Government (Diplomatic)   \n",
              "\n",
              "  Weapon_type Weapon_Detail  Success  Multiple         Nationality  \\\n",
              "0     Unknown           NaN        1       0.0  Dominican Republic   \n",
              "1     Unknown           NaN        1       0.0             Belgium   \n",
              "2     Unknown           NaN        1       0.0       United States   \n",
              "3  Explosives     Explosive        1       0.0       United States   \n",
              "4  Incendiary    Incendiary        1       0.0       United States   \n",
              "\n",
              "                                          Sub_Target Motive  Suicide  \n",
              "0                                     Named Civilian    NaN        0  \n",
              "1  Diplomatic Personnel (outside of embassy, cons...    NaN        0  \n",
              "2                    Radio Journalist/Staff/Facility    NaN        0  \n",
              "3                                  Embassy/Consulate    NaN        0  \n",
              "4                                  Embassy/Consulate    NaN        0  "
            ],
            "text/html": [
              "\n",
              "\n",
              "  <div id=\"df-dedcf381-472f-4eb0-b762-9efc26f376b4\">\n",
              "    <div class=\"colab-df-container\">\n",
              "      <div>\n",
              "<style scoped>\n",
              "    .dataframe tbody tr th:only-of-type {\n",
              "        vertical-align: middle;\n",
              "    }\n",
              "\n",
              "    .dataframe tbody tr th {\n",
              "        vertical-align: top;\n",
              "    }\n",
              "\n",
              "    .dataframe thead th {\n",
              "        text-align: right;\n",
              "    }\n",
              "</style>\n",
              "<table border=\"1\" class=\"dataframe\">\n",
              "  <thead>\n",
              "    <tr style=\"text-align: right;\">\n",
              "      <th></th>\n",
              "      <th>Year</th>\n",
              "      <th>Month</th>\n",
              "      <th>Day</th>\n",
              "      <th>Country</th>\n",
              "      <th>State</th>\n",
              "      <th>Region</th>\n",
              "      <th>City</th>\n",
              "      <th>Latitude</th>\n",
              "      <th>Longitude</th>\n",
              "      <th>AttackType</th>\n",
              "      <th>Killed</th>\n",
              "      <th>Wounded</th>\n",
              "      <th>Target</th>\n",
              "      <th>Summary</th>\n",
              "      <th>Group</th>\n",
              "      <th>Target_type</th>\n",
              "      <th>Weapon_type</th>\n",
              "      <th>Weapon_Detail</th>\n",
              "      <th>Success</th>\n",
              "      <th>Multiple</th>\n",
              "      <th>Nationality</th>\n",
              "      <th>Sub_Target</th>\n",
              "      <th>Motive</th>\n",
              "      <th>Suicide</th>\n",
              "    </tr>\n",
              "  </thead>\n",
              "  <tbody>\n",
              "    <tr>\n",
              "      <th>0</th>\n",
              "      <td>1970</td>\n",
              "      <td>7</td>\n",
              "      <td>2</td>\n",
              "      <td>Dominican Republic</td>\n",
              "      <td>NaN</td>\n",
              "      <td>Central America &amp; Caribbean</td>\n",
              "      <td>Santo Domingo</td>\n",
              "      <td>18.456792</td>\n",
              "      <td>-69.951164</td>\n",
              "      <td>Assassination</td>\n",
              "      <td>1.0</td>\n",
              "      <td>0.0</td>\n",
              "      <td>Julio Guzman</td>\n",
              "      <td>NaN</td>\n",
              "      <td>MANO-D</td>\n",
              "      <td>Private Citizens &amp; Property</td>\n",
              "      <td>Unknown</td>\n",
              "      <td>NaN</td>\n",
              "      <td>1</td>\n",
              "      <td>0.0</td>\n",
              "      <td>Dominican Republic</td>\n",
              "      <td>Named Civilian</td>\n",
              "      <td>NaN</td>\n",
              "      <td>0</td>\n",
              "    </tr>\n",
              "    <tr>\n",
              "      <th>1</th>\n",
              "      <td>1970</td>\n",
              "      <td>0</td>\n",
              "      <td>0</td>\n",
              "      <td>Mexico</td>\n",
              "      <td>Federal</td>\n",
              "      <td>North America</td>\n",
              "      <td>Mexico city</td>\n",
              "      <td>19.371887</td>\n",
              "      <td>-99.086624</td>\n",
              "      <td>Hostage Taking (Kidnapping)</td>\n",
              "      <td>0.0</td>\n",
              "      <td>0.0</td>\n",
              "      <td>Nadine Chaval, daughter</td>\n",
              "      <td>NaN</td>\n",
              "      <td>23rd of September Communist League</td>\n",
              "      <td>Government (Diplomatic)</td>\n",
              "      <td>Unknown</td>\n",
              "      <td>NaN</td>\n",
              "      <td>1</td>\n",
              "      <td>0.0</td>\n",
              "      <td>Belgium</td>\n",
              "      <td>Diplomatic Personnel (outside of embassy, cons...</td>\n",
              "      <td>NaN</td>\n",
              "      <td>0</td>\n",
              "    </tr>\n",
              "    <tr>\n",
              "      <th>2</th>\n",
              "      <td>1970</td>\n",
              "      <td>1</td>\n",
              "      <td>0</td>\n",
              "      <td>Philippines</td>\n",
              "      <td>Tarlac</td>\n",
              "      <td>Southeast Asia</td>\n",
              "      <td>Unknown</td>\n",
              "      <td>15.478598</td>\n",
              "      <td>120.599741</td>\n",
              "      <td>Assassination</td>\n",
              "      <td>1.0</td>\n",
              "      <td>0.0</td>\n",
              "      <td>Employee</td>\n",
              "      <td>NaN</td>\n",
              "      <td>Unknown</td>\n",
              "      <td>Journalists &amp; Media</td>\n",
              "      <td>Unknown</td>\n",
              "      <td>NaN</td>\n",
              "      <td>1</td>\n",
              "      <td>0.0</td>\n",
              "      <td>United States</td>\n",
              "      <td>Radio Journalist/Staff/Facility</td>\n",
              "      <td>NaN</td>\n",
              "      <td>0</td>\n",
              "    </tr>\n",
              "    <tr>\n",
              "      <th>3</th>\n",
              "      <td>1970</td>\n",
              "      <td>1</td>\n",
              "      <td>0</td>\n",
              "      <td>Greece</td>\n",
              "      <td>Attica</td>\n",
              "      <td>Western Europe</td>\n",
              "      <td>Athens</td>\n",
              "      <td>37.997490</td>\n",
              "      <td>23.762728</td>\n",
              "      <td>Bombing/Explosion</td>\n",
              "      <td>NaN</td>\n",
              "      <td>NaN</td>\n",
              "      <td>U.S. Embassy</td>\n",
              "      <td>NaN</td>\n",
              "      <td>Unknown</td>\n",
              "      <td>Government (Diplomatic)</td>\n",
              "      <td>Explosives</td>\n",
              "      <td>Explosive</td>\n",
              "      <td>1</td>\n",
              "      <td>0.0</td>\n",
              "      <td>United States</td>\n",
              "      <td>Embassy/Consulate</td>\n",
              "      <td>NaN</td>\n",
              "      <td>0</td>\n",
              "    </tr>\n",
              "    <tr>\n",
              "      <th>4</th>\n",
              "      <td>1970</td>\n",
              "      <td>1</td>\n",
              "      <td>0</td>\n",
              "      <td>Japan</td>\n",
              "      <td>Fukouka</td>\n",
              "      <td>East Asia</td>\n",
              "      <td>Fukouka</td>\n",
              "      <td>33.580412</td>\n",
              "      <td>130.396361</td>\n",
              "      <td>Facility/Infrastructure Attack</td>\n",
              "      <td>NaN</td>\n",
              "      <td>NaN</td>\n",
              "      <td>U.S. Consulate</td>\n",
              "      <td>NaN</td>\n",
              "      <td>Unknown</td>\n",
              "      <td>Government (Diplomatic)</td>\n",
              "      <td>Incendiary</td>\n",
              "      <td>Incendiary</td>\n",
              "      <td>1</td>\n",
              "      <td>0.0</td>\n",
              "      <td>United States</td>\n",
              "      <td>Embassy/Consulate</td>\n",
              "      <td>NaN</td>\n",
              "      <td>0</td>\n",
              "    </tr>\n",
              "  </tbody>\n",
              "</table>\n",
              "</div>\n",
              "      <button class=\"colab-df-convert\" onclick=\"convertToInteractive('df-dedcf381-472f-4eb0-b762-9efc26f376b4')\"\n",
              "              title=\"Convert this dataframe to an interactive table.\"\n",
              "              style=\"display:none;\">\n",
              "\n",
              "  <svg xmlns=\"http://www.w3.org/2000/svg\" height=\"24px\"viewBox=\"0 0 24 24\"\n",
              "       width=\"24px\">\n",
              "    <path d=\"M0 0h24v24H0V0z\" fill=\"none\"/>\n",
              "    <path d=\"M18.56 5.44l.94 2.06.94-2.06 2.06-.94-2.06-.94-.94-2.06-.94 2.06-2.06.94zm-11 1L8.5 8.5l.94-2.06 2.06-.94-2.06-.94L8.5 2.5l-.94 2.06-2.06.94zm10 10l.94 2.06.94-2.06 2.06-.94-2.06-.94-.94-2.06-.94 2.06-2.06.94z\"/><path d=\"M17.41 7.96l-1.37-1.37c-.4-.4-.92-.59-1.43-.59-.52 0-1.04.2-1.43.59L10.3 9.45l-7.72 7.72c-.78.78-.78 2.05 0 2.83L4 21.41c.39.39.9.59 1.41.59.51 0 1.02-.2 1.41-.59l7.78-7.78 2.81-2.81c.8-.78.8-2.07 0-2.86zM5.41 20L4 18.59l7.72-7.72 1.47 1.35L5.41 20z\"/>\n",
              "  </svg>\n",
              "      </button>\n",
              "\n",
              "\n",
              "\n",
              "    <div id=\"df-88f96a84-3e16-4d6a-9a6d-610686446b6a\">\n",
              "      <button class=\"colab-df-quickchart\" onclick=\"quickchart('df-88f96a84-3e16-4d6a-9a6d-610686446b6a')\"\n",
              "              title=\"Suggest charts.\"\n",
              "              style=\"display:none;\">\n",
              "\n",
              "<svg xmlns=\"http://www.w3.org/2000/svg\" height=\"24px\"viewBox=\"0 0 24 24\"\n",
              "     width=\"24px\">\n",
              "    <g>\n",
              "        <path d=\"M19 3H5c-1.1 0-2 .9-2 2v14c0 1.1.9 2 2 2h14c1.1 0 2-.9 2-2V5c0-1.1-.9-2-2-2zM9 17H7v-7h2v7zm4 0h-2V7h2v10zm4 0h-2v-4h2v4z\"/>\n",
              "    </g>\n",
              "</svg>\n",
              "      </button>\n",
              "    </div>\n",
              "\n",
              "<style>\n",
              "  .colab-df-quickchart {\n",
              "    background-color: #E8F0FE;\n",
              "    border: none;\n",
              "    border-radius: 50%;\n",
              "    cursor: pointer;\n",
              "    display: none;\n",
              "    fill: #1967D2;\n",
              "    height: 32px;\n",
              "    padding: 0 0 0 0;\n",
              "    width: 32px;\n",
              "  }\n",
              "\n",
              "  .colab-df-quickchart:hover {\n",
              "    background-color: #E2EBFA;\n",
              "    box-shadow: 0px 1px 2px rgba(60, 64, 67, 0.3), 0px 1px 3px 1px rgba(60, 64, 67, 0.15);\n",
              "    fill: #174EA6;\n",
              "  }\n",
              "\n",
              "  [theme=dark] .colab-df-quickchart {\n",
              "    background-color: #3B4455;\n",
              "    fill: #D2E3FC;\n",
              "  }\n",
              "\n",
              "  [theme=dark] .colab-df-quickchart:hover {\n",
              "    background-color: #434B5C;\n",
              "    box-shadow: 0px 1px 3px 1px rgba(0, 0, 0, 0.15);\n",
              "    filter: drop-shadow(0px 1px 2px rgba(0, 0, 0, 0.3));\n",
              "    fill: #FFFFFF;\n",
              "  }\n",
              "</style>\n",
              "\n",
              "    <script>\n",
              "      async function quickchart(key) {\n",
              "        const containerElement = document.querySelector('#' + key);\n",
              "        const charts = await google.colab.kernel.invokeFunction(\n",
              "            'suggestCharts', [key], {});\n",
              "      }\n",
              "    </script>\n",
              "\n",
              "      <script>\n",
              "\n",
              "function displayQuickchartButton(domScope) {\n",
              "  let quickchartButtonEl =\n",
              "    domScope.querySelector('#df-88f96a84-3e16-4d6a-9a6d-610686446b6a button.colab-df-quickchart');\n",
              "  quickchartButtonEl.style.display =\n",
              "    google.colab.kernel.accessAllowed ? 'block' : 'none';\n",
              "}\n",
              "\n",
              "        displayQuickchartButton(document);\n",
              "      </script>\n",
              "      <style>\n",
              "    .colab-df-container {\n",
              "      display:flex;\n",
              "      flex-wrap:wrap;\n",
              "      gap: 12px;\n",
              "    }\n",
              "\n",
              "    .colab-df-convert {\n",
              "      background-color: #E8F0FE;\n",
              "      border: none;\n",
              "      border-radius: 50%;\n",
              "      cursor: pointer;\n",
              "      display: none;\n",
              "      fill: #1967D2;\n",
              "      height: 32px;\n",
              "      padding: 0 0 0 0;\n",
              "      width: 32px;\n",
              "    }\n",
              "\n",
              "    .colab-df-convert:hover {\n",
              "      background-color: #E2EBFA;\n",
              "      box-shadow: 0px 1px 2px rgba(60, 64, 67, 0.3), 0px 1px 3px 1px rgba(60, 64, 67, 0.15);\n",
              "      fill: #174EA6;\n",
              "    }\n",
              "\n",
              "    [theme=dark] .colab-df-convert {\n",
              "      background-color: #3B4455;\n",
              "      fill: #D2E3FC;\n",
              "    }\n",
              "\n",
              "    [theme=dark] .colab-df-convert:hover {\n",
              "      background-color: #434B5C;\n",
              "      box-shadow: 0px 1px 3px 1px rgba(0, 0, 0, 0.15);\n",
              "      filter: drop-shadow(0px 1px 2px rgba(0, 0, 0, 0.3));\n",
              "      fill: #FFFFFF;\n",
              "    }\n",
              "  </style>\n",
              "\n",
              "      <script>\n",
              "        const buttonEl =\n",
              "          document.querySelector('#df-dedcf381-472f-4eb0-b762-9efc26f376b4 button.colab-df-convert');\n",
              "        buttonEl.style.display =\n",
              "          google.colab.kernel.accessAllowed ? 'block' : 'none';\n",
              "\n",
              "        async function convertToInteractive(key) {\n",
              "          const element = document.querySelector('#df-dedcf381-472f-4eb0-b762-9efc26f376b4');\n",
              "          const dataTable =\n",
              "            await google.colab.kernel.invokeFunction('convertToInteractive',\n",
              "                                                     [key], {});\n",
              "          if (!dataTable) return;\n",
              "\n",
              "          const docLinkHtml = 'Like what you see? Visit the ' +\n",
              "            '<a target=\"_blank\" href=https://colab.research.google.com/notebooks/data_table.ipynb>data table notebook</a>'\n",
              "            + ' to learn more about interactive tables.';\n",
              "          element.innerHTML = '';\n",
              "          dataTable['output_type'] = 'display_data';\n",
              "          await google.colab.output.renderOutput(dataTable, element);\n",
              "          const docLink = document.createElement('div');\n",
              "          docLink.innerHTML = docLinkHtml;\n",
              "          element.appendChild(docLink);\n",
              "        }\n",
              "      </script>\n",
              "    </div>\n",
              "  </div>\n"
            ]
          },
          "metadata": {},
          "execution_count": 6
        }
      ]
    },
    {
      "cell_type": "code",
      "source": [
        "gtd_df\n",
        "print(\"last 5 rows of the dataframe: \")\n",
        "gtd_df.tail()"
      ],
      "metadata": {
        "id": "eR1II-zl0qMp",
        "colab": {
          "base_uri": "https://localhost:8080/",
          "height": 618
        },
        "outputId": "422e1b44-8436-450e-8b28-9f9673ff6393"
      },
      "execution_count": 7,
      "outputs": [
        {
          "output_type": "stream",
          "name": "stdout",
          "text": [
            "last 5 rows of the dataframe: \n"
          ]
        },
        {
          "output_type": "execute_result",
          "data": {
            "text/plain": [
              "        Year  Month  Day      Country            State  \\\n",
              "181686  2017     12   31      Somalia  Middle Shebelle   \n",
              "181687  2017     12   31        Syria         Lattakia   \n",
              "181688  2017     12   31  Philippines      Maguindanao   \n",
              "181689  2017     12   31        India          Manipur   \n",
              "181690  2017     12   31  Philippines      Maguindanao   \n",
              "\n",
              "                            Region           City   Latitude   Longitude  \\\n",
              "181686          Sub-Saharan Africa  Ceelka Geelow   2.359673   45.385034   \n",
              "181687  Middle East & North Africa         Jableh  35.407278   35.942679   \n",
              "181688              Southeast Asia       Kubentog   6.900742  124.437908   \n",
              "181689                  South Asia         Imphal  24.798346   93.940430   \n",
              "181690              Southeast Asia  Cotabato City   7.209594  124.241966   \n",
              "\n",
              "                            AttackType  Killed  Wounded            Target  \\\n",
              "181686                   Armed Assault     1.0      2.0        Checkpoint   \n",
              "181687               Bombing/Explosion     2.0      7.0  Hmeymim Air Base   \n",
              "181688  Facility/Infrastructure Attack     0.0      0.0            Houses   \n",
              "181689               Bombing/Explosion     0.0      0.0            Office   \n",
              "181690               Bombing/Explosion     0.0      0.0           Unknown   \n",
              "\n",
              "                                                  Summary  \\\n",
              "181686  12/31/2017: Assailants opened fire on a Somali...   \n",
              "181687  12/31/2017: Assailants launched mortars at the...   \n",
              "181688  12/31/2017: Assailants set fire to houses in K...   \n",
              "181689  12/31/2017: Assailants threw a grenade at a Fo...   \n",
              "181690  12/31/2017: An explosive device was discovered...   \n",
              "\n",
              "                                             Group  \\\n",
              "181686                                  Al-Shabaab   \n",
              "181687                           Muslim extremists   \n",
              "181688  Bangsamoro Islamic Freedom Movement (BIFM)   \n",
              "181689                                     Unknown   \n",
              "181690                                     Unknown   \n",
              "\n",
              "                        Target_type Weapon_type  \\\n",
              "181686                     Military    Firearms   \n",
              "181687                     Military  Explosives   \n",
              "181688  Private Citizens & Property  Incendiary   \n",
              "181689         Government (General)  Explosives   \n",
              "181690                      Unknown  Explosives   \n",
              "\n",
              "                                            Weapon_Detail  Success  Multiple  \\\n",
              "181686                                                NaN        1       0.0   \n",
              "181687                   Mortars were used in the attack.        1       0.0   \n",
              "181688                                                NaN        1       0.0   \n",
              "181689           A thrown grenade was used in the attack.        0       0.0   \n",
              "181690  An explosive device containing a detonating co...        0       0.0   \n",
              "\n",
              "        Nationality                                     Sub_Target Motive  \\\n",
              "181686      Somalia                            Military Checkpoint    NaN   \n",
              "181687       Russia  Military Barracks/Base/Headquarters/Checkpost    NaN   \n",
              "181688  Philippines                      House/Apartment/Residence    NaN   \n",
              "181689        India            Government Building/Facility/Office    NaN   \n",
              "181690  Philippines                                            NaN    NaN   \n",
              "\n",
              "        Suicide  \n",
              "181686        0  \n",
              "181687        0  \n",
              "181688        0  \n",
              "181689        0  \n",
              "181690        0  "
            ],
            "text/html": [
              "\n",
              "\n",
              "  <div id=\"df-a4b80d21-1d05-428a-a3cc-099be0ead0f6\">\n",
              "    <div class=\"colab-df-container\">\n",
              "      <div>\n",
              "<style scoped>\n",
              "    .dataframe tbody tr th:only-of-type {\n",
              "        vertical-align: middle;\n",
              "    }\n",
              "\n",
              "    .dataframe tbody tr th {\n",
              "        vertical-align: top;\n",
              "    }\n",
              "\n",
              "    .dataframe thead th {\n",
              "        text-align: right;\n",
              "    }\n",
              "</style>\n",
              "<table border=\"1\" class=\"dataframe\">\n",
              "  <thead>\n",
              "    <tr style=\"text-align: right;\">\n",
              "      <th></th>\n",
              "      <th>Year</th>\n",
              "      <th>Month</th>\n",
              "      <th>Day</th>\n",
              "      <th>Country</th>\n",
              "      <th>State</th>\n",
              "      <th>Region</th>\n",
              "      <th>City</th>\n",
              "      <th>Latitude</th>\n",
              "      <th>Longitude</th>\n",
              "      <th>AttackType</th>\n",
              "      <th>Killed</th>\n",
              "      <th>Wounded</th>\n",
              "      <th>Target</th>\n",
              "      <th>Summary</th>\n",
              "      <th>Group</th>\n",
              "      <th>Target_type</th>\n",
              "      <th>Weapon_type</th>\n",
              "      <th>Weapon_Detail</th>\n",
              "      <th>Success</th>\n",
              "      <th>Multiple</th>\n",
              "      <th>Nationality</th>\n",
              "      <th>Sub_Target</th>\n",
              "      <th>Motive</th>\n",
              "      <th>Suicide</th>\n",
              "    </tr>\n",
              "  </thead>\n",
              "  <tbody>\n",
              "    <tr>\n",
              "      <th>181686</th>\n",
              "      <td>2017</td>\n",
              "      <td>12</td>\n",
              "      <td>31</td>\n",
              "      <td>Somalia</td>\n",
              "      <td>Middle Shebelle</td>\n",
              "      <td>Sub-Saharan Africa</td>\n",
              "      <td>Ceelka Geelow</td>\n",
              "      <td>2.359673</td>\n",
              "      <td>45.385034</td>\n",
              "      <td>Armed Assault</td>\n",
              "      <td>1.0</td>\n",
              "      <td>2.0</td>\n",
              "      <td>Checkpoint</td>\n",
              "      <td>12/31/2017: Assailants opened fire on a Somali...</td>\n",
              "      <td>Al-Shabaab</td>\n",
              "      <td>Military</td>\n",
              "      <td>Firearms</td>\n",
              "      <td>NaN</td>\n",
              "      <td>1</td>\n",
              "      <td>0.0</td>\n",
              "      <td>Somalia</td>\n",
              "      <td>Military Checkpoint</td>\n",
              "      <td>NaN</td>\n",
              "      <td>0</td>\n",
              "    </tr>\n",
              "    <tr>\n",
              "      <th>181687</th>\n",
              "      <td>2017</td>\n",
              "      <td>12</td>\n",
              "      <td>31</td>\n",
              "      <td>Syria</td>\n",
              "      <td>Lattakia</td>\n",
              "      <td>Middle East &amp; North Africa</td>\n",
              "      <td>Jableh</td>\n",
              "      <td>35.407278</td>\n",
              "      <td>35.942679</td>\n",
              "      <td>Bombing/Explosion</td>\n",
              "      <td>2.0</td>\n",
              "      <td>7.0</td>\n",
              "      <td>Hmeymim Air Base</td>\n",
              "      <td>12/31/2017: Assailants launched mortars at the...</td>\n",
              "      <td>Muslim extremists</td>\n",
              "      <td>Military</td>\n",
              "      <td>Explosives</td>\n",
              "      <td>Mortars were used in the attack.</td>\n",
              "      <td>1</td>\n",
              "      <td>0.0</td>\n",
              "      <td>Russia</td>\n",
              "      <td>Military Barracks/Base/Headquarters/Checkpost</td>\n",
              "      <td>NaN</td>\n",
              "      <td>0</td>\n",
              "    </tr>\n",
              "    <tr>\n",
              "      <th>181688</th>\n",
              "      <td>2017</td>\n",
              "      <td>12</td>\n",
              "      <td>31</td>\n",
              "      <td>Philippines</td>\n",
              "      <td>Maguindanao</td>\n",
              "      <td>Southeast Asia</td>\n",
              "      <td>Kubentog</td>\n",
              "      <td>6.900742</td>\n",
              "      <td>124.437908</td>\n",
              "      <td>Facility/Infrastructure Attack</td>\n",
              "      <td>0.0</td>\n",
              "      <td>0.0</td>\n",
              "      <td>Houses</td>\n",
              "      <td>12/31/2017: Assailants set fire to houses in K...</td>\n",
              "      <td>Bangsamoro Islamic Freedom Movement (BIFM)</td>\n",
              "      <td>Private Citizens &amp; Property</td>\n",
              "      <td>Incendiary</td>\n",
              "      <td>NaN</td>\n",
              "      <td>1</td>\n",
              "      <td>0.0</td>\n",
              "      <td>Philippines</td>\n",
              "      <td>House/Apartment/Residence</td>\n",
              "      <td>NaN</td>\n",
              "      <td>0</td>\n",
              "    </tr>\n",
              "    <tr>\n",
              "      <th>181689</th>\n",
              "      <td>2017</td>\n",
              "      <td>12</td>\n",
              "      <td>31</td>\n",
              "      <td>India</td>\n",
              "      <td>Manipur</td>\n",
              "      <td>South Asia</td>\n",
              "      <td>Imphal</td>\n",
              "      <td>24.798346</td>\n",
              "      <td>93.940430</td>\n",
              "      <td>Bombing/Explosion</td>\n",
              "      <td>0.0</td>\n",
              "      <td>0.0</td>\n",
              "      <td>Office</td>\n",
              "      <td>12/31/2017: Assailants threw a grenade at a Fo...</td>\n",
              "      <td>Unknown</td>\n",
              "      <td>Government (General)</td>\n",
              "      <td>Explosives</td>\n",
              "      <td>A thrown grenade was used in the attack.</td>\n",
              "      <td>0</td>\n",
              "      <td>0.0</td>\n",
              "      <td>India</td>\n",
              "      <td>Government Building/Facility/Office</td>\n",
              "      <td>NaN</td>\n",
              "      <td>0</td>\n",
              "    </tr>\n",
              "    <tr>\n",
              "      <th>181690</th>\n",
              "      <td>2017</td>\n",
              "      <td>12</td>\n",
              "      <td>31</td>\n",
              "      <td>Philippines</td>\n",
              "      <td>Maguindanao</td>\n",
              "      <td>Southeast Asia</td>\n",
              "      <td>Cotabato City</td>\n",
              "      <td>7.209594</td>\n",
              "      <td>124.241966</td>\n",
              "      <td>Bombing/Explosion</td>\n",
              "      <td>0.0</td>\n",
              "      <td>0.0</td>\n",
              "      <td>Unknown</td>\n",
              "      <td>12/31/2017: An explosive device was discovered...</td>\n",
              "      <td>Unknown</td>\n",
              "      <td>Unknown</td>\n",
              "      <td>Explosives</td>\n",
              "      <td>An explosive device containing a detonating co...</td>\n",
              "      <td>0</td>\n",
              "      <td>0.0</td>\n",
              "      <td>Philippines</td>\n",
              "      <td>NaN</td>\n",
              "      <td>NaN</td>\n",
              "      <td>0</td>\n",
              "    </tr>\n",
              "  </tbody>\n",
              "</table>\n",
              "</div>\n",
              "      <button class=\"colab-df-convert\" onclick=\"convertToInteractive('df-a4b80d21-1d05-428a-a3cc-099be0ead0f6')\"\n",
              "              title=\"Convert this dataframe to an interactive table.\"\n",
              "              style=\"display:none;\">\n",
              "\n",
              "  <svg xmlns=\"http://www.w3.org/2000/svg\" height=\"24px\"viewBox=\"0 0 24 24\"\n",
              "       width=\"24px\">\n",
              "    <path d=\"M0 0h24v24H0V0z\" fill=\"none\"/>\n",
              "    <path d=\"M18.56 5.44l.94 2.06.94-2.06 2.06-.94-2.06-.94-.94-2.06-.94 2.06-2.06.94zm-11 1L8.5 8.5l.94-2.06 2.06-.94-2.06-.94L8.5 2.5l-.94 2.06-2.06.94zm10 10l.94 2.06.94-2.06 2.06-.94-2.06-.94-.94-2.06-.94 2.06-2.06.94z\"/><path d=\"M17.41 7.96l-1.37-1.37c-.4-.4-.92-.59-1.43-.59-.52 0-1.04.2-1.43.59L10.3 9.45l-7.72 7.72c-.78.78-.78 2.05 0 2.83L4 21.41c.39.39.9.59 1.41.59.51 0 1.02-.2 1.41-.59l7.78-7.78 2.81-2.81c.8-.78.8-2.07 0-2.86zM5.41 20L4 18.59l7.72-7.72 1.47 1.35L5.41 20z\"/>\n",
              "  </svg>\n",
              "      </button>\n",
              "\n",
              "\n",
              "\n",
              "    <div id=\"df-371eb0e0-32f4-4309-8f84-d3ca4e253b33\">\n",
              "      <button class=\"colab-df-quickchart\" onclick=\"quickchart('df-371eb0e0-32f4-4309-8f84-d3ca4e253b33')\"\n",
              "              title=\"Suggest charts.\"\n",
              "              style=\"display:none;\">\n",
              "\n",
              "<svg xmlns=\"http://www.w3.org/2000/svg\" height=\"24px\"viewBox=\"0 0 24 24\"\n",
              "     width=\"24px\">\n",
              "    <g>\n",
              "        <path d=\"M19 3H5c-1.1 0-2 .9-2 2v14c0 1.1.9 2 2 2h14c1.1 0 2-.9 2-2V5c0-1.1-.9-2-2-2zM9 17H7v-7h2v7zm4 0h-2V7h2v10zm4 0h-2v-4h2v4z\"/>\n",
              "    </g>\n",
              "</svg>\n",
              "      </button>\n",
              "    </div>\n",
              "\n",
              "<style>\n",
              "  .colab-df-quickchart {\n",
              "    background-color: #E8F0FE;\n",
              "    border: none;\n",
              "    border-radius: 50%;\n",
              "    cursor: pointer;\n",
              "    display: none;\n",
              "    fill: #1967D2;\n",
              "    height: 32px;\n",
              "    padding: 0 0 0 0;\n",
              "    width: 32px;\n",
              "  }\n",
              "\n",
              "  .colab-df-quickchart:hover {\n",
              "    background-color: #E2EBFA;\n",
              "    box-shadow: 0px 1px 2px rgba(60, 64, 67, 0.3), 0px 1px 3px 1px rgba(60, 64, 67, 0.15);\n",
              "    fill: #174EA6;\n",
              "  }\n",
              "\n",
              "  [theme=dark] .colab-df-quickchart {\n",
              "    background-color: #3B4455;\n",
              "    fill: #D2E3FC;\n",
              "  }\n",
              "\n",
              "  [theme=dark] .colab-df-quickchart:hover {\n",
              "    background-color: #434B5C;\n",
              "    box-shadow: 0px 1px 3px 1px rgba(0, 0, 0, 0.15);\n",
              "    filter: drop-shadow(0px 1px 2px rgba(0, 0, 0, 0.3));\n",
              "    fill: #FFFFFF;\n",
              "  }\n",
              "</style>\n",
              "\n",
              "    <script>\n",
              "      async function quickchart(key) {\n",
              "        const containerElement = document.querySelector('#' + key);\n",
              "        const charts = await google.colab.kernel.invokeFunction(\n",
              "            'suggestCharts', [key], {});\n",
              "      }\n",
              "    </script>\n",
              "\n",
              "      <script>\n",
              "\n",
              "function displayQuickchartButton(domScope) {\n",
              "  let quickchartButtonEl =\n",
              "    domScope.querySelector('#df-371eb0e0-32f4-4309-8f84-d3ca4e253b33 button.colab-df-quickchart');\n",
              "  quickchartButtonEl.style.display =\n",
              "    google.colab.kernel.accessAllowed ? 'block' : 'none';\n",
              "}\n",
              "\n",
              "        displayQuickchartButton(document);\n",
              "      </script>\n",
              "      <style>\n",
              "    .colab-df-container {\n",
              "      display:flex;\n",
              "      flex-wrap:wrap;\n",
              "      gap: 12px;\n",
              "    }\n",
              "\n",
              "    .colab-df-convert {\n",
              "      background-color: #E8F0FE;\n",
              "      border: none;\n",
              "      border-radius: 50%;\n",
              "      cursor: pointer;\n",
              "      display: none;\n",
              "      fill: #1967D2;\n",
              "      height: 32px;\n",
              "      padding: 0 0 0 0;\n",
              "      width: 32px;\n",
              "    }\n",
              "\n",
              "    .colab-df-convert:hover {\n",
              "      background-color: #E2EBFA;\n",
              "      box-shadow: 0px 1px 2px rgba(60, 64, 67, 0.3), 0px 1px 3px 1px rgba(60, 64, 67, 0.15);\n",
              "      fill: #174EA6;\n",
              "    }\n",
              "\n",
              "    [theme=dark] .colab-df-convert {\n",
              "      background-color: #3B4455;\n",
              "      fill: #D2E3FC;\n",
              "    }\n",
              "\n",
              "    [theme=dark] .colab-df-convert:hover {\n",
              "      background-color: #434B5C;\n",
              "      box-shadow: 0px 1px 3px 1px rgba(0, 0, 0, 0.15);\n",
              "      filter: drop-shadow(0px 1px 2px rgba(0, 0, 0, 0.3));\n",
              "      fill: #FFFFFF;\n",
              "    }\n",
              "  </style>\n",
              "\n",
              "      <script>\n",
              "        const buttonEl =\n",
              "          document.querySelector('#df-a4b80d21-1d05-428a-a3cc-099be0ead0f6 button.colab-df-convert');\n",
              "        buttonEl.style.display =\n",
              "          google.colab.kernel.accessAllowed ? 'block' : 'none';\n",
              "\n",
              "        async function convertToInteractive(key) {\n",
              "          const element = document.querySelector('#df-a4b80d21-1d05-428a-a3cc-099be0ead0f6');\n",
              "          const dataTable =\n",
              "            await google.colab.kernel.invokeFunction('convertToInteractive',\n",
              "                                                     [key], {});\n",
              "          if (!dataTable) return;\n",
              "\n",
              "          const docLinkHtml = 'Like what you see? Visit the ' +\n",
              "            '<a target=\"_blank\" href=https://colab.research.google.com/notebooks/data_table.ipynb>data table notebook</a>'\n",
              "            + ' to learn more about interactive tables.';\n",
              "          element.innerHTML = '';\n",
              "          dataTable['output_type'] = 'display_data';\n",
              "          await google.colab.output.renderOutput(dataTable, element);\n",
              "          const docLink = document.createElement('div');\n",
              "          docLink.innerHTML = docLinkHtml;\n",
              "          element.appendChild(docLink);\n",
              "        }\n",
              "      </script>\n",
              "    </div>\n",
              "  </div>\n"
            ]
          },
          "metadata": {},
          "execution_count": 7
        }
      ]
    },
    {
      "cell_type": "code",
      "source": [
        "#Total index in the dataset\n",
        "gtd_df.index"
      ],
      "metadata": {
        "id": "_5sccnYhzAcW",
        "colab": {
          "base_uri": "https://localhost:8080/"
        },
        "outputId": "6841b201-7201-43c4-ca66-2915ea0aafbb"
      },
      "execution_count": 8,
      "outputs": [
        {
          "output_type": "execute_result",
          "data": {
            "text/plain": [
              "RangeIndex(start=0, stop=181691, step=1)"
            ]
          },
          "metadata": {},
          "execution_count": 8
        }
      ]
    },
    {
      "cell_type": "markdown",
      "source": [
        "### Dataset Rows & Columns count"
      ],
      "metadata": {
        "id": "7hBIi_osiCS2"
      }
    },
    {
      "cell_type": "code",
      "source": [
        "# Dataset Rows & Columns count\n",
        "num_rows, num_columns = gtd_df.shape\n",
        "\n",
        "print(\"Number of rows:\", num_rows)\n",
        "print(\"Number of columns:\", num_columns)"
      ],
      "metadata": {
        "id": "q5KmlejH6_Ss",
        "colab": {
          "base_uri": "https://localhost:8080/"
        },
        "outputId": "ee971540-c5b6-41c8-f6b5-dbe209207cb7"
      },
      "execution_count": 9,
      "outputs": [
        {
          "output_type": "stream",
          "name": "stdout",
          "text": [
            "Number of rows: 181691\n",
            "Number of columns: 24\n"
          ]
        }
      ]
    },
    {
      "cell_type": "markdown",
      "source": [
        "### Dataset Information"
      ],
      "metadata": {
        "id": "JlHwYmJAmNHm"
      }
    },
    {
      "cell_type": "code",
      "source": [
        "# Dataset Info\n",
        "print(\"Column DataTypes and Non-null Counts:\")\n",
        "gtd_df.info()"
      ],
      "metadata": {
        "id": "e9hRXRi6meOf",
        "colab": {
          "base_uri": "https://localhost:8080/"
        },
        "outputId": "98cdcf98-45b3-4f84-b7da-da292e83bb90"
      },
      "execution_count": 10,
      "outputs": [
        {
          "output_type": "stream",
          "name": "stdout",
          "text": [
            "Column DataTypes and Non-null Counts:\n",
            "<class 'pandas.core.frame.DataFrame'>\n",
            "RangeIndex: 181691 entries, 0 to 181690\n",
            "Data columns (total 24 columns):\n",
            " #   Column         Non-Null Count   Dtype  \n",
            "---  ------         --------------   -----  \n",
            " 0   Year           181691 non-null  int64  \n",
            " 1   Month          181691 non-null  int64  \n",
            " 2   Day            181691 non-null  int64  \n",
            " 3   Country        181691 non-null  object \n",
            " 4   State          181270 non-null  object \n",
            " 5   Region         181691 non-null  object \n",
            " 6   City           181257 non-null  object \n",
            " 7   Latitude       177135 non-null  float64\n",
            " 8   Longitude      177134 non-null  float64\n",
            " 9   AttackType     181691 non-null  object \n",
            " 10  Killed         171378 non-null  float64\n",
            " 11  Wounded        165380 non-null  float64\n",
            " 12  Target         181055 non-null  object \n",
            " 13  Summary        115562 non-null  object \n",
            " 14  Group          181691 non-null  object \n",
            " 15  Target_type    181691 non-null  object \n",
            " 16  Weapon_type    181691 non-null  object \n",
            " 17  Weapon_Detail  114021 non-null  object \n",
            " 18  Success        181691 non-null  int64  \n",
            " 19  Multiple       181690 non-null  float64\n",
            " 20  Nationality    180132 non-null  object \n",
            " 21  Sub_Target     171318 non-null  object \n",
            " 22  Motive         50561 non-null   object \n",
            " 23  Suicide        181691 non-null  int64  \n",
            "dtypes: float64(5), int64(5), object(14)\n",
            "memory usage: 33.3+ MB\n"
          ]
        }
      ]
    },
    {
      "cell_type": "markdown",
      "source": [
        "#### Duplicate Values"
      ],
      "metadata": {
        "id": "35m5QtbWiB9F"
      }
    },
    {
      "cell_type": "code",
      "source": [
        "# Dataset Duplicate Value Count\n",
        "duplicate_value = gtd_df.duplicated().sum()\n",
        "print(\"number of duplicate value:\", duplicate_value)"
      ],
      "metadata": {
        "id": "1sLdpKYkmox0",
        "colab": {
          "base_uri": "https://localhost:8080/"
        },
        "outputId": "3c6756e8-ef6d-4652-dbe7-038bfabf9224"
      },
      "execution_count": 11,
      "outputs": [
        {
          "output_type": "stream",
          "name": "stdout",
          "text": [
            "number of duplicate value: 9323\n"
          ]
        }
      ]
    },
    {
      "cell_type": "markdown",
      "source": [
        "#### Missing Values/Null Values"
      ],
      "metadata": {
        "id": "PoPl-ycgm1ru"
      }
    },
    {
      "cell_type": "code",
      "source": [
        "# Missing Values/Null Values Count\n",
        "print(\"Columns and their missing values:\")\n",
        "print(gtd_df.isnull().sum())\n",
        "misscount = gtd_df.isnull().sum().sum()\n",
        "print(misscount)"
      ],
      "metadata": {
        "id": "GgHWkxvamxVg",
        "colab": {
          "base_uri": "https://localhost:8080/"
        },
        "outputId": "e0d6cdf5-c89b-424f-ccb4-98095a593955"
      },
      "execution_count": 12,
      "outputs": [
        {
          "output_type": "stream",
          "name": "stdout",
          "text": [
            "Columns and their missing values:\n",
            "Year                  0\n",
            "Month                 0\n",
            "Day                   0\n",
            "Country               0\n",
            "State               421\n",
            "Region                0\n",
            "City                434\n",
            "Latitude           4556\n",
            "Longitude          4557\n",
            "AttackType            0\n",
            "Killed            10313\n",
            "Wounded           16311\n",
            "Target              636\n",
            "Summary           66129\n",
            "Group                 0\n",
            "Target_type           0\n",
            "Weapon_type           0\n",
            "Weapon_Detail     67670\n",
            "Success               0\n",
            "Multiple              1\n",
            "Nationality        1559\n",
            "Sub_Target        10373\n",
            "Motive           131130\n",
            "Suicide               0\n",
            "dtype: int64\n",
            "314090\n"
          ]
        }
      ]
    },
    {
      "cell_type": "code",
      "source": [
        "# Visualizing the missing values\n",
        "import matplotlib.pyplot as plt\n",
        "import seaborn as sns\n",
        "\n",
        "# Calculate the percentage of missing values in each column\n",
        "missing_percentage = (gtd_df.isnull().sum() / len(gtd_df)) * 100\n",
        "\n",
        "# Filter columns with missing values\n",
        "columns_with_missing = missing_percentage[missing_percentage > 0]\n",
        "\n",
        "# Create a bar plot of missing value percentages for columns with missing values\n",
        "plt.figure(figsize=(12, 6))\n",
        "ax = sns.barplot(x=columns_with_missing.index, y=columns_with_missing.values)\n",
        "plt.title('Percentage of Missing Values by Column')\n",
        "plt.ylabel('Percentage')\n",
        "plt.xticks(rotation=45, ha='right')\n",
        "plt.gca().yaxis.grid(True)  # Add horizontal grid lines\n",
        "# Display percentage values on top of bars\n",
        "for p in ax.patches:\n",
        "    ax.annotate(f'{p.get_height():.2f}%', (p.get_x() + p.get_width() / 2., p.get_height()), ha='center', va='center', fontsize=10, color='blue', xytext=(0, 5), textcoords='offset points')\n",
        "\n",
        "plt.tight_layout()\n",
        "plt.show()"
      ],
      "metadata": {
        "id": "3q5wnI3om9sJ",
        "colab": {
          "base_uri": "https://localhost:8080/",
          "height": 607
        },
        "outputId": "4ce83606-e602-49ef-dc87-90da5edd1515"
      },
      "execution_count": 13,
      "outputs": [
        {
          "output_type": "display_data",
          "data": {
            "text/plain": [
              "<Figure size 1200x600 with 1 Axes>"
            ],
            "image/png": "[encoded data removed]"
          },
          "metadata": {}
        }
      ]
    },
    {
      "cell_type": "markdown",
      "source": [
        "### What did you know about your dataset?\n",
        "\n",
        "\n",
        "\n"
      ],
      "metadata": {
        "id": "H0kj-8xxnORC"
      }
    },
    {
      "cell_type": "markdown",
      "source": [
        "\n",
        "1-The Global Terrorism Dataset(GTD) defines a terrorist attack as the threatened or actual use of illegal\n",
        "force and violence by a non\u0002state actor to attain a political, economic, religious, or social goal through fear, coercion, or\n",
        "intimidation.\n",
        "\n",
        "2-A term also find in the dataset where the country in which an incident occurred cannot be identified, it is coded as “Unknown.”\n",
        "\n",
        "3-The dataset consists of four major data types: bool(2), float64(2), int64(5) and object(14).\n",
        "\n",
        "4-The numerical data in the dataset is represented by float64 (2) and int64 (5) data types. These numerical variables likely contain information such as year, month, day, latitude, longitude, and other variables also.\n",
        "\n",
        "5-furthermore, there are object (14) data types in the dataset that store categorical information such as country, state, region, city . These variables provide context and additional details about where the attack happened.\n",
        "\n",
        "\n",
        "6-While analyzing the dataset we come to the point, that in each year which city or region attack occured and which segment targeted also which gang or organisation behind the attack and they used different types of weapons in the attack. This information can be valuable for understanding the tendency of occurring attacks and target to people, selection of region, usage patterns in focused to especially high density countries and potentially identifying areas for improvement or optimization in global terrorism.\n",
        "\n",
        "\n",
        "7-In safety terms, this initial dataset overview provides a concise summary of the dataset's structure, including the data types, dimensions, presence of null values, and the types of information contained in the numerical and categorical variables."
      ],
      "metadata": {
        "id": "gfoNAAC-nUe_"
      }
    },
    {
      "cell_type": "markdown",
      "source": [
        "## ***2. Understanding Your Variables***"
      ],
      "metadata": {
        "id": "nA9Y7ga8ng1Z"
      }
    },
    {
      "cell_type": "code",
      "source": [
        "# Dataset Columns\n",
        "print(\"Column list:\")\n",
        "print(gtd_df.columns)"
      ],
      "metadata": {
        "id": "j7xfkqrt5Ag5",
        "colab": {
          "base_uri": "https://localhost:8080/"
        },
        "outputId": "262cde5d-dc96-48f1-af5c-ba444c39b179"
      },
      "execution_count": 14,
      "outputs": [
        {
          "output_type": "stream",
          "name": "stdout",
          "text": [
            "Column list:\n",
            "Index(['Year', 'Month', 'Day', 'Country', 'State', 'Region', 'City',\n",
            "       'Latitude', 'Longitude', 'AttackType', 'Killed', 'Wounded', 'Target',\n",
            "       'Summary', 'Group', 'Target_type', 'Weapon_type', 'Weapon_Detail',\n",
            "       'Success', 'Multiple', 'Nationality', 'Sub_Target', 'Motive',\n",
            "       'Suicide'],\n",
            "      dtype='object')\n"
          ]
        }
      ]
    },
    {
      "cell_type": "code",
      "source": [
        "# Dataset Describe\n",
        "gtd_df.describe()"
      ],
      "metadata": {
        "id": "DnOaZdaE5Q5t",
        "colab": {
          "base_uri": "https://localhost:8080/",
          "height": 300
        },
        "outputId": "1153fe0e-325f-40bc-b350-2d9bc5843b3f"
      },
      "execution_count": 15,
      "outputs": [
        {
          "output_type": "execute_result",
          "data": {
            "text/plain": [
              "                Year          Month            Day       Latitude  \\\n",
              "count  181691.000000  181691.000000  181691.000000  177135.000000   \n",
              "mean     2002.638997       6.467277      15.505644      23.498343   \n",
              "std        13.259430       3.388303       8.814045      18.569242   \n",
              "min      1970.000000       0.000000       0.000000     -53.154613   \n",
              "25%      1991.000000       4.000000       8.000000      11.510046   \n",
              "50%      2009.000000       6.000000      15.000000      31.467463   \n",
              "75%      2014.000000       9.000000      23.000000      34.685087   \n",
              "max      2017.000000      12.000000      31.000000      74.633553   \n",
              "\n",
              "          Longitude         Killed        Wounded        Success  \\\n",
              "count  1.771340e+05  171378.000000  165380.000000  181691.000000   \n",
              "mean  -4.586957e+02       2.403272       3.167668       0.889598   \n",
              "std    2.047790e+05      11.545741      35.949392       0.313391   \n",
              "min   -8.618590e+07       0.000000       0.000000       0.000000   \n",
              "25%    4.545640e+00       0.000000       0.000000       1.000000   \n",
              "50%    4.324651e+01       0.000000       0.000000       1.000000   \n",
              "75%    6.871033e+01       2.000000       2.000000       1.000000   \n",
              "max    1.793667e+02    1570.000000    8191.000000       1.000000   \n",
              "\n",
              "            Multiple        Suicide  \n",
              "count  181690.000000  181691.000000  \n",
              "mean        0.137773       0.036507  \n",
              "std         0.344663       0.187549  \n",
              "min         0.000000       0.000000  \n",
              "25%         0.000000       0.000000  \n",
              "50%         0.000000       0.000000  \n",
              "75%         0.000000       0.000000  \n",
              "max         1.000000       1.000000  "
            ],
            "text/html": [
              "\n",
              "\n",
              "  <div id=\"df-aeaf75c3-140b-4f01-866c-d9261cdcacf5\">\n",
              "    <div class=\"colab-df-container\">\n",
              "      <div>\n",
              "<style scoped>\n",
              "    .dataframe tbody tr th:only-of-type {\n",
              "        vertical-align: middle;\n",
              "    }\n",
              "\n",
              "    .dataframe tbody tr th {\n",
              "        vertical-align: top;\n",
              "    }\n",
              "\n",
              "    .dataframe thead th {\n",
              "        text-align: right;\n",
              "    }\n",
              "</style>\n",
              "<table border=\"1\" class=\"dataframe\">\n",
              "  <thead>\n",
              "    <tr style=\"text-align: right;\">\n",
              "      <th></th>\n",
              "      <th>Year</th>\n",
              "      <th>Month</th>\n",
              "      <th>Day</th>\n",
              "      <th>Latitude</th>\n",
              "      <th>Longitude</th>\n",
              "      <th>Killed</th>\n",
              "      <th>Wounded</th>\n",
              "      <th>Success</th>\n",
              "      <th>Multiple</th>\n",
              "      <th>Suicide</th>\n",
              "    </tr>\n",
              "  </thead>\n",
              "  <tbody>\n",
              "    <tr>\n",
              "      <th>count</th>\n",
              "      <td>181691.000000</td>\n",
              "      <td>181691.000000</td>\n",
              "      <td>181691.000000</td>\n",
              "      <td>177135.000000</td>\n",
              "      <td>1.771340e+05</td>\n",
              "      <td>171378.000000</td>\n",
              "      <td>165380.000000</td>\n",
              "      <td>181691.000000</td>\n",
              "      <td>181690.000000</td>\n",
              "      <td>181691.000000</td>\n",
              "    </tr>\n",
              "    <tr>\n",
              "      <th>mean</th>\n",
              "      <td>2002.638997</td>\n",
              "      <td>6.467277</td>\n",
              "      <td>15.505644</td>\n",
              "      <td>23.498343</td>\n",
              "      <td>-4.586957e+02</td>\n",
              "      <td>2.403272</td>\n",
              "      <td>3.167668</td>\n",
              "      <td>0.889598</td>\n",
              "      <td>0.137773</td>\n",
              "      <td>0.036507</td>\n",
              "    </tr>\n",
              "    <tr>\n",
              "      <th>std</th>\n",
              "      <td>13.259430</td>\n",
              "      <td>3.388303</td>\n",
              "      <td>8.814045</td>\n",
              "      <td>18.569242</td>\n",
              "      <td>2.047790e+05</td>\n",
              "      <td>11.545741</td>\n",
              "      <td>35.949392</td>\n",
              "      <td>0.313391</td>\n",
              "      <td>0.344663</td>\n",
              "      <td>0.187549</td>\n",
              "    </tr>\n",
              "    <tr>\n",
              "      <th>min</th>\n",
              "      <td>1970.000000</td>\n",
              "      <td>0.000000</td>\n",
              "      <td>0.000000</td>\n",
              "      <td>-53.154613</td>\n",
              "      <td>-8.618590e+07</td>\n",
              "      <td>0.000000</td>\n",
              "      <td>0.000000</td>\n",
              "      <td>0.000000</td>\n",
              "      <td>0.000000</td>\n",
              "      <td>0.000000</td>\n",
              "    </tr>\n",
              "    <tr>\n",
              "      <th>25%</th>\n",
              "      <td>1991.000000</td>\n",
              "      <td>4.000000</td>\n",
              "      <td>8.000000</td>\n",
              "      <td>11.510046</td>\n",
              "      <td>4.545640e+00</td>\n",
              "      <td>0.000000</td>\n",
              "      <td>0.000000</td>\n",
              "      <td>1.000000</td>\n",
              "      <td>0.000000</td>\n",
              "      <td>0.000000</td>\n",
              "    </tr>\n",
              "    <tr>\n",
              "      <th>50%</th>\n",
              "      <td>2009.000000</td>\n",
              "      <td>6.000000</td>\n",
              "      <td>15.000000</td>\n",
              "      <td>31.467463</td>\n",
              "      <td>4.324651e+01</td>\n",
              "      <td>0.000000</td>\n",
              "      <td>0.000000</td>\n",
              "      <td>1.000000</td>\n",
              "      <td>0.000000</td>\n",
              "      <td>0.000000</td>\n",
              "    </tr>\n",
              "    <tr>\n",
              "      <th>75%</th>\n",
              "      <td>2014.000000</td>\n",
              "      <td>9.000000</td>\n",
              "      <td>23.000000</td>\n",
              "      <td>34.685087</td>\n",
              "      <td>6.871033e+01</td>\n",
              "      <td>2.000000</td>\n",
              "      <td>2.000000</td>\n",
              "      <td>1.000000</td>\n",
              "      <td>0.000000</td>\n",
              "      <td>0.000000</td>\n",
              "    </tr>\n",
              "    <tr>\n",
              "      <th>max</th>\n",
              "      <td>2017.000000</td>\n",
              "      <td>12.000000</td>\n",
              "      <td>31.000000</td>\n",
              "      <td>74.633553</td>\n",
              "      <td>1.793667e+02</td>\n",
              "      <td>1570.000000</td>\n",
              "      <td>8191.000000</td>\n",
              "      <td>1.000000</td>\n",
              "      <td>1.000000</td>\n",
              "      <td>1.000000</td>\n",
              "    </tr>\n",
              "  </tbody>\n",
              "</table>\n",
              "</div>\n",
              "      <button class=\"colab-df-convert\" onclick=\"convertToInteractive('df-aeaf75c3-140b-4f01-866c-d9261cdcacf5')\"\n",
              "              title=\"Convert this dataframe to an interactive table.\"\n",
              "              style=\"display:none;\">\n",
              "\n",
              "  <svg xmlns=\"http://www.w3.org/2000/svg\" height=\"24px\"viewBox=\"0 0 24 24\"\n",
              "       width=\"24px\">\n",
              "    <path d=\"M0 0h24v24H0V0z\" fill=\"none\"/>\n",
              "    <path d=\"M18.56 5.44l.94 2.06.94-2.06 2.06-.94-2.06-.94-.94-2.06-.94 2.06-2.06.94zm-11 1L8.5 8.5l.94-2.06 2.06-.94-2.06-.94L8.5 2.5l-.94 2.06-2.06.94zm10 10l.94 2.06.94-2.06 2.06-.94-2.06-.94-.94-2.06-.94 2.06-2.06.94z\"/><path d=\"M17.41 7.96l-1.37-1.37c-.4-.4-.92-.59-1.43-.59-.52 0-1.04.2-1.43.59L10.3 9.45l-7.72 7.72c-.78.78-.78 2.05 0 2.83L4 21.41c.39.39.9.59 1.41.59.51 0 1.02-.2 1.41-.59l7.78-7.78 2.81-2.81c.8-.78.8-2.07 0-2.86zM5.41 20L4 18.59l7.72-7.72 1.47 1.35L5.41 20z\"/>\n",
              "  </svg>\n",
              "      </button>\n",
              "\n",
              "\n",
              "\n",
              "    <div id=\"df-729768b0-993b-44e2-86fb-0c675cdc3ce2\">\n",
              "      <button class=\"colab-df-quickchart\" onclick=\"quickchart('df-729768b0-993b-44e2-86fb-0c675cdc3ce2')\"\n",
              "              title=\"Suggest charts.\"\n",
              "              style=\"display:none;\">\n",
              "\n",
              "<svg xmlns=\"http://www.w3.org/2000/svg\" height=\"24px\"viewBox=\"0 0 24 24\"\n",
              "     width=\"24px\">\n",
              "    <g>\n",
              "        <path d=\"M19 3H5c-1.1 0-2 .9-2 2v14c0 1.1.9 2 2 2h14c1.1 0 2-.9 2-2V5c0-1.1-.9-2-2-2zM9 17H7v-7h2v7zm4 0h-2V7h2v10zm4 0h-2v-4h2v4z\"/>\n",
              "    </g>\n",
              "</svg>\n",
              "      </button>\n",
              "    </div>\n",
              "\n",
              "<style>\n",
              "  .colab-df-quickchart {\n",
              "    background-color: #E8F0FE;\n",
              "    border: none;\n",
              "    border-radius: 50%;\n",
              "    cursor: pointer;\n",
              "    display: none;\n",
              "    fill: #1967D2;\n",
              "    height: 32px;\n",
              "    padding: 0 0 0 0;\n",
              "    width: 32px;\n",
              "  }\n",
              "\n",
              "  .colab-df-quickchart:hover {\n",
              "    background-color: #E2EBFA;\n",
              "    box-shadow: 0px 1px 2px rgba(60, 64, 67, 0.3), 0px 1px 3px 1px rgba(60, 64, 67, 0.15);\n",
              "    fill: #174EA6;\n",
              "  }\n",
              "\n",
              "  [theme=dark] .colab-df-quickchart {\n",
              "    background-color: #3B4455;\n",
              "    fill: #D2E3FC;\n",
              "  }\n",
              "\n",
              "  [theme=dark] .colab-df-quickchart:hover {\n",
              "    background-color: #434B5C;\n",
              "    box-shadow: 0px 1px 3px 1px rgba(0, 0, 0, 0.15);\n",
              "    filter: drop-shadow(0px 1px 2px rgba(0, 0, 0, 0.3));\n",
              "    fill: #FFFFFF;\n",
              "  }\n",
              "</style>\n",
              "\n",
              "    <script>\n",
              "      async function quickchart(key) {\n",
              "        const containerElement = document.querySelector('#' + key);\n",
              "        const charts = await google.colab.kernel.invokeFunction(\n",
              "            'suggestCharts', [key], {});\n",
              "      }\n",
              "    </script>\n",
              "\n",
              "      <script>\n",
              "\n",
              "function displayQuickchartButton(domScope) {\n",
              "  let quickchartButtonEl =\n",
              "    domScope.querySelector('#df-729768b0-993b-44e2-86fb-0c675cdc3ce2 button.colab-df-quickchart');\n",
              "  quickchartButtonEl.style.display =\n",
              "    google.colab.kernel.accessAllowed ? 'block' : 'none';\n",
              "}\n",
              "\n",
              "        displayQuickchartButton(document);\n",
              "      </script>\n",
              "      <style>\n",
              "    .colab-df-container {\n",
              "      display:flex;\n",
              "      flex-wrap:wrap;\n",
              "      gap: 12px;\n",
              "    }\n",
              "\n",
              "    .colab-df-convert {\n",
              "      background-color: #E8F0FE;\n",
              "      border: none;\n",
              "      border-radius: 50%;\n",
              "      cursor: pointer;\n",
              "      display: none;\n",
              "      fill: #1967D2;\n",
              "      height: 32px;\n",
              "      padding: 0 0 0 0;\n",
              "      width: 32px;\n",
              "    }\n",
              "\n",
              "    .colab-df-convert:hover {\n",
              "      background-color: #E2EBFA;\n",
              "      box-shadow: 0px 1px 2px rgba(60, 64, 67, 0.3), 0px 1px 3px 1px rgba(60, 64, 67, 0.15);\n",
              "      fill: #174EA6;\n",
              "    }\n",
              "\n",
              "    [theme=dark] .colab-df-convert {\n",
              "      background-color: #3B4455;\n",
              "      fill: #D2E3FC;\n",
              "    }\n",
              "\n",
              "    [theme=dark] .colab-df-convert:hover {\n",
              "      background-color: #434B5C;\n",
              "      box-shadow: 0px 1px 3px 1px rgba(0, 0, 0, 0.15);\n",
              "      filter: drop-shadow(0px 1px 2px rgba(0, 0, 0, 0.3));\n",
              "      fill: #FFFFFF;\n",
              "    }\n",
              "  </style>\n",
              "\n",
              "      <script>\n",
              "        const buttonEl =\n",
              "          document.querySelector('#df-aeaf75c3-140b-4f01-866c-d9261cdcacf5 button.colab-df-convert');\n",
              "        buttonEl.style.display =\n",
              "          google.colab.kernel.accessAllowed ? 'block' : 'none';\n",
              "\n",
              "        async function convertToInteractive(key) {\n",
              "          const element = document.querySelector('#df-aeaf75c3-140b-4f01-866c-d9261cdcacf5');\n",
              "          const dataTable =\n",
              "            await google.colab.kernel.invokeFunction('convertToInteractive',\n",
              "                                                     [key], {});\n",
              "          if (!dataTable) return;\n",
              "\n",
              "          const docLinkHtml = 'Like what you see? Visit the ' +\n",
              "            '<a target=\"_blank\" href=https://colab.research.google.com/notebooks/data_table.ipynb>data table notebook</a>'\n",
              "            + ' to learn more about interactive tables.';\n",
              "          element.innerHTML = '';\n",
              "          dataTable['output_type'] = 'display_data';\n",
              "          await google.colab.output.renderOutput(dataTable, element);\n",
              "          const docLink = document.createElement('div');\n",
              "          docLink.innerHTML = docLinkHtml;\n",
              "          element.appendChild(docLink);\n",
              "        }\n",
              "      </script>\n",
              "    </div>\n",
              "  </div>\n"
            ]
          },
          "metadata": {},
          "execution_count": 15
        }
      ]
    },
    {
      "cell_type": "markdown",
      "source": [
        "\n"
      ],
      "metadata": {
        "id": "rUAQo2OUdF9s"
      }
    },
    {
      "cell_type": "markdown",
      "source": [
        "### Variables Description"
      ],
      "metadata": {
        "id": "PBTbrJXOngz2"
      }
    },
    {
      "cell_type": "markdown",
      "source": [
        "\n",
        "1-Year- It contains those years when the attack occurred(1970-2017).\n",
        "\n",
        "2-Month- This field contains the number of the months in which the incident occurred.\n",
        "\n",
        "3-Day- This contains the numeric day of the month on which the incident occurred.\n",
        "\n",
        "4-Country-This identifies the country or location where the attack occurred. In the case where the country in which an incident occurred cannot be identified, it is coded as “Unknown”.\n",
        "\n",
        "5-State-This variable records the name at the time of event of the administrative region in which the event occurs.\n",
        "\n",
        "6-Region-This field identifies the region in which the incident occurred. The regions are divided into 12 categories,eg-North America, Central America & Caribbean,  South America, East Asia, Southeast Asia, South Asia, Central Asia,\n",
        "Western Europe, Eastern Europe, Middle East & North Africa, Sub-Saharan Africa, Australasia & Oceania.\n",
        "\n",
        "7-City- This field contains the name of the city, village, or town in which the incident occurred.\n",
        "\n",
        "8-Latitude- This field records the latitude of the city in which the event occurred.\n",
        "\n",
        "9-longitude- This field records the longitude of the city in which the event\n",
        "occurred.\n",
        "\n",
        "10-Attack type- This field captures the general method of attack and often reflects the broad class of tactics used. It consists of nine categories,Assassination, Hijacking, Kidnapping, Barricade Incident, Bombing/Explosion, Armed Assault, Unarmed Assault, Facility/Infrastructure Attack, Unknown that is not recorded.\n",
        "\n",
        "11-Killed- The field contains information about how many people killed in the incident.\n",
        "\n",
        "12-Wounded-This field records the wounded people during the attack happened .\n",
        "\n",
        "13-Target-The field contains information on both intended targets and incidental bystanders.\n",
        "\n",
        "14-Group-This field contains the name of the group that carried out the attack.\n",
        "\n",
        "15-Weapon type- In this categoy general type of the weapons used in an attack are recorded. I\n",
        "\n",
        "\n",
        "16-Weapon Detail-This field notes any pertinent information on the type of weapons used in the incident. Such notes could include the novel use or means of concealing a weapon, specific weapon models, interesting details of the weapons’ origins, etc.\n",
        "\n",
        "17-Target type-The target/victim type field captures the general type of target/victim. When a victim is attacked specifically because of his or her relationship to a particular person, such as a prominent figure, the target type reflects that motive.It includes government, police,military, airports and aircrafts, educational institutions,food or water supply, jounalists and media, maritime, non-governmental organization, private citizens and property, religious figures / institutions, telecommunication, tourists, violent political parties.  \n",
        "\n",
        "18-Sub Target-The variable captures the more specific target category and provides the next level of designation for each target type. If a target subtype is not applicable this variable is left blank.\n",
        "\n",
        "19-Summary-this field contains all the information about the attack occurred , motive, casulties, weapon used in the attack and place where the attack occurred.\n",
        "\n",
        "20-Nationality- It defines the nationality that the citizens have where the attack occurred.\n",
        "\n",
        "21-Motive- It elaborates the motive why the paticular place targeted to attack or protest.\n"
      ],
      "metadata": {
        "id": "aJV4KIxSnxay"
      }
    },
    {
      "cell_type": "markdown",
      "source": [
        "\n",
        "\n"
      ],
      "metadata": {
        "id": "3nHSq1wQxvuJ"
      }
    },
    {
      "cell_type": "markdown",
      "source": [
        "### Check Unique Values for each variable."
      ],
      "metadata": {
        "id": "u3PMJOP6ngxN"
      }
    },
    {
      "cell_type": "code",
      "source": [
        "# Check Unique Values for each variable.\n",
        "gtd_df.nunique()"
      ],
      "metadata": {
        "id": "zms12Yq5n-jE",
        "colab": {
          "base_uri": "https://localhost:8080/"
        },
        "outputId": "d7a302f7-2236-43ee-d5c9-6ca310d7049c"
      },
      "execution_count": 16,
      "outputs": [
        {
          "output_type": "execute_result",
          "data": {
            "text/plain": [
              "Year                 47\n",
              "Month                13\n",
              "Day                  32\n",
              "Country             205\n",
              "State              2855\n",
              "Region               12\n",
              "City              36674\n",
              "Latitude          48322\n",
              "Longitude         48039\n",
              "AttackType            9\n",
              "Killed              205\n",
              "Wounded             238\n",
              "Target            86006\n",
              "Summary          112492\n",
              "Group              3537\n",
              "Target_type          22\n",
              "Weapon_type          12\n",
              "Weapon_Detail     19148\n",
              "Success               2\n",
              "Multiple              2\n",
              "Nationality         215\n",
              "Sub_Target          112\n",
              "Motive            14490\n",
              "Suicide               2\n",
              "dtype: int64"
            ]
          },
          "metadata": {},
          "execution_count": 16
        }
      ]
    },
    {
      "cell_type": "code",
      "source": [
        "gtd_df['Day'].unique()"
      ],
      "metadata": {
        "id": "Tj7v_4ezqS7M",
        "colab": {
          "base_uri": "https://localhost:8080/"
        },
        "outputId": "d07a16cd-9bda-4a6b-a1f6-cdaee34e5c6a"
      },
      "execution_count": 17,
      "outputs": [
        {
          "output_type": "execute_result",
          "data": {
            "text/plain": [
              "array([ 2,  0,  1,  3,  6,  8,  9, 10, 11, 12, 13, 14, 15, 19, 20, 21, 22,\n",
              "       25, 26, 27, 28, 30, 31,  4,  7, 16, 17, 18, 23, 24,  5, 29])"
            ]
          },
          "metadata": {},
          "execution_count": 17
        }
      ]
    },
    {
      "cell_type": "code",
      "source": [
        "gtd_df['Month'].unique()"
      ],
      "metadata": {
        "id": "an64JpwSjjf_",
        "colab": {
          "base_uri": "https://localhost:8080/"
        },
        "outputId": "02a01b90-7ccb-48a5-faac-5f7479e9e029"
      },
      "execution_count": 18,
      "outputs": [
        {
          "output_type": "execute_result",
          "data": {
            "text/plain": [
              "array([ 7,  0,  1,  2,  3,  4,  5,  6,  8,  9, 10, 11, 12])"
            ]
          },
          "metadata": {},
          "execution_count": 18
        }
      ]
    },
    {
      "cell_type": "code",
      "source": [
        "gtd_df['Country'].unique()"
      ],
      "metadata": {
        "id": "W8iDFRwtjtcb",
        "colab": {
          "base_uri": "https://localhost:8080/"
        },
        "outputId": "9e0ecf8d-88d0-4a88-817c-98c6f18165bf"
      },
      "execution_count": 19,
      "outputs": [
        {
          "output_type": "execute_result",
          "data": {
            "text/plain": [
              "array(['Dominican Republic', 'Mexico', 'Philippines', 'Greece', 'Japan',\n",
              "       'United States', 'Uruguay', 'Italy', 'East Germany (GDR)',\n",
              "       'Ethiopia', 'Guatemala', 'Venezuela', 'West Germany (FRG)',\n",
              "       'Switzerland', 'Jordan', 'Spain', 'Brazil', 'Egypt', 'Argentina',\n",
              "       'Lebanon', 'Ireland', 'Turkey', 'Paraguay', 'Iran',\n",
              "       'United Kingdom', 'Colombia', 'Bolivia', 'Nicaragua',\n",
              "       'Netherlands', 'Belgium', 'Canada', 'Australia', 'Pakistan',\n",
              "       'Zambia', 'Sweden', 'Costa Rica', 'South Yemen', 'Cambodia',\n",
              "       'Israel', 'Poland', 'Taiwan', 'Panama', 'Kuwait',\n",
              "       'West Bank and Gaza Strip', 'Austria', 'Czechoslovakia', 'India',\n",
              "       'France', 'South Vietnam', 'Brunei', 'Zaire',\n",
              "       \"People's Republic of the Congo\", 'Portugal', 'Algeria',\n",
              "       'El Salvador', 'Thailand', 'Haiti', 'Sudan', 'Morocco', 'Cyprus',\n",
              "       'Myanmar', 'Afghanistan', 'Peru', 'Chile', 'Honduras',\n",
              "       'Yugoslavia', 'Ecuador', 'New Zealand', 'Malaysia', 'Singapore',\n",
              "       'Botswana', 'Jamaica', 'Chad', 'North Yemen', 'Andorra', 'Syria',\n",
              "       'South Korea', 'United Arab Emirates', 'South Africa', 'Kenya',\n",
              "       'Iraq', 'Somalia', 'Tanzania', 'Sri Lanka', 'Namibia', 'Bahamas',\n",
              "       'Nigeria', 'Barbados', 'Trinidad and Tobago', 'Bangladesh',\n",
              "       'Angola', 'Mauritania', 'Saudi Arabia', 'Djibouti', 'Indonesia',\n",
              "       'Malta', 'Rhodesia', 'Soviet Union', 'Denmark', 'Western Sahara',\n",
              "       'Guyana', 'Mozambique', 'Tunisia', 'Uganda', 'Norway', 'Lesotho',\n",
              "       'Gabon', 'Libya', 'Bahrain', 'Hong Kong', 'Senegal', 'Zimbabwe',\n",
              "       'Guinea', 'Grenada', 'New Hebrides', 'Belize', 'Guadeloupe',\n",
              "       'Martinique', 'Vatican City', 'Albania',\n",
              "       'Central African Republic', 'Seychelles', 'Dominica', 'Qatar',\n",
              "       'Bulgaria', 'Suriname', 'Swaziland', 'Luxembourg', 'Iceland',\n",
              "       'French Guiana', 'Falkland Islands', 'Burkina Faso',\n",
              "       'New Caledonia', 'Romania', 'Niger', 'Nepal', 'Togo', 'Finland',\n",
              "       'Fiji', 'Ghana', 'Maldives', 'Mauritius', 'Hungary', 'Laos',\n",
              "       'Papua New Guinea', 'China', 'Liberia', 'Republic of the Congo',\n",
              "       'Mali', 'Germany', 'Yemen', 'Rwanda', 'Sierra Leone', 'Cameroon',\n",
              "       'Cuba', 'Croatia', 'Georgia', 'Azerbaijan', 'Madagascar',\n",
              "       'Lithuania', 'Burundi', 'Ukraine', 'Moldova', 'Armenia', 'Russia',\n",
              "       'Ivory Coast', 'Kazakhstan', 'Antigua and Barbuda',\n",
              "       'Bosnia-Herzegovina', 'Equatorial Guinea', 'Tajikistan', 'Malawi',\n",
              "       'Uzbekistan', 'Latvia', 'Estonia', 'Vietnam', 'Comoros', 'Benin',\n",
              "       'Slovak Republic', 'Macedonia', 'Wallis and Futuna', 'Belarus',\n",
              "       'Czech Republic', 'Slovenia', 'Gambia', 'North Korea', 'Eritrea',\n",
              "       'St. Kitts and Nevis', 'French Polynesia', 'Macau', 'Kyrgyzstan',\n",
              "       'Vanuatu', 'Democratic Republic of the Congo', 'Kosovo',\n",
              "       'Solomon Islands', 'East Timor', 'St. Lucia', 'Guinea-Bissau',\n",
              "       'Montenegro', 'International', 'Turkmenistan', 'Serbia-Montenegro',\n",
              "       'Bhutan', 'Serbia', 'South Sudan'], dtype=object)"
            ]
          },
          "metadata": {},
          "execution_count": 19
        }
      ]
    },
    {
      "cell_type": "code",
      "source": [
        "gtd_df['Region'].unique()"
      ],
      "metadata": {
        "id": "0CxXDnGlj0X4",
        "colab": {
          "base_uri": "https://localhost:8080/"
        },
        "outputId": "fd2f38a8-9f0d-43fc-e37a-c42eabeeccd2"
      },
      "execution_count": 20,
      "outputs": [
        {
          "output_type": "execute_result",
          "data": {
            "text/plain": [
              "array(['Central America & Caribbean', 'North America', 'Southeast Asia',\n",
              "       'Western Europe', 'East Asia', 'South America', 'Eastern Europe',\n",
              "       'Sub-Saharan Africa', 'Middle East & North Africa',\n",
              "       'Australasia & Oceania', 'South Asia', 'Central Asia'],\n",
              "      dtype=object)"
            ]
          },
          "metadata": {},
          "execution_count": 20
        }
      ]
    },
    {
      "cell_type": "code",
      "source": [
        "gtd_df['AttackType'].unique()"
      ],
      "metadata": {
        "id": "ZWHws1Jwj_uK",
        "colab": {
          "base_uri": "https://localhost:8080/"
        },
        "outputId": "30ec0b8f-4755-456c-a888-a84862cfdfcf"
      },
      "execution_count": 21,
      "outputs": [
        {
          "output_type": "execute_result",
          "data": {
            "text/plain": [
              "array(['Assassination', 'Hostage Taking (Kidnapping)',\n",
              "       'Bombing/Explosion', 'Facility/Infrastructure Attack',\n",
              "       'Armed Assault', 'Hijacking', 'Unknown', 'Unarmed Assault',\n",
              "       'Hostage Taking (Barricade Incident)'], dtype=object)"
            ]
          },
          "metadata": {},
          "execution_count": 21
        }
      ]
    },
    {
      "cell_type": "code",
      "source": [
        "gtd_df['Target_type'].unique()"
      ],
      "metadata": {
        "id": "i-DfJ_YmkZnk",
        "colab": {
          "base_uri": "https://localhost:8080/"
        },
        "outputId": "aca1743d-b428-44f3-edb3-42f668329c40"
      },
      "execution_count": 22,
      "outputs": [
        {
          "output_type": "execute_result",
          "data": {
            "text/plain": [
              "array(['Private Citizens & Property', 'Government (Diplomatic)',\n",
              "       'Journalists & Media', 'Police', 'Utilities', 'Military',\n",
              "       'Government (General)', 'Airports & Aircraft', 'Business',\n",
              "       'Educational Institution', 'Violent Political Party',\n",
              "       'Religious Figures/Institutions', 'Unknown', 'Transportation',\n",
              "       'Tourists', 'NGO', 'Telecommunication', 'Food or Water Supply',\n",
              "       'Terrorists/Non-State Militia', 'Other', 'Maritime',\n",
              "       'Abortion Related'], dtype=object)"
            ]
          },
          "metadata": {},
          "execution_count": 22
        }
      ]
    },
    {
      "cell_type": "code",
      "source": [
        "gtd_df['Weapon_type'].unique()"
      ],
      "metadata": {
        "id": "WKp6PIBhkt5q",
        "colab": {
          "base_uri": "https://localhost:8080/"
        },
        "outputId": "86df5671-17c2-4ab8-88eb-7ed42f28da24"
      },
      "execution_count": 23,
      "outputs": [
        {
          "output_type": "execute_result",
          "data": {
            "text/plain": [
              "array(['Unknown', 'Explosives', 'Incendiary', 'Firearms', 'Chemical',\n",
              "       'Melee', 'Sabotage Equipment',\n",
              "       'Vehicle (not to include vehicle-borne explosives, i.e., car or truck bombs)',\n",
              "       'Fake Weapons', 'Radiological', 'Other', 'Biological'],\n",
              "      dtype=object)"
            ]
          },
          "metadata": {},
          "execution_count": 23
        }
      ]
    },
    {
      "cell_type": "code",
      "source": [
        "gtd_df['Success'].unique()"
      ],
      "metadata": {
        "id": "nwfTes8mk5GW",
        "colab": {
          "base_uri": "https://localhost:8080/"
        },
        "outputId": "40a71072-fb07-48d2-9e83-d842f51f1c37"
      },
      "execution_count": 24,
      "outputs": [
        {
          "output_type": "execute_result",
          "data": {
            "text/plain": [
              "array([1, 0])"
            ]
          },
          "metadata": {},
          "execution_count": 24
        }
      ]
    },
    {
      "cell_type": "code",
      "source": [
        "gtd_df['Multiple'].unique()"
      ],
      "metadata": {
        "id": "74R2__B7lM_W",
        "colab": {
          "base_uri": "https://localhost:8080/"
        },
        "outputId": "c0482ab4-796e-452a-bca6-d597cd6d5798"
      },
      "execution_count": 25,
      "outputs": [
        {
          "output_type": "execute_result",
          "data": {
            "text/plain": [
              "array([ 0.,  1., nan])"
            ]
          },
          "metadata": {},
          "execution_count": 25
        }
      ]
    },
    {
      "cell_type": "code",
      "source": [
        "gtd_df['Sub_Target'].unique()"
      ],
      "metadata": {
        "id": "XXDxjyO239yP",
        "colab": {
          "base_uri": "https://localhost:8080/"
        },
        "outputId": "0efac88b-ea3e-4e5a-84b2-f351c61c2aba"
      },
      "execution_count": 26,
      "outputs": [
        {
          "output_type": "execute_result",
          "data": {
            "text/plain": [
              "array(['Named Civilian',\n",
              "       'Diplomatic Personnel (outside of embassy, consulate)',\n",
              "       'Radio Journalist/Staff/Facility', 'Embassy/Consulate',\n",
              "       'Police Building (headquarters, station, school)',\n",
              "       'Police Security Forces/Officers', 'Electricity',\n",
              "       'Military Recruiting Station/Academy',\n",
              "       'Government Building/Facility/Office',\n",
              "       'Military Barracks/Base/Headquarters/Checkpost',\n",
              "       'Aircraft (not at an airport)', 'Retail/Grocery/Bakery', nan,\n",
              "       'Military Personnel (soldiers, troops, officers, forces)',\n",
              "       'School/University/Educational Building',\n",
              "       'Multinational Corporation', 'Party Office/Facility',\n",
              "       'House/Apartment/Residence', 'Race/Ethnicity Identified',\n",
              "       'Judge/Attorney/Court',\n",
              "       'Police Patrol (including vehicles and convoys)',\n",
              "       'Place of Worship', 'Vehicles/Transportation',\n",
              "       'Bus (excluding tourists)',\n",
              "       'Politician or Political Party Movement/Meeting/Rally',\n",
              "       'Hotel/Resort', 'Airport', 'Bank/Commerce', 'Construction',\n",
              "       'Tour Bus/Van', 'Train/Train Tracks/Trolley',\n",
              "       'Religion Identified', 'Gas/Oil/Electric',\n",
              "       'Newspaper Journalist/Staff/Facility', 'Military Maritime',\n",
              "       'Head of State', 'Entertainment/Cultural/Stadium/Casino',\n",
              "       'Labor Union Related', 'Restaurant/Bar/Café',\n",
              "       'Museum/Cultural Center/Cultural House',\n",
              "       'Government Personnel (excluding police, military)',\n",
              "       'Public Area (garden, parking lot, garage, beach, public building, camp)',\n",
              "       'Industrial/Textiles/Factory', 'International NGO',\n",
              "       'Unnamed Civilian/Unspecified', 'Political Party Member/Rally',\n",
              "       'Telephone/Telegraph', 'Airline Officer/Personnel', 'Water Supply',\n",
              "       'Laborer (General)/Occupation Identified',\n",
              "       'Military Transportation/Vehicle (excluding convoys)',\n",
              "       'Domestic NGO', 'Radio', 'Farm/Ranch', 'Terrorist',\n",
              "       'Military Unit/Patrol/Convoy', 'Fire Fighter/Truck',\n",
              "       'Other Personnel',\n",
              "       'Procession/Gathering (funeral, wedding, birthday, religious)',\n",
              "       'Mining', 'Oil', 'Medical/Pharmaceutical',\n",
              "       'Village/City/Town/Suburb', 'Memorial/Cemetery/Monument',\n",
              "       'International Organization (peacekeeper, aid agency, compound)',\n",
              "       'Affiliated Institution', 'Tourism Travel Agency', 'Television',\n",
              "       'Other (including online news agencies)',\n",
              "       'Television Journalist/Staff/Facility',\n",
              "       'Party Official/Candidate/Other Personnel',\n",
              "       'Highway/Road/Toll/Traffic Signal', 'Oil Tanker', 'Other Facility',\n",
              "       'Tourist', 'Royalty', 'Civilian Maritime', 'Gas', 'NATO',\n",
              "       'Military Aircraft', 'Taxi/Rickshaw',\n",
              "       'Teacher/Professor/Instructor', 'Religious Figure',\n",
              "       'Commercial Maritime', 'Non-State Militia',\n",
              "       'Marketplace/Plaza/Square', 'Prison/Jail', 'Subway',\n",
              "       'Bus Station/Stop', 'Bridge/Car Tunnel', 'Intelligence',\n",
              "       'Alleged Informant', 'Student', 'Legal Services', 'Clinics',\n",
              "       'Election-related', 'Multiple Telecommunication Targets', 'Farmer',\n",
              "       'Food Supply', 'Private Security Company/Firm', 'Port',\n",
              "       'Police Checkpoint', 'Protester',\n",
              "       'Refugee (including Camps/IDP/Asylum Seekers)', 'Paramilitary',\n",
              "       'Military Checkpoint', 'Rally', 'Personnel',\n",
              "       'Internet Infrastructure', 'Ambulance', 'Military Weaponry',\n",
              "       'Demilitarized Zone (including Green Zone)',\n",
              "       'Non-combatant Personnel'], dtype=object)"
            ]
          },
          "metadata": {},
          "execution_count": 26
        }
      ]
    },
    {
      "cell_type": "code",
      "source": [
        "gtd_df.shape\n",
        "print(gtd_df.shape)\n",
        "gtd_df.isnull().sum()"
      ],
      "metadata": {
        "colab": {
          "base_uri": "https://localhost:8080/"
        },
        "id": "R7JGhfZy_y2_",
        "outputId": "3ac98501-4a4f-4763-c2a9-2d3c8159083d"
      },
      "execution_count": 27,
      "outputs": [
        {
          "output_type": "stream",
          "name": "stdout",
          "text": [
            "(181691, 24)\n"
          ]
        },
        {
          "output_type": "execute_result",
          "data": {
            "text/plain": [
              "Year                  0\n",
              "Month                 0\n",
              "Day                   0\n",
              "Country               0\n",
              "State               421\n",
              "Region                0\n",
              "City                434\n",
              "Latitude           4556\n",
              "Longitude          4557\n",
              "AttackType            0\n",
              "Killed            10313\n",
              "Wounded           16311\n",
              "Target              636\n",
              "Summary           66129\n",
              "Group                 0\n",
              "Target_type           0\n",
              "Weapon_type           0\n",
              "Weapon_Detail     67670\n",
              "Success               0\n",
              "Multiple              1\n",
              "Nationality        1559\n",
              "Sub_Target        10373\n",
              "Motive           131130\n",
              "Suicide               0\n",
              "dtype: int64"
            ]
          },
          "metadata": {},
          "execution_count": 27
        }
      ]
    },
    {
      "cell_type": "markdown",
      "source": [
        "## 3. ***Data Wrangling***"
      ],
      "metadata": {
        "id": "dauF4eBmngu3"
      }
    },
    {
      "cell_type": "markdown",
      "source": [
        "### Data Wrangling Code"
      ],
      "metadata": {
        "id": "bKJF3rekwFvQ"
      }
    },
    {
      "cell_type": "code",
      "source": [
        "gtd_df[gtd_df.duplicated()].shape"
      ],
      "metadata": {
        "id": "0BWJlGNplm-V",
        "colab": {
          "base_uri": "https://localhost:8080/"
        },
        "outputId": "0ec9df9a-2792-49d3-b98c-8edbb8fb57d4"
      },
      "execution_count": 28,
      "outputs": [
        {
          "output_type": "execute_result",
          "data": {
            "text/plain": [
              "(9323, 24)"
            ]
          },
          "metadata": {},
          "execution_count": 28
        }
      ]
    },
    {
      "cell_type": "code",
      "source": [
        "gtd_df.drop_duplicates(inplace=True)\n",
        "gtd_df.shape"
      ],
      "metadata": {
        "id": "qX2x4c2IlzT9",
        "colab": {
          "base_uri": "https://localhost:8080/"
        },
        "outputId": "f6d5170e-de44-44dc-e300-fb170fb348ba"
      },
      "execution_count": 29,
      "outputs": [
        {
          "output_type": "stream",
          "name": "stderr",
          "text": [
            "<ipython-input-29-9014d3d1762f>:1: SettingWithCopyWarning: \n",
            "A value is trying to be set on a copy of a slice from a DataFrame\n",
            "\n",
            "See the caveats in the documentation: https://pandas.pydata.org/pandas-docs/stable/user_guide/indexing.html#returning-a-view-versus-a-copy\n",
            "  gtd_df.drop_duplicates(inplace=True)\n"
          ]
        },
        {
          "output_type": "execute_result",
          "data": {
            "text/plain": [
              "(172368, 24)"
            ]
          },
          "metadata": {},
          "execution_count": 29
        }
      ]
    },
    {
      "cell_type": "code",
      "source": [
        "# df_name[Column_name].fillna(value, inplace = True) ; value = Value to replace with\n",
        "gtd_df['State'].fillna('Unknown', inplace = True)\n",
        "gtd_df['City'].fillna('Unknown', inplace = True)\n",
        "gtd_df['Latitude'].fillna(0.0, inplace = True)\n",
        "gtd_df['Longitude'].fillna(0.0, inplace = True)\n",
        "gtd_df['Killed'].fillna(0, inplace = True)\n",
        "gtd_df['Wounded'].fillna(0, inplace = True)\n",
        "gtd_df['Target'].fillna('Unknown', inplace = True)\n",
        "gtd_df['Summary'].fillna('Unknown', inplace = True)\n",
        "gtd_df['Weapon_Detail'].fillna('Unknown', inplace = True)\n",
        "gtd_df['Multiple'].fillna(0, inplace = True)\n",
        "gtd_df['Nationality'].fillna('Unknown', inplace = True)\n",
        "gtd_df['Sub_Target'].fillna('Unknown', inplace = True)"
      ],
      "metadata": {
        "id": "dR6E5Twjz3K5",
        "colab": {
          "base_uri": "https://localhost:8080/"
        },
        "outputId": "22dfd1bc-8afe-4461-8a8e-ce537b383057"
      },
      "execution_count": 30,
      "outputs": [
        {
          "output_type": "stream",
          "name": "stderr",
          "text": [
            "<ipython-input-30-355bbcf1b1e5>:2: SettingWithCopyWarning: \n",
            "A value is trying to be set on a copy of a slice from a DataFrame\n",
            "\n",
            "See the caveats in the documentation: https://pandas.pydata.org/pandas-docs/stable/user_guide/indexing.html#returning-a-view-versus-a-copy\n",
            "  gtd_df['State'].fillna('Unknown', inplace = True)\n",
            "<ipython-input-30-355bbcf1b1e5>:3: SettingWithCopyWarning: \n",
            "A value is trying to be set on a copy of a slice from a DataFrame\n",
            "\n",
            "See the caveats in the documentation: https://pandas.pydata.org/pandas-docs/stable/user_guide/indexing.html#returning-a-view-versus-a-copy\n",
            "  gtd_df['City'].fillna('Unknown', inplace = True)\n",
            "<ipython-input-30-355bbcf1b1e5>:4: SettingWithCopyWarning: \n",
            "A value is trying to be set on a copy of a slice from a DataFrame\n",
            "\n",
            "See the caveats in the documentation: https://pandas.pydata.org/pandas-docs/stable/user_guide/indexing.html#returning-a-view-versus-a-copy\n",
            "  gtd_df['Latitude'].fillna(0.0, inplace = True)\n",
            "<ipython-input-30-355bbcf1b1e5>:5: SettingWithCopyWarning: \n",
            "A value is trying to be set on a copy of a slice from a DataFrame\n",
            "\n",
            "See the caveats in the documentation: https://pandas.pydata.org/pandas-docs/stable/user_guide/indexing.html#returning-a-view-versus-a-copy\n",
            "  gtd_df['Longitude'].fillna(0.0, inplace = True)\n",
            "<ipython-input-30-355bbcf1b1e5>:6: SettingWithCopyWarning: \n",
            "A value is trying to be set on a copy of a slice from a DataFrame\n",
            "\n",
            "See the caveats in the documentation: https://pandas.pydata.org/pandas-docs/stable/user_guide/indexing.html#returning-a-view-versus-a-copy\n",
            "  gtd_df['Killed'].fillna(0, inplace = True)\n",
            "<ipython-input-30-355bbcf1b1e5>:7: SettingWithCopyWarning: \n",
            "A value is trying to be set on a copy of a slice from a DataFrame\n",
            "\n",
            "See the caveats in the documentation: https://pandas.pydata.org/pandas-docs/stable/user_guide/indexing.html#returning-a-view-versus-a-copy\n",
            "  gtd_df['Wounded'].fillna(0, inplace = True)\n",
            "<ipython-input-30-355bbcf1b1e5>:8: SettingWithCopyWarning: \n",
            "A value is trying to be set on a copy of a slice from a DataFrame\n",
            "\n",
            "See the caveats in the documentation: https://pandas.pydata.org/pandas-docs/stable/user_guide/indexing.html#returning-a-view-versus-a-copy\n",
            "  gtd_df['Target'].fillna('Unknown', inplace = True)\n",
            "<ipython-input-30-355bbcf1b1e5>:9: SettingWithCopyWarning: \n",
            "A value is trying to be set on a copy of a slice from a DataFrame\n",
            "\n",
            "See the caveats in the documentation: https://pandas.pydata.org/pandas-docs/stable/user_guide/indexing.html#returning-a-view-versus-a-copy\n",
            "  gtd_df['Summary'].fillna('Unknown', inplace = True)\n",
            "<ipython-input-30-355bbcf1b1e5>:10: SettingWithCopyWarning: \n",
            "A value is trying to be set on a copy of a slice from a DataFrame\n",
            "\n",
            "See the caveats in the documentation: https://pandas.pydata.org/pandas-docs/stable/user_guide/indexing.html#returning-a-view-versus-a-copy\n",
            "  gtd_df['Weapon_Detail'].fillna('Unknown', inplace = True)\n",
            "<ipython-input-30-355bbcf1b1e5>:11: SettingWithCopyWarning: \n",
            "A value is trying to be set on a copy of a slice from a DataFrame\n",
            "\n",
            "See the caveats in the documentation: https://pandas.pydata.org/pandas-docs/stable/user_guide/indexing.html#returning-a-view-versus-a-copy\n",
            "  gtd_df['Multiple'].fillna(0, inplace = True)\n",
            "<ipython-input-30-355bbcf1b1e5>:12: SettingWithCopyWarning: \n",
            "A value is trying to be set on a copy of a slice from a DataFrame\n",
            "\n",
            "See the caveats in the documentation: https://pandas.pydata.org/pandas-docs/stable/user_guide/indexing.html#returning-a-view-versus-a-copy\n",
            "  gtd_df['Nationality'].fillna('Unknown', inplace = True)\n",
            "<ipython-input-30-355bbcf1b1e5>:13: SettingWithCopyWarning: \n",
            "A value is trying to be set on a copy of a slice from a DataFrame\n",
            "\n",
            "See the caveats in the documentation: https://pandas.pydata.org/pandas-docs/stable/user_guide/indexing.html#returning-a-view-versus-a-copy\n",
            "  gtd_df['Sub_Target'].fillna('Unknown', inplace = True)\n"
          ]
        }
      ]
    },
    {
      "cell_type": "code",
      "source": [
        "# gtd_df.isnull().sum()"
      ],
      "metadata": {
        "id": "n7jTAIs2nuef"
      },
      "execution_count": 31,
      "outputs": []
    },
    {
      "cell_type": "code",
      "source": [
        "# Write your code to make your dataset analysis ready.\n",
        "gtd_df['Killed']=gtd_df['Killed'].astype('int64')\n",
        "gtd_df['Wounded']=gtd_df['Wounded'].astype('int64')\n",
        "gtd_df['Success']=gtd_df['Success'].astype('bool')\n",
        "gtd_df['Multiple']=gtd_df['Multiple'].astype('bool')"
      ],
      "metadata": {
        "id": "14sbTqC7oHM6",
        "colab": {
          "base_uri": "https://localhost:8080/"
        },
        "outputId": "f08bdaa7-bf46-4af0-de76-4c41dd8010b4"
      },
      "execution_count": 32,
      "outputs": [
        {
          "output_type": "stream",
          "name": "stderr",
          "text": [
            "<ipython-input-32-c5c2096620a4>:2: SettingWithCopyWarning: \n",
            "A value is trying to be set on a copy of a slice from a DataFrame.\n",
            "Try using .loc[row_indexer,col_indexer] = value instead\n",
            "\n",
            "See the caveats in the documentation: https://pandas.pydata.org/pandas-docs/stable/user_guide/indexing.html#returning-a-view-versus-a-copy\n",
            "  gtd_df['Killed']=gtd_df['Killed'].astype('int64')\n",
            "<ipython-input-32-c5c2096620a4>:3: SettingWithCopyWarning: \n",
            "A value is trying to be set on a copy of a slice from a DataFrame.\n",
            "Try using .loc[row_indexer,col_indexer] = value instead\n",
            "\n",
            "See the caveats in the documentation: https://pandas.pydata.org/pandas-docs/stable/user_guide/indexing.html#returning-a-view-versus-a-copy\n",
            "  gtd_df['Wounded']=gtd_df['Wounded'].astype('int64')\n",
            "<ipython-input-32-c5c2096620a4>:4: SettingWithCopyWarning: \n",
            "A value is trying to be set on a copy of a slice from a DataFrame.\n",
            "Try using .loc[row_indexer,col_indexer] = value instead\n",
            "\n",
            "See the caveats in the documentation: https://pandas.pydata.org/pandas-docs/stable/user_guide/indexing.html#returning-a-view-versus-a-copy\n",
            "  gtd_df['Success']=gtd_df['Success'].astype('bool')\n",
            "<ipython-input-32-c5c2096620a4>:5: SettingWithCopyWarning: \n",
            "A value is trying to be set on a copy of a slice from a DataFrame.\n",
            "Try using .loc[row_indexer,col_indexer] = value instead\n",
            "\n",
            "See the caveats in the documentation: https://pandas.pydata.org/pandas-docs/stable/user_guide/indexing.html#returning-a-view-versus-a-copy\n",
            "  gtd_df['Multiple']=gtd_df['Multiple'].astype('bool')\n"
          ]
        }
      ]
    },
    {
      "cell_type": "code",
      "source": [
        "gtd_df.info()"
      ],
      "metadata": {
        "id": "6N1YsxN15M3N",
        "colab": {
          "base_uri": "https://localhost:8080/"
        },
        "outputId": "9a74957d-ed59-41f9-cb50-ba3319c27b7f"
      },
      "execution_count": 33,
      "outputs": [
        {
          "output_type": "stream",
          "name": "stdout",
          "text": [
            "<class 'pandas.core.frame.DataFrame'>\n",
            "Int64Index: 172368 entries, 0 to 181690\n",
            "Data columns (total 24 columns):\n",
            " #   Column         Non-Null Count   Dtype  \n",
            "---  ------         --------------   -----  \n",
            " 0   Year           172368 non-null  int64  \n",
            " 1   Month          172368 non-null  int64  \n",
            " 2   Day            172368 non-null  int64  \n",
            " 3   Country        172368 non-null  object \n",
            " 4   State          172368 non-null  object \n",
            " 5   Region         172368 non-null  object \n",
            " 6   City           172368 non-null  object \n",
            " 7   Latitude       172368 non-null  float64\n",
            " 8   Longitude      172368 non-null  float64\n",
            " 9   AttackType     172368 non-null  object \n",
            " 10  Killed         172368 non-null  int64  \n",
            " 11  Wounded        172368 non-null  int64  \n",
            " 12  Target         172368 non-null  object \n",
            " 13  Summary        172368 non-null  object \n",
            " 14  Group          172368 non-null  object \n",
            " 15  Target_type    172368 non-null  object \n",
            " 16  Weapon_type    172368 non-null  object \n",
            " 17  Weapon_Detail  172368 non-null  object \n",
            " 18  Success        172368 non-null  bool   \n",
            " 19  Multiple       172368 non-null  bool   \n",
            " 20  Nationality    172368 non-null  object \n",
            " 21  Sub_Target     172368 non-null  object \n",
            " 22  Motive         49917 non-null   object \n",
            " 23  Suicide        172368 non-null  int64  \n",
            "dtypes: bool(2), float64(2), int64(6), object(14)\n",
            "memory usage: 30.6+ MB\n"
          ]
        }
      ]
    },
    {
      "cell_type": "code",
      "source": [
        "gtd_df['Killed'].unique()"
      ],
      "metadata": {
        "id": "xzi087BI5XcV",
        "colab": {
          "base_uri": "https://localhost:8080/"
        },
        "outputId": "ba0d7324-c76c-4772-86fb-099b07bb809c"
      },
      "execution_count": 34,
      "outputs": [
        {
          "output_type": "execute_result",
          "data": {
            "text/plain": [
              "array([   1,    0,    7,   47,    2,   36,    5,    3,    4,   25,   15,\n",
              "         26,    8,   81,    6,    9,   16,   30,   31,   12,   21,   14,\n",
              "         88,   11,   10,   27,   18,   22,   19,   92,   13,   73,  100,\n",
              "         42,   43,   17,   98,  422,   48,   34,   54,   50,   35,   20,\n",
              "         41,   37,   28,   40,   32,   85,   23,  300,   60,   24,   58,\n",
              "         70,   87,   45,   38,   29,   74,   83,   90,   66,   80,   67,\n",
              "         51,   39,  114,  124,   76,   33,   75,   57,   62,   46,   56,\n",
              "         63,  120,  102,   78,   79,   52,   77,  200,   49,  111,  165,\n",
              "         44,  241,   64,  108,   65,  132,  270,  228,  110,  136,  180,\n",
              "        250,   93,  130,   59,   94,   53,  146,  329,   97,   71,  240,\n",
              "        227,  126,  106,  388,   68,   84,   82,  171,  107,   55,  112,\n",
              "         72,   96,  140,   61,  105,  150,  115,   89, 1180,  170,  168,\n",
              "        121,  375,   91,  304,  123,  135,  256,  109,  271,  206,  104,\n",
              "        320,  275,  224,  118,  129,   95,  259, 1384, 1383,  190,  119,\n",
              "        101,  116,  518,  344,  160,  188,  103,  205,  145,  153,  127,\n",
              "         69,  141,  134,  400,   86,  184,  210,  142,  212,  287,  315,\n",
              "        151,  670, 1570,  310,  298,  953,  517,  201,  122,  158,  117,\n",
              "        144,  208,  152,  230,  280,  174,  143,  383,  283,  154,  284,\n",
              "        433,  266,  133,  163,  128,  588,  311])"
            ]
          },
          "metadata": {},
          "execution_count": 34
        }
      ]
    },
    {
      "cell_type": "code",
      "source": [
        "gtd_df['Success'].unique()"
      ],
      "metadata": {
        "id": "fwdvjUmp5XUH",
        "colab": {
          "base_uri": "https://localhost:8080/"
        },
        "outputId": "93733fc1-f495-43ee-d1f9-0b59c4a2dd3c"
      },
      "execution_count": 35,
      "outputs": [
        {
          "output_type": "execute_result",
          "data": {
            "text/plain": [
              "array([ True, False])"
            ]
          },
          "metadata": {},
          "execution_count": 35
        }
      ]
    },
    {
      "cell_type": "code",
      "source": [
        "gtd_df['Multiple'].unique()"
      ],
      "metadata": {
        "id": "Xz-PZr6p5XIH",
        "colab": {
          "base_uri": "https://localhost:8080/"
        },
        "outputId": "0e14dde5-4182-4cab-830d-3c2636e230a0"
      },
      "execution_count": 36,
      "outputs": [
        {
          "output_type": "execute_result",
          "data": {
            "text/plain": [
              "array([False,  True])"
            ]
          },
          "metadata": {},
          "execution_count": 36
        }
      ]
    },
    {
      "cell_type": "code",
      "source": [
        "gtd_df['Wounded'].unique()"
      ],
      "metadata": {
        "id": "2kSdtJL25XAK",
        "colab": {
          "base_uri": "https://localhost:8080/"
        },
        "outputId": "63cb3115-6a9e-418a-b530-d24e7a8ec014"
      },
      "execution_count": 37,
      "outputs": [
        {
          "output_type": "execute_result",
          "data": {
            "text/plain": [
              "array([   0,    1,    2,    7,    9,   17,    5,    3,   10,   12,   20,\n",
              "          4,   11,   27,   13,   19,  130,   56,   24,    6,   72,  238,\n",
              "         55,   15,    8,   18,   50,   34,   14,   70,  102,   41,   48,\n",
              "         36,   25,   81,   54,   53,  100,   45,   33,   40,   62,   74,\n",
              "         22,   31,   16,   30,  285,   23,   42,   43,   76,   44,   52,\n",
              "         46,   49,  160,   37,   21,   60,   78,   26,   28,   39,   38,\n",
              "         35,   32,   80,   47,  188,  215,   85,   75,  161,   90,  300,\n",
              "         95,  135,   61,  138,   71,  700,   66,  136,  120,  217,  319,\n",
              "        133,   68,   73,   29,  751,  200,  112,  250,   82,  132,  230,\n",
              "        107,  114,   84,  140,  150,   96,   51,   58,   64,  295,  106,\n",
              "        125,   69,   59,   57,  122,  109,   88,  115,  176,  220,   97,\n",
              "         65,  800,  173,   92,  500,  236,   98,  286,  141, 5500,  650,\n",
              "        671,   86,  104,   83,  101, 1272,  105,  386,  391,  110,  149,\n",
              "         89,   91,  119,   77,  118,   67,  170,  194,  192,  227,  260,\n",
              "       4000,  180,  184,   99,   94,  137, 8190, 8191,  171,  121,  103,\n",
              "        162,  197,  151,  224,  134,  233,  167,  450,  216,  145,   63,\n",
              "        727,  182,  159,  108,  128,  340,  163,  542,   87,  155,  817,\n",
              "        257,  148,  123,  246,  127,  347,  178,  168,  207,  183,  117,\n",
              "        750,  147, 1001,   93,  154,  235,  158,  211,  116,  276,  552,\n",
              "        360,  113,  157,  175,  301,  131,  400,  370,  169,  201,  111,\n",
              "        143,  153,  124,   79,  270,  152,  296,  245, 1500,  351,  600,\n",
              "        433,  177,  491,  405,  851,  316])"
            ]
          },
          "metadata": {},
          "execution_count": 37
        }
      ]
    },
    {
      "cell_type": "code",
      "source": [],
      "metadata": {
        "id": "tyspxvpeiYEQ"
      },
      "execution_count": 37,
      "outputs": []
    },
    {
      "cell_type": "code",
      "source": [
        "gtd_df_copy=gtd_df.copy()\n",
        "gtd_df_copy.head()"
      ],
      "metadata": {
        "id": "whQd_42V5W4A",
        "colab": {
          "base_uri": "https://localhost:8080/",
          "height": 409
        },
        "outputId": "ecf41dc2-0098-4db4-e938-be4f3c84c890"
      },
      "execution_count": 38,
      "outputs": [
        {
          "output_type": "execute_result",
          "data": {
            "text/plain": [
              "   Year  Month  Day             Country    State                       Region  \\\n",
              "0  1970      7    2  Dominican Republic  Unknown  Central America & Caribbean   \n",
              "1  1970      0    0              Mexico  Federal                North America   \n",
              "2  1970      1    0         Philippines   Tarlac               Southeast Asia   \n",
              "3  1970      1    0              Greece   Attica               Western Europe   \n",
              "4  1970      1    0               Japan  Fukouka                    East Asia   \n",
              "\n",
              "            City   Latitude   Longitude                      AttackType  \\\n",
              "0  Santo Domingo  18.456792  -69.951164                   Assassination   \n",
              "1    Mexico city  19.371887  -99.086624     Hostage Taking (Kidnapping)   \n",
              "2        Unknown  15.478598  120.599741                   Assassination   \n",
              "3         Athens  37.997490   23.762728               Bombing/Explosion   \n",
              "4        Fukouka  33.580412  130.396361  Facility/Infrastructure Attack   \n",
              "\n",
              "   Killed  Wounded                   Target  Summary  \\\n",
              "0       1        0             Julio Guzman  Unknown   \n",
              "1       0        0  Nadine Chaval, daughter  Unknown   \n",
              "2       1        0                 Employee  Unknown   \n",
              "3       0        0             U.S. Embassy  Unknown   \n",
              "4       0        0           U.S. Consulate  Unknown   \n",
              "\n",
              "                                Group                  Target_type  \\\n",
              "0                              MANO-D  Private Citizens & Property   \n",
              "1  23rd of September Communist League      Government (Diplomatic)   \n",
              "2                             Unknown          Journalists & Media   \n",
              "3                             Unknown      Government (Diplomatic)   \n",
              "4                             Unknown      Government (Diplomatic)   \n",
              "\n",
              "  Weapon_type Weapon_Detail  Success  Multiple         Nationality  \\\n",
              "0     Unknown       Unknown     True     False  Dominican Republic   \n",
              "1     Unknown       Unknown     True     False             Belgium   \n",
              "2     Unknown       Unknown     True     False       United States   \n",
              "3  Explosives     Explosive     True     False       United States   \n",
              "4  Incendiary    Incendiary     True     False       United States   \n",
              "\n",
              "                                          Sub_Target Motive  Suicide  \n",
              "0                                     Named Civilian    NaN        0  \n",
              "1  Diplomatic Personnel (outside of embassy, cons...    NaN        0  \n",
              "2                    Radio Journalist/Staff/Facility    NaN        0  \n",
              "3                                  Embassy/Consulate    NaN        0  \n",
              "4                                  Embassy/Consulate    NaN        0  "
            ],
            "text/html": [
              "\n",
              "\n",
              "  <div id=\"df-ab308ad7-c84d-4a61-9fe3-7e72ec8faf1a\">\n",
              "    <div class=\"colab-df-container\">\n",
              "      <div>\n",
              "<style scoped>\n",
              "    .dataframe tbody tr th:only-of-type {\n",
              "        vertical-align: middle;\n",
              "    }\n",
              "\n",
              "    .dataframe tbody tr th {\n",
              "        vertical-align: top;\n",
              "    }\n",
              "\n",
              "    .dataframe thead th {\n",
              "        text-align: right;\n",
              "    }\n",
              "</style>\n",
              "<table border=\"1\" class=\"dataframe\">\n",
              "  <thead>\n",
              "    <tr style=\"text-align: right;\">\n",
              "      <th></th>\n",
              "      <th>Year</th>\n",
              "      <th>Month</th>\n",
              "      <th>Day</th>\n",
              "      <th>Country</th>\n",
              "      <th>State</th>\n",
              "      <th>Region</th>\n",
              "      <th>City</th>\n",
              "      <th>Latitude</th>\n",
              "      <th>Longitude</th>\n",
              "      <th>AttackType</th>\n",
              "      <th>Killed</th>\n",
              "      <th>Wounded</th>\n",
              "      <th>Target</th>\n",
              "      <th>Summary</th>\n",
              "      <th>Group</th>\n",
              "      <th>Target_type</th>\n",
              "      <th>Weapon_type</th>\n",
              "      <th>Weapon_Detail</th>\n",
              "      <th>Success</th>\n",
              "      <th>Multiple</th>\n",
              "      <th>Nationality</th>\n",
              "      <th>Sub_Target</th>\n",
              "      <th>Motive</th>\n",
              "      <th>Suicide</th>\n",
              "    </tr>\n",
              "  </thead>\n",
              "  <tbody>\n",
              "    <tr>\n",
              "      <th>0</th>\n",
              "      <td>1970</td>\n",
              "      <td>7</td>\n",
              "      <td>2</td>\n",
              "      <td>Dominican Republic</td>\n",
              "      <td>Unknown</td>\n",
              "      <td>Central America &amp; Caribbean</td>\n",
              "      <td>Santo Domingo</td>\n",
              "      <td>18.456792</td>\n",
              "      <td>-69.951164</td>\n",
              "      <td>Assassination</td>\n",
              "      <td>1</td>\n",
              "      <td>0</td>\n",
              "      <td>Julio Guzman</td>\n",
              "      <td>Unknown</td>\n",
              "      <td>MANO-D</td>\n",
              "      <td>Private Citizens &amp; Property</td>\n",
              "      <td>Unknown</td>\n",
              "      <td>Unknown</td>\n",
              "      <td>True</td>\n",
              "      <td>False</td>\n",
              "      <td>Dominican Republic</td>\n",
              "      <td>Named Civilian</td>\n",
              "      <td>NaN</td>\n",
              "      <td>0</td>\n",
              "    </tr>\n",
              "    <tr>\n",
              "      <th>1</th>\n",
              "      <td>1970</td>\n",
              "      <td>0</td>\n",
              "      <td>0</td>\n",
              "      <td>Mexico</td>\n",
              "      <td>Federal</td>\n",
              "      <td>North America</td>\n",
              "      <td>Mexico city</td>\n",
              "      <td>19.371887</td>\n",
              "      <td>-99.086624</td>\n",
              "      <td>Hostage Taking (Kidnapping)</td>\n",
              "      <td>0</td>\n",
              "      <td>0</td>\n",
              "      <td>Nadine Chaval, daughter</td>\n",
              "      <td>Unknown</td>\n",
              "      <td>23rd of September Communist League</td>\n",
              "      <td>Government (Diplomatic)</td>\n",
              "      <td>Unknown</td>\n",
              "      <td>Unknown</td>\n",
              "      <td>True</td>\n",
              "      <td>False</td>\n",
              "      <td>Belgium</td>\n",
              "      <td>Diplomatic Personnel (outside of embassy, cons...</td>\n",
              "      <td>NaN</td>\n",
              "      <td>0</td>\n",
              "    </tr>\n",
              "    <tr>\n",
              "      <th>2</th>\n",
              "      <td>1970</td>\n",
              "      <td>1</td>\n",
              "      <td>0</td>\n",
              "      <td>Philippines</td>\n",
              "      <td>Tarlac</td>\n",
              "      <td>Southeast Asia</td>\n",
              "      <td>Unknown</td>\n",
              "      <td>15.478598</td>\n",
              "      <td>120.599741</td>\n",
              "      <td>Assassination</td>\n",
              "      <td>1</td>\n",
              "      <td>0</td>\n",
              "      <td>Employee</td>\n",
              "      <td>Unknown</td>\n",
              "      <td>Unknown</td>\n",
              "      <td>Journalists &amp; Media</td>\n",
              "      <td>Unknown</td>\n",
              "      <td>Unknown</td>\n",
              "      <td>True</td>\n",
              "      <td>False</td>\n",
              "      <td>United States</td>\n",
              "      <td>Radio Journalist/Staff/Facility</td>\n",
              "      <td>NaN</td>\n",
              "      <td>0</td>\n",
              "    </tr>\n",
              "    <tr>\n",
              "      <th>3</th>\n",
              "      <td>1970</td>\n",
              "      <td>1</td>\n",
              "      <td>0</td>\n",
              "      <td>Greece</td>\n",
              "      <td>Attica</td>\n",
              "      <td>Western Europe</td>\n",
              "      <td>Athens</td>\n",
              "      <td>37.997490</td>\n",
              "      <td>23.762728</td>\n",
              "      <td>Bombing/Explosion</td>\n",
              "      <td>0</td>\n",
              "      <td>0</td>\n",
              "      <td>U.S. Embassy</td>\n",
              "      <td>Unknown</td>\n",
              "      <td>Unknown</td>\n",
              "      <td>Government (Diplomatic)</td>\n",
              "      <td>Explosives</td>\n",
              "      <td>Explosive</td>\n",
              "      <td>True</td>\n",
              "      <td>False</td>\n",
              "      <td>United States</td>\n",
              "      <td>Embassy/Consulate</td>\n",
              "      <td>NaN</td>\n",
              "      <td>0</td>\n",
              "    </tr>\n",
              "    <tr>\n",
              "      <th>4</th>\n",
              "      <td>1970</td>\n",
              "      <td>1</td>\n",
              "      <td>0</td>\n",
              "      <td>Japan</td>\n",
              "      <td>Fukouka</td>\n",
              "      <td>East Asia</td>\n",
              "      <td>Fukouka</td>\n",
              "      <td>33.580412</td>\n",
              "      <td>130.396361</td>\n",
              "      <td>Facility/Infrastructure Attack</td>\n",
              "      <td>0</td>\n",
              "      <td>0</td>\n",
              "      <td>U.S. Consulate</td>\n",
              "      <td>Unknown</td>\n",
              "      <td>Unknown</td>\n",
              "      <td>Government (Diplomatic)</td>\n",
              "      <td>Incendiary</td>\n",
              "      <td>Incendiary</td>\n",
              "      <td>True</td>\n",
              "      <td>False</td>\n",
              "      <td>United States</td>\n",
              "      <td>Embassy/Consulate</td>\n",
              "      <td>NaN</td>\n",
              "      <td>0</td>\n",
              "    </tr>\n",
              "  </tbody>\n",
              "</table>\n",
              "</div>\n",
              "      <button class=\"colab-df-convert\" onclick=\"convertToInteractive('df-ab308ad7-c84d-4a61-9fe3-7e72ec8faf1a')\"\n",
              "              title=\"Convert this dataframe to an interactive table.\"\n",
              "              style=\"display:none;\">\n",
              "\n",
              "  <svg xmlns=\"http://www.w3.org/2000/svg\" height=\"24px\"viewBox=\"0 0 24 24\"\n",
              "       width=\"24px\">\n",
              "    <path d=\"M0 0h24v24H0V0z\" fill=\"none\"/>\n",
              "    <path d=\"M18.56 5.44l.94 2.06.94-2.06 2.06-.94-2.06-.94-.94-2.06-.94 2.06-2.06.94zm-11 1L8.5 8.5l.94-2.06 2.06-.94-2.06-.94L8.5 2.5l-.94 2.06-2.06.94zm10 10l.94 2.06.94-2.06 2.06-.94-2.06-.94-.94-2.06-.94 2.06-2.06.94z\"/><path d=\"M17.41 7.96l-1.37-1.37c-.4-.4-.92-.59-1.43-.59-.52 0-1.04.2-1.43.59L10.3 9.45l-7.72 7.72c-.78.78-.78 2.05 0 2.83L4 21.41c.39.39.9.59 1.41.59.51 0 1.02-.2 1.41-.59l7.78-7.78 2.81-2.81c.8-.78.8-2.07 0-2.86zM5.41 20L4 18.59l7.72-7.72 1.47 1.35L5.41 20z\"/>\n",
              "  </svg>\n",
              "      </button>\n",
              "\n",
              "\n",
              "\n",
              "    <div id=\"df-dea5e09a-eaf6-46f2-accf-779b18563a96\">\n",
              "      <button class=\"colab-df-quickchart\" onclick=\"quickchart('df-dea5e09a-eaf6-46f2-accf-779b18563a96')\"\n",
              "              title=\"Suggest charts.\"\n",
              "              style=\"display:none;\">\n",
              "\n",
              "<svg xmlns=\"http://www.w3.org/2000/svg\" height=\"24px\"viewBox=\"0 0 24 24\"\n",
              "     width=\"24px\">\n",
              "    <g>\n",
              "        <path d=\"M19 3H5c-1.1 0-2 .9-2 2v14c0 1.1.9 2 2 2h14c1.1 0 2-.9 2-2V5c0-1.1-.9-2-2-2zM9 17H7v-7h2v7zm4 0h-2V7h2v10zm4 0h-2v-4h2v4z\"/>\n",
              "    </g>\n",
              "</svg>\n",
              "      </button>\n",
              "    </div>\n",
              "\n",
              "<style>\n",
              "  .colab-df-quickchart {\n",
              "    background-color: #E8F0FE;\n",
              "    border: none;\n",
              "    border-radius: 50%;\n",
              "    cursor: pointer;\n",
              "    display: none;\n",
              "    fill: #1967D2;\n",
              "    height: 32px;\n",
              "    padding: 0 0 0 0;\n",
              "    width: 32px;\n",
              "  }\n",
              "\n",
              "  .colab-df-quickchart:hover {\n",
              "    background-color: #E2EBFA;\n",
              "    box-shadow: 0px 1px 2px rgba(60, 64, 67, 0.3), 0px 1px 3px 1px rgba(60, 64, 67, 0.15);\n",
              "    fill: #174EA6;\n",
              "  }\n",
              "\n",
              "  [theme=dark] .colab-df-quickchart {\n",
              "    background-color: #3B4455;\n",
              "    fill: #D2E3FC;\n",
              "  }\n",
              "\n",
              "  [theme=dark] .colab-df-quickchart:hover {\n",
              "    background-color: #434B5C;\n",
              "    box-shadow: 0px 1px 3px 1px rgba(0, 0, 0, 0.15);\n",
              "    filter: drop-shadow(0px 1px 2px rgba(0, 0, 0, 0.3));\n",
              "    fill: #FFFFFF;\n",
              "  }\n",
              "</style>\n",
              "\n",
              "    <script>\n",
              "      async function quickchart(key) {\n",
              "        const containerElement = document.querySelector('#' + key);\n",
              "        const charts = await google.colab.kernel.invokeFunction(\n",
              "            'suggestCharts', [key], {});\n",
              "      }\n",
              "    </script>\n",
              "\n",
              "      <script>\n",
              "\n",
              "function displayQuickchartButton(domScope) {\n",
              "  let quickchartButtonEl =\n",
              "    domScope.querySelector('#df-dea5e09a-eaf6-46f2-accf-779b18563a96 button.colab-df-quickchart');\n",
              "  quickchartButtonEl.style.display =\n",
              "    google.colab.kernel.accessAllowed ? 'block' : 'none';\n",
              "}\n",
              "\n",
              "        displayQuickchartButton(document);\n",
              "      </script>\n",
              "      <style>\n",
              "    .colab-df-container {\n",
              "      display:flex;\n",
              "      flex-wrap:wrap;\n",
              "      gap: 12px;\n",
              "    }\n",
              "\n",
              "    .colab-df-convert {\n",
              "      background-color: #E8F0FE;\n",
              "      border: none;\n",
              "      border-radius: 50%;\n",
              "      cursor: pointer;\n",
              "      display: none;\n",
              "      fill: #1967D2;\n",
              "      height: 32px;\n",
              "      padding: 0 0 0 0;\n",
              "      width: 32px;\n",
              "    }\n",
              "\n",
              "    .colab-df-convert:hover {\n",
              "      background-color: #E2EBFA;\n",
              "      box-shadow: 0px 1px 2px rgba(60, 64, 67, 0.3), 0px 1px 3px 1px rgba(60, 64, 67, 0.15);\n",
              "      fill: #174EA6;\n",
              "    }\n",
              "\n",
              "    [theme=dark] .colab-df-convert {\n",
              "      background-color: #3B4455;\n",
              "      fill: #D2E3FC;\n",
              "    }\n",
              "\n",
              "    [theme=dark] .colab-df-convert:hover {\n",
              "      background-color: #434B5C;\n",
              "      box-shadow: 0px 1px 3px 1px rgba(0, 0, 0, 0.15);\n",
              "      filter: drop-shadow(0px 1px 2px rgba(0, 0, 0, 0.3));\n",
              "      fill: #FFFFFF;\n",
              "    }\n",
              "  </style>\n",
              "\n",
              "      <script>\n",
              "        const buttonEl =\n",
              "          document.querySelector('#df-ab308ad7-c84d-4a61-9fe3-7e72ec8faf1a button.colab-df-convert');\n",
              "        buttonEl.style.display =\n",
              "          google.colab.kernel.accessAllowed ? 'block' : 'none';\n",
              "\n",
              "        async function convertToInteractive(key) {\n",
              "          const element = document.querySelector('#df-ab308ad7-c84d-4a61-9fe3-7e72ec8faf1a');\n",
              "          const dataTable =\n",
              "            await google.colab.kernel.invokeFunction('convertToInteractive',\n",
              "                                                     [key], {});\n",
              "          if (!dataTable) return;\n",
              "\n",
              "          const docLinkHtml = 'Like what you see? Visit the ' +\n",
              "            '<a target=\"_blank\" href=https://colab.research.google.com/notebooks/data_table.ipynb>data table notebook</a>'\n",
              "            + ' to learn more about interactive tables.';\n",
              "          element.innerHTML = '';\n",
              "          dataTable['output_type'] = 'display_data';\n",
              "          await google.colab.output.renderOutput(dataTable, element);\n",
              "          const docLink = document.createElement('div');\n",
              "          docLink.innerHTML = docLinkHtml;\n",
              "          element.appendChild(docLink);\n",
              "        }\n",
              "      </script>\n",
              "    </div>\n",
              "  </div>\n"
            ]
          },
          "metadata": {},
          "execution_count": 38
        }
      ]
    },
    {
      "cell_type": "code",
      "source": [
        "#Q1 What are the regions with the highest number of terrorist incidents in the Global Terrorism Dataset?\n",
        "\n",
        "# count\n",
        "incidentbyregion =gtd_df_copy.groupby('Region')['Region'].count()\n",
        "#create Dataframe\n",
        "incidentbyregion_df = pd.DataFrame({'Region':incidentbyregion.index, 'Incidentcount':incidentbyregion.values})\n",
        "#sort_values\n",
        "incidientbyregion_df= incidentbyregion_df.sort_values('Incidentcount',ascending=False)\n",
        "# Display\n",
        "incidientbyregion_df\n",
        "\n",
        "\n"
      ],
      "metadata": {
        "id": "1c5CtOzr7b9o",
        "colab": {
          "base_uri": "https://localhost:8080/",
          "height": 425
        },
        "outputId": "98733279-c546-40f4-c61c-834ba14cdf8e"
      },
      "execution_count": 39,
      "outputs": [
        {
          "output_type": "execute_result",
          "data": {
            "text/plain": [
              "                         Region  Incidentcount\n",
              "5    Middle East & North Africa          48764\n",
              "8                    South Asia          43566\n",
              "10           Sub-Saharan Africa          17094\n",
              "7                 South America          16628\n",
              "11               Western Europe          15216\n",
              "9                Southeast Asia          12093\n",
              "1   Central America & Caribbean           9072\n",
              "4                Eastern Europe           5019\n",
              "6                 North America           3373\n",
              "3                     East Asia            714\n",
              "2                  Central Asia            554\n",
              "0         Australasia & Oceania            275"
            ],
            "text/html": [
              "\n",
              "\n",
              "  <div id=\"df-ba4602b9-c158-4491-bf39-7c67e3b1c99d\">\n",
              "    <div class=\"colab-df-container\">\n",
              "      <div>\n",
              "<style scoped>\n",
              "    .dataframe tbody tr th:only-of-type {\n",
              "        vertical-align: middle;\n",
              "    }\n",
              "\n",
              "    .dataframe tbody tr th {\n",
              "        vertical-align: top;\n",
              "    }\n",
              "\n",
              "    .dataframe thead th {\n",
              "        text-align: right;\n",
              "    }\n",
              "</style>\n",
              "<table border=\"1\" class=\"dataframe\">\n",
              "  <thead>\n",
              "    <tr style=\"text-align: right;\">\n",
              "      <th></th>\n",
              "      <th>Region</th>\n",
              "      <th>Incidentcount</th>\n",
              "    </tr>\n",
              "  </thead>\n",
              "  <tbody>\n",
              "    <tr>\n",
              "      <th>5</th>\n",
              "      <td>Middle East &amp; North Africa</td>\n",
              "      <td>48764</td>\n",
              "    </tr>\n",
              "    <tr>\n",
              "      <th>8</th>\n",
              "      <td>South Asia</td>\n",
              "      <td>43566</td>\n",
              "    </tr>\n",
              "    <tr>\n",
              "      <th>10</th>\n",
              "      <td>Sub-Saharan Africa</td>\n",
              "      <td>17094</td>\n",
              "    </tr>\n",
              "    <tr>\n",
              "      <th>7</th>\n",
              "      <td>South America</td>\n",
              "      <td>16628</td>\n",
              "    </tr>\n",
              "    <tr>\n",
              "      <th>11</th>\n",
              "      <td>Western Europe</td>\n",
              "      <td>15216</td>\n",
              "    </tr>\n",
              "    <tr>\n",
              "      <th>9</th>\n",
              "      <td>Southeast Asia</td>\n",
              "      <td>12093</td>\n",
              "    </tr>\n",
              "    <tr>\n",
              "      <th>1</th>\n",
              "      <td>Central America &amp; Caribbean</td>\n",
              "      <td>9072</td>\n",
              "    </tr>\n",
              "    <tr>\n",
              "      <th>4</th>\n",
              "      <td>Eastern Europe</td>\n",
              "      <td>5019</td>\n",
              "    </tr>\n",
              "    <tr>\n",
              "      <th>6</th>\n",
              "      <td>North America</td>\n",
              "      <td>3373</td>\n",
              "    </tr>\n",
              "    <tr>\n",
              "      <th>3</th>\n",
              "      <td>East Asia</td>\n",
              "      <td>714</td>\n",
              "    </tr>\n",
              "    <tr>\n",
              "      <th>2</th>\n",
              "      <td>Central Asia</td>\n",
              "      <td>554</td>\n",
              "    </tr>\n",
              "    <tr>\n",
              "      <th>0</th>\n",
              "      <td>Australasia &amp; Oceania</td>\n",
              "      <td>275</td>\n",
              "    </tr>\n",
              "  </tbody>\n",
              "</table>\n",
              "</div>\n",
              "      <button class=\"colab-df-convert\" onclick=\"convertToInteractive('df-ba4602b9-c158-4491-bf39-7c67e3b1c99d')\"\n",
              "              title=\"Convert this dataframe to an interactive table.\"\n",
              "              style=\"display:none;\">\n",
              "\n",
              "  <svg xmlns=\"http://www.w3.org/2000/svg\" height=\"24px\"viewBox=\"0 0 24 24\"\n",
              "       width=\"24px\">\n",
              "    <path d=\"M0 0h24v24H0V0z\" fill=\"none\"/>\n",
              "    <path d=\"M18.56 5.44l.94 2.06.94-2.06 2.06-.94-2.06-.94-.94-2.06-.94 2.06-2.06.94zm-11 1L8.5 8.5l.94-2.06 2.06-.94-2.06-.94L8.5 2.5l-.94 2.06-2.06.94zm10 10l.94 2.06.94-2.06 2.06-.94-2.06-.94-.94-2.06-.94 2.06-2.06.94z\"/><path d=\"M17.41 7.96l-1.37-1.37c-.4-.4-.92-.59-1.43-.59-.52 0-1.04.2-1.43.59L10.3 9.45l-7.72 7.72c-.78.78-.78 2.05 0 2.83L4 21.41c.39.39.9.59 1.41.59.51 0 1.02-.2 1.41-.59l7.78-7.78 2.81-2.81c.8-.78.8-2.07 0-2.86zM5.41 20L4 18.59l7.72-7.72 1.47 1.35L5.41 20z\"/>\n",
              "  </svg>\n",
              "      </button>\n",
              "\n",
              "\n",
              "\n",
              "    <div id=\"df-f090216b-c8fd-419e-9b01-0c6ac0aea90b\">\n",
              "      <button class=\"colab-df-quickchart\" onclick=\"quickchart('df-f090216b-c8fd-419e-9b01-0c6ac0aea90b')\"\n",
              "              title=\"Suggest charts.\"\n",
              "              style=\"display:none;\">\n",
              "\n",
              "<svg xmlns=\"http://www.w3.org/2000/svg\" height=\"24px\"viewBox=\"0 0 24 24\"\n",
              "     width=\"24px\">\n",
              "    <g>\n",
              "        <path d=\"M19 3H5c-1.1 0-2 .9-2 2v14c0 1.1.9 2 2 2h14c1.1 0 2-.9 2-2V5c0-1.1-.9-2-2-2zM9 17H7v-7h2v7zm4 0h-2V7h2v10zm4 0h-2v-4h2v4z\"/>\n",
              "    </g>\n",
              "</svg>\n",
              "      </button>\n",
              "    </div>\n",
              "\n",
              "<style>\n",
              "  .colab-df-quickchart {\n",
              "    background-color: #E8F0FE;\n",
              "    border: none;\n",
              "    border-radius: 50%;\n",
              "    cursor: pointer;\n",
              "    display: none;\n",
              "    fill: #1967D2;\n",
              "    height: 32px;\n",
              "    padding: 0 0 0 0;\n",
              "    width: 32px;\n",
              "  }\n",
              "\n",
              "  .colab-df-quickchart:hover {\n",
              "    background-color: #E2EBFA;\n",
              "    box-shadow: 0px 1px 2px rgba(60, 64, 67, 0.3), 0px 1px 3px 1px rgba(60, 64, 67, 0.15);\n",
              "    fill: #174EA6;\n",
              "  }\n",
              "\n",
              "  [theme=dark] .colab-df-quickchart {\n",
              "    background-color: #3B4455;\n",
              "    fill: #D2E3FC;\n",
              "  }\n",
              "\n",
              "  [theme=dark] .colab-df-quickchart:hover {\n",
              "    background-color: #434B5C;\n",
              "    box-shadow: 0px 1px 3px 1px rgba(0, 0, 0, 0.15);\n",
              "    filter: drop-shadow(0px 1px 2px rgba(0, 0, 0, 0.3));\n",
              "    fill: #FFFFFF;\n",
              "  }\n",
              "</style>\n",
              "\n",
              "    <script>\n",
              "      async function quickchart(key) {\n",
              "        const containerElement = document.querySelector('#' + key);\n",
              "        const charts = await google.colab.kernel.invokeFunction(\n",
              "            'suggestCharts', [key], {});\n",
              "      }\n",
              "    </script>\n",
              "\n",
              "      <script>\n",
              "\n",
              "function displayQuickchartButton(domScope) {\n",
              "  let quickchartButtonEl =\n",
              "    domScope.querySelector('#df-f090216b-c8fd-419e-9b01-0c6ac0aea90b button.colab-df-quickchart');\n",
              "  quickchartButtonEl.style.display =\n",
              "    google.colab.kernel.accessAllowed ? 'block' : 'none';\n",
              "}\n",
              "\n",
              "        displayQuickchartButton(document);\n",
              "      </script>\n",
              "      <style>\n",
              "    .colab-df-container {\n",
              "      display:flex;\n",
              "      flex-wrap:wrap;\n",
              "      gap: 12px;\n",
              "    }\n",
              "\n",
              "    .colab-df-convert {\n",
              "      background-color: #E8F0FE;\n",
              "      border: none;\n",
              "      border-radius: 50%;\n",
              "      cursor: pointer;\n",
              "      display: none;\n",
              "      fill: #1967D2;\n",
              "      height: 32px;\n",
              "      padding: 0 0 0 0;\n",
              "      width: 32px;\n",
              "    }\n",
              "\n",
              "    .colab-df-convert:hover {\n",
              "      background-color: #E2EBFA;\n",
              "      box-shadow: 0px 1px 2px rgba(60, 64, 67, 0.3), 0px 1px 3px 1px rgba(60, 64, 67, 0.15);\n",
              "      fill: #174EA6;\n",
              "    }\n",
              "\n",
              "    [theme=dark] .colab-df-convert {\n",
              "      background-color: #3B4455;\n",
              "      fill: #D2E3FC;\n",
              "    }\n",
              "\n",
              "    [theme=dark] .colab-df-convert:hover {\n",
              "      background-color: #434B5C;\n",
              "      box-shadow: 0px 1px 3px 1px rgba(0, 0, 0, 0.15);\n",
              "      filter: drop-shadow(0px 1px 2px rgba(0, 0, 0, 0.3));\n",
              "      fill: #FFFFFF;\n",
              "    }\n",
              "  </style>\n",
              "\n",
              "      <script>\n",
              "        const buttonEl =\n",
              "          document.querySelector('#df-ba4602b9-c158-4491-bf39-7c67e3b1c99d button.colab-df-convert');\n",
              "        buttonEl.style.display =\n",
              "          google.colab.kernel.accessAllowed ? 'block' : 'none';\n",
              "\n",
              "        async function convertToInteractive(key) {\n",
              "          const element = document.querySelector('#df-ba4602b9-c158-4491-bf39-7c67e3b1c99d');\n",
              "          const dataTable =\n",
              "            await google.colab.kernel.invokeFunction('convertToInteractive',\n",
              "                                                     [key], {});\n",
              "          if (!dataTable) return;\n",
              "\n",
              "          const docLinkHtml = 'Like what you see? Visit the ' +\n",
              "            '<a target=\"_blank\" href=https://colab.research.google.com/notebooks/data_table.ipynb>data table notebook</a>'\n",
              "            + ' to learn more about interactive tables.';\n",
              "          element.innerHTML = '';\n",
              "          dataTable['output_type'] = 'display_data';\n",
              "          await google.colab.output.renderOutput(dataTable, element);\n",
              "          const docLink = document.createElement('div');\n",
              "          docLink.innerHTML = docLinkHtml;\n",
              "          element.appendChild(docLink);\n",
              "        }\n",
              "      </script>\n",
              "    </div>\n",
              "  </div>\n"
            ]
          },
          "metadata": {},
          "execution_count": 39
        }
      ]
    },
    {
      "cell_type": "code",
      "source": [
        "# Visualizing highest number of terrorist incident\n",
        "import matplotlib.pyplot as plt\n",
        "import seaborn as sns\n",
        "\n",
        "plt.figure(figsize=(12, 6))\n",
        "# Plot the bar plot\n",
        "ax = sns.barplot(x= 'Region', y='Incidentcount',data=incidentbyregion_df)\n",
        "# Set chart title\n",
        "plt.title('Highest number of terrorist incident', fontsize=15)\n",
        "plt.ylabel('Incident count')\n",
        "plt.xticks(rotation=45, ha='right')\n",
        "plt.gca().yaxis.grid(True)  # Add horizontal grid lines\n",
        "# Display percentage values on top of bars\n",
        "# for p in ax.patches:\n",
        "# ax.annotate(f'{p.get_height():.2f}%', (p.get_x() + p.get_width() / 2., p.get_height()), ha='center', va='center', fontsize=10, color='black', xytext=(0, 5), textcoords='offset points')\n",
        "# Display the plot\n",
        "plt.tight_layout()\n",
        "plt.show()"
      ],
      "metadata": {
        "id": "85mwkh0SNYSm",
        "colab": {
          "base_uri": "https://localhost:8080/",
          "height": 607
        },
        "outputId": "b0ddd704-b99b-46a9-c0b6-4ac6f9b91e37"
      },
      "execution_count": 40,
      "outputs": [
        {
          "output_type": "display_data",
          "data": {
            "text/plain": [
              "<Figure size 1200x600 with 1 Axes>"
            ],
            "image/png": "[encoded data removed]"
          },
          "metadata": {}
        }
      ]
    },
    {
      "cell_type": "code",
      "source": [
        "#Q2 What are the most common types of terrorist attacks recorded in the dataset?\n",
        "\n",
        "#Grouping the data by 'AttackType' and counting the number of occurrences for each attack type\n",
        "attack_type_df = gtd_df_copy['AttackType'].value_counts()\n",
        "\n",
        "# Creating a custom DataFrame\n",
        "attack_type_df = pd.DataFrame({'AttackType': attack_type_df.index, 'Count': attack_type_df.values})\n",
        "\n",
        "# Display the custom DataFrame\n",
        "attack_type_df.head(10)\n",
        "attack_type_df"
      ],
      "metadata": {
        "id": "cUhRAPAPlFZa",
        "colab": {
          "base_uri": "https://localhost:8080/",
          "height": 331
        },
        "outputId": "5efe2455-1716-407e-b7d0-afee1cdb1941"
      },
      "execution_count": 41,
      "outputs": [
        {
          "output_type": "execute_result",
          "data": {
            "text/plain": [
              "                            AttackType  Count\n",
              "0                    Bombing/Explosion  82283\n",
              "1                        Armed Assault  41380\n",
              "2                        Assassination  18893\n",
              "3          Hostage Taking (Kidnapping)  10987\n",
              "4       Facility/Infrastructure Attack   9360\n",
              "5                              Unknown   6934\n",
              "6  Hostage Taking (Barricade Incident)    944\n",
              "7                      Unarmed Assault    934\n",
              "8                            Hijacking    653"
            ],
            "text/html": [
              "\n",
              "\n",
              "  <div id=\"df-b03db035-1982-4f52-878f-799daf36fc0c\">\n",
              "    <div class=\"colab-df-container\">\n",
              "      <div>\n",
              "<style scoped>\n",
              "    .dataframe tbody tr th:only-of-type {\n",
              "        vertical-align: middle;\n",
              "    }\n",
              "\n",
              "    .dataframe tbody tr th {\n",
              "        vertical-align: top;\n",
              "    }\n",
              "\n",
              "    .dataframe thead th {\n",
              "        text-align: right;\n",
              "    }\n",
              "</style>\n",
              "<table border=\"1\" class=\"dataframe\">\n",
              "  <thead>\n",
              "    <tr style=\"text-align: right;\">\n",
              "      <th></th>\n",
              "      <th>AttackType</th>\n",
              "      <th>Count</th>\n",
              "    </tr>\n",
              "  </thead>\n",
              "  <tbody>\n",
              "    <tr>\n",
              "      <th>0</th>\n",
              "      <td>Bombing/Explosion</td>\n",
              "      <td>82283</td>\n",
              "    </tr>\n",
              "    <tr>\n",
              "      <th>1</th>\n",
              "      <td>Armed Assault</td>\n",
              "      <td>41380</td>\n",
              "    </tr>\n",
              "    <tr>\n",
              "      <th>2</th>\n",
              "      <td>Assassination</td>\n",
              "      <td>18893</td>\n",
              "    </tr>\n",
              "    <tr>\n",
              "      <th>3</th>\n",
              "      <td>Hostage Taking (Kidnapping)</td>\n",
              "      <td>10987</td>\n",
              "    </tr>\n",
              "    <tr>\n",
              "      <th>4</th>\n",
              "      <td>Facility/Infrastructure Attack</td>\n",
              "      <td>9360</td>\n",
              "    </tr>\n",
              "    <tr>\n",
              "      <th>5</th>\n",
              "      <td>Unknown</td>\n",
              "      <td>6934</td>\n",
              "    </tr>\n",
              "    <tr>\n",
              "      <th>6</th>\n",
              "      <td>Hostage Taking (Barricade Incident)</td>\n",
              "      <td>944</td>\n",
              "    </tr>\n",
              "    <tr>\n",
              "      <th>7</th>\n",
              "      <td>Unarmed Assault</td>\n",
              "      <td>934</td>\n",
              "    </tr>\n",
              "    <tr>\n",
              "      <th>8</th>\n",
              "      <td>Hijacking</td>\n",
              "      <td>653</td>\n",
              "    </tr>\n",
              "  </tbody>\n",
              "</table>\n",
              "</div>\n",
              "      <button class=\"colab-df-convert\" onclick=\"convertToInteractive('df-b03db035-1982-4f52-878f-799daf36fc0c')\"\n",
              "              title=\"Convert this dataframe to an interactive table.\"\n",
              "              style=\"display:none;\">\n",
              "\n",
              "  <svg xmlns=\"http://www.w3.org/2000/svg\" height=\"24px\"viewBox=\"0 0 24 24\"\n",
              "       width=\"24px\">\n",
              "    <path d=\"M0 0h24v24H0V0z\" fill=\"none\"/>\n",
              "    <path d=\"M18.56 5.44l.94 2.06.94-2.06 2.06-.94-2.06-.94-.94-2.06-.94 2.06-2.06.94zm-11 1L8.5 8.5l.94-2.06 2.06-.94-2.06-.94L8.5 2.5l-.94 2.06-2.06.94zm10 10l.94 2.06.94-2.06 2.06-.94-2.06-.94-.94-2.06-.94 2.06-2.06.94z\"/><path d=\"M17.41 7.96l-1.37-1.37c-.4-.4-.92-.59-1.43-.59-.52 0-1.04.2-1.43.59L10.3 9.45l-7.72 7.72c-.78.78-.78 2.05 0 2.83L4 21.41c.39.39.9.59 1.41.59.51 0 1.02-.2 1.41-.59l7.78-7.78 2.81-2.81c.8-.78.8-2.07 0-2.86zM5.41 20L4 18.59l7.72-7.72 1.47 1.35L5.41 20z\"/>\n",
              "  </svg>\n",
              "      </button>\n",
              "\n",
              "\n",
              "\n",
              "    <div id=\"df-c2904703-9090-4e62-b074-9bfbbe8e775b\">\n",
              "      <button class=\"colab-df-quickchart\" onclick=\"quickchart('df-c2904703-9090-4e62-b074-9bfbbe8e775b')\"\n",
              "              title=\"Suggest charts.\"\n",
              "              style=\"display:none;\">\n",
              "\n",
              "<svg xmlns=\"http://www.w3.org/2000/svg\" height=\"24px\"viewBox=\"0 0 24 24\"\n",
              "     width=\"24px\">\n",
              "    <g>\n",
              "        <path d=\"M19 3H5c-1.1 0-2 .9-2 2v14c0 1.1.9 2 2 2h14c1.1 0 2-.9 2-2V5c0-1.1-.9-2-2-2zM9 17H7v-7h2v7zm4 0h-2V7h2v10zm4 0h-2v-4h2v4z\"/>\n",
              "    </g>\n",
              "</svg>\n",
              "      </button>\n",
              "    </div>\n",
              "\n",
              "<style>\n",
              "  .colab-df-quickchart {\n",
              "    background-color: #E8F0FE;\n",
              "    border: none;\n",
              "    border-radius: 50%;\n",
              "    cursor: pointer;\n",
              "    display: none;\n",
              "    fill: #1967D2;\n",
              "    height: 32px;\n",
              "    padding: 0 0 0 0;\n",
              "    width: 32px;\n",
              "  }\n",
              "\n",
              "  .colab-df-quickchart:hover {\n",
              "    background-color: #E2EBFA;\n",
              "    box-shadow: 0px 1px 2px rgba(60, 64, 67, 0.3), 0px 1px 3px 1px rgba(60, 64, 67, 0.15);\n",
              "    fill: #174EA6;\n",
              "  }\n",
              "\n",
              "  [theme=dark] .colab-df-quickchart {\n",
              "    background-color: #3B4455;\n",
              "    fill: #D2E3FC;\n",
              "  }\n",
              "\n",
              "  [theme=dark] .colab-df-quickchart:hover {\n",
              "    background-color: #434B5C;\n",
              "    box-shadow: 0px 1px 3px 1px rgba(0, 0, 0, 0.15);\n",
              "    filter: drop-shadow(0px 1px 2px rgba(0, 0, 0, 0.3));\n",
              "    fill: #FFFFFF;\n",
              "  }\n",
              "</style>\n",
              "\n",
              "    <script>\n",
              "      async function quickchart(key) {\n",
              "        const containerElement = document.querySelector('#' + key);\n",
              "        const charts = await google.colab.kernel.invokeFunction(\n",
              "            'suggestCharts', [key], {});\n",
              "      }\n",
              "    </script>\n",
              "\n",
              "      <script>\n",
              "\n",
              "function displayQuickchartButton(domScope) {\n",
              "  let quickchartButtonEl =\n",
              "    domScope.querySelector('#df-c2904703-9090-4e62-b074-9bfbbe8e775b button.colab-df-quickchart');\n",
              "  quickchartButtonEl.style.display =\n",
              "    google.colab.kernel.accessAllowed ? 'block' : 'none';\n",
              "}\n",
              "\n",
              "        displayQuickchartButton(document);\n",
              "      </script>\n",
              "      <style>\n",
              "    .colab-df-container {\n",
              "      display:flex;\n",
              "      flex-wrap:wrap;\n",
              "      gap: 12px;\n",
              "    }\n",
              "\n",
              "    .colab-df-convert {\n",
              "      background-color: #E8F0FE;\n",
              "      border: none;\n",
              "      border-radius: 50%;\n",
              "      cursor: pointer;\n",
              "      display: none;\n",
              "      fill: #1967D2;\n",
              "      height: 32px;\n",
              "      padding: 0 0 0 0;\n",
              "      width: 32px;\n",
              "    }\n",
              "\n",
              "    .colab-df-convert:hover {\n",
              "      background-color: #E2EBFA;\n",
              "      box-shadow: 0px 1px 2px rgba(60, 64, 67, 0.3), 0px 1px 3px 1px rgba(60, 64, 67, 0.15);\n",
              "      fill: #174EA6;\n",
              "    }\n",
              "\n",
              "    [theme=dark] .colab-df-convert {\n",
              "      background-color: #3B4455;\n",
              "      fill: #D2E3FC;\n",
              "    }\n",
              "\n",
              "    [theme=dark] .colab-df-convert:hover {\n",
              "      background-color: #434B5C;\n",
              "      box-shadow: 0px 1px 3px 1px rgba(0, 0, 0, 0.15);\n",
              "      filter: drop-shadow(0px 1px 2px rgba(0, 0, 0, 0.3));\n",
              "      fill: #FFFFFF;\n",
              "    }\n",
              "  </style>\n",
              "\n",
              "      <script>\n",
              "        const buttonEl =\n",
              "          document.querySelector('#df-b03db035-1982-4f52-878f-799daf36fc0c button.colab-df-convert');\n",
              "        buttonEl.style.display =\n",
              "          google.colab.kernel.accessAllowed ? 'block' : 'none';\n",
              "\n",
              "        async function convertToInteractive(key) {\n",
              "          const element = document.querySelector('#df-b03db035-1982-4f52-878f-799daf36fc0c');\n",
              "          const dataTable =\n",
              "            await google.colab.kernel.invokeFunction('convertToInteractive',\n",
              "                                                     [key], {});\n",
              "          if (!dataTable) return;\n",
              "\n",
              "          const docLinkHtml = 'Like what you see? Visit the ' +\n",
              "            '<a target=\"_blank\" href=https://colab.research.google.com/notebooks/data_table.ipynb>data table notebook</a>'\n",
              "            + ' to learn more about interactive tables.';\n",
              "          element.innerHTML = '';\n",
              "          dataTable['output_type'] = 'display_data';\n",
              "          await google.colab.output.renderOutput(dataTable, element);\n",
              "          const docLink = document.createElement('div');\n",
              "          docLink.innerHTML = docLinkHtml;\n",
              "          element.appendChild(docLink);\n",
              "        }\n",
              "      </script>\n",
              "    </div>\n",
              "  </div>\n"
            ]
          },
          "metadata": {},
          "execution_count": 41
        }
      ]
    },
    {
      "cell_type": "code",
      "source": [
        "# Visualizing terrorist attacks recorded in the dataset\n",
        "import matplotlib.pyplot as plt\n",
        "import seaborn as sns\n",
        "\n",
        "plt.figure(figsize=(13, 6))\n",
        "ax = sns.barplot(x='AttackType', y= 'Count',data=attack_type_df, hue= 'AttackType')\n",
        "plt.title('Terrorist attacks recorded in the dataset')\n",
        "plt.xlabel('AttackType')\n",
        "plt.ylabel('count')\n",
        "# To rotate x-axis labels for better visibility\n",
        "plt.xticks(rotation=45, ha='right')\n",
        "# Add horizontal grid lines\n",
        "plt.gca().yaxis.grid(True)\n",
        "\n",
        "plt.legend(title='AttackType')\n",
        "plt.tight_layout()\n",
        "plt.show()"
      ],
      "metadata": {
        "id": "r6L8zohpPeva",
        "colab": {
          "base_uri": "https://localhost:8080/",
          "height": 607
        },
        "outputId": "67a1ec22-476c-4efe-ace1-97a357034807"
      },
      "execution_count": 42,
      "outputs": [
        {
          "output_type": "display_data",
          "data": {
            "text/plain": [
              "<Figure size 1300x600 with 1 Axes>"
            ],
            "image/png": "[encoded data removed]"
          },
          "metadata": {}
        }
      ]
    },
    {
      "cell_type": "code",
      "source": [
        "#Q3-Are there any significant seasonal patterns in terrorist incidents?\n",
        "\n",
        "# Grouping the data by 'Month' and counting the number of incidents for each month\n",
        "incidents_per_month = gtd_df_copy.groupby('Month')['Month'].count()\n",
        "# Creating a custom DataFrame\n",
        "seasonal_pattern_df = pd.DataFrame({'Month': incidents_per_month.index, 'IncidentCount': incidents_per_month.values})\n",
        "# Sorting the DataFrame by month\n",
        "seasonal_pattern_df = seasonal_pattern_df.sort_values('Month')\n",
        "seasonal_pattern_df = seasonal_pattern_df[seasonal_pattern_df['Month'] != 0]\n",
        "# Display the custom DataFrame\n",
        "\n",
        "\n",
        "season_df = {'Spring': 0, 'Summer':0, 'Winter':0}\n",
        "summer = [3, 4, 5, 6]\n",
        "spring = [7,8,9,10]\n",
        "winter = [11, 12, 1, 2]\n",
        "for month in range(1, 13):\n",
        "  if month in spring:\n",
        "    season_df['Spring'] += seasonal_pattern_df.loc[seasonal_pattern_df['Month'] == month, 'IncidentCount'].values[0]\n",
        "  elif month in summer:\n",
        "    season_df['Summer'] += seasonal_pattern_df.loc[seasonal_pattern_df['Month'] == month, 'IncidentCount'].values[0]\n",
        "  elif month in winter:\n",
        "    season_df['Winter'] += seasonal_pattern_df.loc[seasonal_pattern_df['Month'] == month, 'IncidentCount'].values[0]\n",
        "\n",
        "# Create a DataFrame from the dictionary\n",
        "season_df = pd.DataFrame(list(season_df.items()), columns=['Season', 'IncidentCount'])\n",
        "\n",
        "season_df\n"
      ],
      "metadata": {
        "id": "EcmpfXVspP8k",
        "colab": {
          "base_uri": "https://localhost:8080/",
          "height": 143
        },
        "outputId": "9368f551-7941-4ad1-987e-3dc8ae4d07f6"
      },
      "execution_count": 43,
      "outputs": [
        {
          "output_type": "execute_result",
          "data": {
            "text/plain": [
              "   Season  IncidentCount\n",
              "0  Spring          58501\n",
              "1  Summer          59401\n",
              "2  Winter          54446"
            ],
            "text/html": [
              "\n",
              "\n",
              "  <div id=\"df-f781190f-9842-4584-9a4b-2857f5a509e2\">\n",
              "    <div class=\"colab-df-container\">\n",
              "      <div>\n",
              "<style scoped>\n",
              "    .dataframe tbody tr th:only-of-type {\n",
              "        vertical-align: middle;\n",
              "    }\n",
              "\n",
              "    .dataframe tbody tr th {\n",
              "        vertical-align: top;\n",
              "    }\n",
              "\n",
              "    .dataframe thead th {\n",
              "        text-align: right;\n",
              "    }\n",
              "</style>\n",
              "<table border=\"1\" class=\"dataframe\">\n",
              "  <thead>\n",
              "    <tr style=\"text-align: right;\">\n",
              "      <th></th>\n",
              "      <th>Season</th>\n",
              "      <th>IncidentCount</th>\n",
              "    </tr>\n",
              "  </thead>\n",
              "  <tbody>\n",
              "    <tr>\n",
              "      <th>0</th>\n",
              "      <td>Spring</td>\n",
              "      <td>58501</td>\n",
              "    </tr>\n",
              "    <tr>\n",
              "      <th>1</th>\n",
              "      <td>Summer</td>\n",
              "      <td>59401</td>\n",
              "    </tr>\n",
              "    <tr>\n",
              "      <th>2</th>\n",
              "      <td>Winter</td>\n",
              "      <td>54446</td>\n",
              "    </tr>\n",
              "  </tbody>\n",
              "</table>\n",
              "</div>\n",
              "      <button class=\"colab-df-convert\" onclick=\"convertToInteractive('df-f781190f-9842-4584-9a4b-2857f5a509e2')\"\n",
              "              title=\"Convert this dataframe to an interactive table.\"\n",
              "              style=\"display:none;\">\n",
              "\n",
              "  <svg xmlns=\"http://www.w3.org/2000/svg\" height=\"24px\"viewBox=\"0 0 24 24\"\n",
              "       width=\"24px\">\n",
              "    <path d=\"M0 0h24v24H0V0z\" fill=\"none\"/>\n",
              "    <path d=\"M18.56 5.44l.94 2.06.94-2.06 2.06-.94-2.06-.94-.94-2.06-.94 2.06-2.06.94zm-11 1L8.5 8.5l.94-2.06 2.06-.94-2.06-.94L8.5 2.5l-.94 2.06-2.06.94zm10 10l.94 2.06.94-2.06 2.06-.94-2.06-.94-.94-2.06-.94 2.06-2.06.94z\"/><path d=\"M17.41 7.96l-1.37-1.37c-.4-.4-.92-.59-1.43-.59-.52 0-1.04.2-1.43.59L10.3 9.45l-7.72 7.72c-.78.78-.78 2.05 0 2.83L4 21.41c.39.39.9.59 1.41.59.51 0 1.02-.2 1.41-.59l7.78-7.78 2.81-2.81c.8-.78.8-2.07 0-2.86zM5.41 20L4 18.59l7.72-7.72 1.47 1.35L5.41 20z\"/>\n",
              "  </svg>\n",
              "      </button>\n",
              "\n",
              "\n",
              "\n",
              "    <div id=\"df-2e28c913-7206-4a62-8d58-7660de4eff7f\">\n",
              "      <button class=\"colab-df-quickchart\" onclick=\"quickchart('df-2e28c913-7206-4a62-8d58-7660de4eff7f')\"\n",
              "              title=\"Suggest charts.\"\n",
              "              style=\"display:none;\">\n",
              "\n",
              "<svg xmlns=\"http://www.w3.org/2000/svg\" height=\"24px\"viewBox=\"0 0 24 24\"\n",
              "     width=\"24px\">\n",
              "    <g>\n",
              "        <path d=\"M19 3H5c-1.1 0-2 .9-2 2v14c0 1.1.9 2 2 2h14c1.1 0 2-.9 2-2V5c0-1.1-.9-2-2-2zM9 17H7v-7h2v7zm4 0h-2V7h2v10zm4 0h-2v-4h2v4z\"/>\n",
              "    </g>\n",
              "</svg>\n",
              "      </button>\n",
              "    </div>\n",
              "\n",
              "<style>\n",
              "  .colab-df-quickchart {\n",
              "    background-color: #E8F0FE;\n",
              "    border: none;\n",
              "    border-radius: 50%;\n",
              "    cursor: pointer;\n",
              "    display: none;\n",
              "    fill: #1967D2;\n",
              "    height: 32px;\n",
              "    padding: 0 0 0 0;\n",
              "    width: 32px;\n",
              "  }\n",
              "\n",
              "  .colab-df-quickchart:hover {\n",
              "    background-color: #E2EBFA;\n",
              "    box-shadow: 0px 1px 2px rgba(60, 64, 67, 0.3), 0px 1px 3px 1px rgba(60, 64, 67, 0.15);\n",
              "    fill: #174EA6;\n",
              "  }\n",
              "\n",
              "  [theme=dark] .colab-df-quickchart {\n",
              "    background-color: #3B4455;\n",
              "    fill: #D2E3FC;\n",
              "  }\n",
              "\n",
              "  [theme=dark] .colab-df-quickchart:hover {\n",
              "    background-color: #434B5C;\n",
              "    box-shadow: 0px 1px 3px 1px rgba(0, 0, 0, 0.15);\n",
              "    filter: drop-shadow(0px 1px 2px rgba(0, 0, 0, 0.3));\n",
              "    fill: #FFFFFF;\n",
              "  }\n",
              "</style>\n",
              "\n",
              "    <script>\n",
              "      async function quickchart(key) {\n",
              "        const containerElement = document.querySelector('#' + key);\n",
              "        const charts = await google.colab.kernel.invokeFunction(\n",
              "            'suggestCharts', [key], {});\n",
              "      }\n",
              "    </script>\n",
              "\n",
              "      <script>\n",
              "\n",
              "function displayQuickchartButton(domScope) {\n",
              "  let quickchartButtonEl =\n",
              "    domScope.querySelector('#df-2e28c913-7206-4a62-8d58-7660de4eff7f button.colab-df-quickchart');\n",
              "  quickchartButtonEl.style.display =\n",
              "    google.colab.kernel.accessAllowed ? 'block' : 'none';\n",
              "}\n",
              "\n",
              "        displayQuickchartButton(document);\n",
              "      </script>\n",
              "      <style>\n",
              "    .colab-df-container {\n",
              "      display:flex;\n",
              "      flex-wrap:wrap;\n",
              "      gap: 12px;\n",
              "    }\n",
              "\n",
              "    .colab-df-convert {\n",
              "      background-color: #E8F0FE;\n",
              "      border: none;\n",
              "      border-radius: 50%;\n",
              "      cursor: pointer;\n",
              "      display: none;\n",
              "      fill: #1967D2;\n",
              "      height: 32px;\n",
              "      padding: 0 0 0 0;\n",
              "      width: 32px;\n",
              "    }\n",
              "\n",
              "    .colab-df-convert:hover {\n",
              "      background-color: #E2EBFA;\n",
              "      box-shadow: 0px 1px 2px rgba(60, 64, 67, 0.3), 0px 1px 3px 1px rgba(60, 64, 67, 0.15);\n",
              "      fill: #174EA6;\n",
              "    }\n",
              "\n",
              "    [theme=dark] .colab-df-convert {\n",
              "      background-color: #3B4455;\n",
              "      fill: #D2E3FC;\n",
              "    }\n",
              "\n",
              "    [theme=dark] .colab-df-convert:hover {\n",
              "      background-color: #434B5C;\n",
              "      box-shadow: 0px 1px 3px 1px rgba(0, 0, 0, 0.15);\n",
              "      filter: drop-shadow(0px 1px 2px rgba(0, 0, 0, 0.3));\n",
              "      fill: #FFFFFF;\n",
              "    }\n",
              "  </style>\n",
              "\n",
              "      <script>\n",
              "        const buttonEl =\n",
              "          document.querySelector('#df-f781190f-9842-4584-9a4b-2857f5a509e2 button.colab-df-convert');\n",
              "        buttonEl.style.display =\n",
              "          google.colab.kernel.accessAllowed ? 'block' : 'none';\n",
              "\n",
              "        async function convertToInteractive(key) {\n",
              "          const element = document.querySelector('#df-f781190f-9842-4584-9a4b-2857f5a509e2');\n",
              "          const dataTable =\n",
              "            await google.colab.kernel.invokeFunction('convertToInteractive',\n",
              "                                                     [key], {});\n",
              "          if (!dataTable) return;\n",
              "\n",
              "          const docLinkHtml = 'Like what you see? Visit the ' +\n",
              "            '<a target=\"_blank\" href=https://colab.research.google.com/notebooks/data_table.ipynb>data table notebook</a>'\n",
              "            + ' to learn more about interactive tables.';\n",
              "          element.innerHTML = '';\n",
              "          dataTable['output_type'] = 'display_data';\n",
              "          await google.colab.output.renderOutput(dataTable, element);\n",
              "          const docLink = document.createElement('div');\n",
              "          docLink.innerHTML = docLinkHtml;\n",
              "          element.appendChild(docLink);\n",
              "        }\n",
              "      </script>\n",
              "    </div>\n",
              "  </div>\n"
            ]
          },
          "metadata": {},
          "execution_count": 43
        }
      ]
    },
    {
      "cell_type": "code",
      "source": [
        "#Visualizing seasonal patterns in terrorist incidents\n",
        "import matplotlib.pyplot as plt\n",
        "#Plot the pie chart\n",
        "plt.figure(figsize=(6,6))\n",
        "plt.pie(season_df['IncidentCount'], labels=season_df['Season'], autopct='%1.1f%%', startangle=140, colors=['lightgreen','lightcoral','skyblue'])\n",
        "\n",
        "# Set chart title\n",
        "plt.title('Incident Distribution by Season',fontsize=20)\n",
        "plt.axis('equal')  # Equal aspect ratio ensures that the pie chart is circular.\n",
        "\n",
        "# Move the legend outside of the chart using bbox_to_anchor\n",
        "plt.legend(title='Season', labels= ['spring','summer','winter'], bbox_to_anchor=(1.05, 1), loc='upper left')\n",
        "\n",
        "plt.tight_layout()\n",
        "# Show the pie chart\n",
        "plt.show()"
      ],
      "metadata": {
        "id": "JnHpxzQG5ApP",
        "colab": {
          "base_uri": "https://localhost:8080/",
          "height": 607
        },
        "outputId": "a79e6c20-8de6-4f8e-f47b-0db8e505742b"
      },
      "execution_count": 44,
      "outputs": [
        {
          "output_type": "display_data",
          "data": {
            "text/plain": [
              "<Figure size 600x600 with 1 Axes>"
            ],
            "image/png": "[encoded data removed]"
          },
          "metadata": {}
        }
      ]
    },
    {
      "cell_type": "code",
      "source": [
        "# Q4-How does the number of terrorist incidents vary between developed and developing countries?\n",
        "country_development = {}\n",
        "developed_countires = ['United States', 'Canada', 'United Kingdom', 'Germany', 'France', 'Japan', 'Australia', 'South Korea', 'New Zealand', 'Singapore', 'Norway', 'Sweden', 'Denmark', 'Switzerland', 'Netherlands', 'Finland', 'Belgium', 'Austria', 'Ireland', 'Iceland', 'Luxembourg', 'Italy', 'Spain']\n",
        "developing_countries = ['Afghanistan', 'Bangladesh', 'Cambodia', 'Democratic Republic of Congo', 'Ethiopia', 'Haiti', 'India', 'Kenya', 'Nigeria', 'Pakistan', 'Philippines Sudan', 'Tanzania', 'Uganda', 'Yemen', 'Zambia', 'Zimbabwe', 'Bolivia', 'Guatemala', 'Honduras', 'Myanmar', 'Nepal', 'Nicaragua', 'Rwanda', 'Senegal']\n",
        "# gtd_df_copy['Country'].unique()\n",
        "for country in gtd_df_copy['Country']:\n",
        "    if country in developed_countires:\n",
        "      country_development[country] = 'Developed'\n",
        "    elif country in developing_countries:\n",
        "      country_development[country] = 'Developing'\n",
        "    else:\n",
        "      country_development[country] = 'Under-developed'\n",
        "# Create a new column 'CountryType' based on the mapping\n",
        "gtd_df_copy['CountryType'] = gtd_df_copy['Country'].map(country_development)\n",
        "# Group data by countrytype and count number of incidents\n",
        "incidents_country_df = gtd_df_copy.groupby('CountryType')['CountryType'].count()\n",
        "incidents_country_df = pd.DataFrame({\"Country_type\":incidents_country_df.index,\"Counts\":incidents_country_df.values})\n",
        " #Convert Counts into Percentage\n",
        "total_counts = incidents_country_df['Counts'].sum()\n",
        "incidents_country_df['Percent'] = round((incidents_country_df['Counts']/total_counts)*100, 2)\n",
        "incidents_country_df\n"
      ],
      "metadata": {
        "id": "QcSIha3d3Cag",
        "colab": {
          "base_uri": "https://localhost:8080/",
          "height": 143
        },
        "outputId": "63a710ef-2f58-489b-a37a-9fda95466ade"
      },
      "execution_count": 45,
      "outputs": [
        {
          "output_type": "execute_result",
          "data": {
            "text/plain": [
              "      Country_type  Counts  Percent\n",
              "0        Developed   16688     9.68\n",
              "1       Developing   54818    31.80\n",
              "2  Under-developed  100862    58.52"
            ],
            "text/html": [
              "\n",
              "\n",
              "  <div id=\"df-e8a5d7de-b2eb-48a6-a92f-825662b26dcd\">\n",
              "    <div class=\"colab-df-container\">\n",
              "      <div>\n",
              "<style scoped>\n",
              "    .dataframe tbody tr th:only-of-type {\n",
              "        vertical-align: middle;\n",
              "    }\n",
              "\n",
              "    .dataframe tbody tr th {\n",
              "        vertical-align: top;\n",
              "    }\n",
              "\n",
              "    .dataframe thead th {\n",
              "        text-align: right;\n",
              "    }\n",
              "</style>\n",
              "<table border=\"1\" class=\"dataframe\">\n",
              "  <thead>\n",
              "    <tr style=\"text-align: right;\">\n",
              "      <th></th>\n",
              "      <th>Country_type</th>\n",
              "      <th>Counts</th>\n",
              "      <th>Percent</th>\n",
              "    </tr>\n",
              "  </thead>\n",
              "  <tbody>\n",
              "    <tr>\n",
              "      <th>0</th>\n",
              "      <td>Developed</td>\n",
              "      <td>16688</td>\n",
              "      <td>9.68</td>\n",
              "    </tr>\n",
              "    <tr>\n",
              "      <th>1</th>\n",
              "      <td>Developing</td>\n",
              "      <td>54818</td>\n",
              "      <td>31.80</td>\n",
              "    </tr>\n",
              "    <tr>\n",
              "      <th>2</th>\n",
              "      <td>Under-developed</td>\n",
              "      <td>100862</td>\n",
              "      <td>58.52</td>\n",
              "    </tr>\n",
              "  </tbody>\n",
              "</table>\n",
              "</div>\n",
              "      <button class=\"colab-df-convert\" onclick=\"convertToInteractive('df-e8a5d7de-b2eb-48a6-a92f-825662b26dcd')\"\n",
              "              title=\"Convert this dataframe to an interactive table.\"\n",
              "              style=\"display:none;\">\n",
              "\n",
              "  <svg xmlns=\"http://www.w3.org/2000/svg\" height=\"24px\"viewBox=\"0 0 24 24\"\n",
              "       width=\"24px\">\n",
              "    <path d=\"M0 0h24v24H0V0z\" fill=\"none\"/>\n",
              "    <path d=\"M18.56 5.44l.94 2.06.94-2.06 2.06-.94-2.06-.94-.94-2.06-.94 2.06-2.06.94zm-11 1L8.5 8.5l.94-2.06 2.06-.94-2.06-.94L8.5 2.5l-.94 2.06-2.06.94zm10 10l.94 2.06.94-2.06 2.06-.94-2.06-.94-.94-2.06-.94 2.06-2.06.94z\"/><path d=\"M17.41 7.96l-1.37-1.37c-.4-.4-.92-.59-1.43-.59-.52 0-1.04.2-1.43.59L10.3 9.45l-7.72 7.72c-.78.78-.78 2.05 0 2.83L4 21.41c.39.39.9.59 1.41.59.51 0 1.02-.2 1.41-.59l7.78-7.78 2.81-2.81c.8-.78.8-2.07 0-2.86zM5.41 20L4 18.59l7.72-7.72 1.47 1.35L5.41 20z\"/>\n",
              "  </svg>\n",
              "      </button>\n",
              "\n",
              "\n",
              "\n",
              "    <div id=\"df-46c4d3af-6b42-42e4-9ce1-035990ef9a8e\">\n",
              "      <button class=\"colab-df-quickchart\" onclick=\"quickchart('df-46c4d3af-6b42-42e4-9ce1-035990ef9a8e')\"\n",
              "              title=\"Suggest charts.\"\n",
              "              style=\"display:none;\">\n",
              "\n",
              "<svg xmlns=\"http://www.w3.org/2000/svg\" height=\"24px\"viewBox=\"0 0 24 24\"\n",
              "     width=\"24px\">\n",
              "    <g>\n",
              "        <path d=\"M19 3H5c-1.1 0-2 .9-2 2v14c0 1.1.9 2 2 2h14c1.1 0 2-.9 2-2V5c0-1.1-.9-2-2-2zM9 17H7v-7h2v7zm4 0h-2V7h2v10zm4 0h-2v-4h2v4z\"/>\n",
              "    </g>\n",
              "</svg>\n",
              "      </button>\n",
              "    </div>\n",
              "\n",
              "<style>\n",
              "  .colab-df-quickchart {\n",
              "    background-color: #E8F0FE;\n",
              "    border: none;\n",
              "    border-radius: 50%;\n",
              "    cursor: pointer;\n",
              "    display: none;\n",
              "    fill: #1967D2;\n",
              "    height: 32px;\n",
              "    padding: 0 0 0 0;\n",
              "    width: 32px;\n",
              "  }\n",
              "\n",
              "  .colab-df-quickchart:hover {\n",
              "    background-color: #E2EBFA;\n",
              "    box-shadow: 0px 1px 2px rgba(60, 64, 67, 0.3), 0px 1px 3px 1px rgba(60, 64, 67, 0.15);\n",
              "    fill: #174EA6;\n",
              "  }\n",
              "\n",
              "  [theme=dark] .colab-df-quickchart {\n",
              "    background-color: #3B4455;\n",
              "    fill: #D2E3FC;\n",
              "  }\n",
              "\n",
              "  [theme=dark] .colab-df-quickchart:hover {\n",
              "    background-color: #434B5C;\n",
              "    box-shadow: 0px 1px 3px 1px rgba(0, 0, 0, 0.15);\n",
              "    filter: drop-shadow(0px 1px 2px rgba(0, 0, 0, 0.3));\n",
              "    fill: #FFFFFF;\n",
              "  }\n",
              "</style>\n",
              "\n",
              "    <script>\n",
              "      async function quickchart(key) {\n",
              "        const containerElement = document.querySelector('#' + key);\n",
              "        const charts = await google.colab.kernel.invokeFunction(\n",
              "            'suggestCharts', [key], {});\n",
              "      }\n",
              "    </script>\n",
              "\n",
              "      <script>\n",
              "\n",
              "function displayQuickchartButton(domScope) {\n",
              "  let quickchartButtonEl =\n",
              "    domScope.querySelector('#df-46c4d3af-6b42-42e4-9ce1-035990ef9a8e button.colab-df-quickchart');\n",
              "  quickchartButtonEl.style.display =\n",
              "    google.colab.kernel.accessAllowed ? 'block' : 'none';\n",
              "}\n",
              "\n",
              "        displayQuickchartButton(document);\n",
              "      </script>\n",
              "      <style>\n",
              "    .colab-df-container {\n",
              "      display:flex;\n",
              "      flex-wrap:wrap;\n",
              "      gap: 12px;\n",
              "    }\n",
              "\n",
              "    .colab-df-convert {\n",
              "      background-color: #E8F0FE;\n",
              "      border: none;\n",
              "      border-radius: 50%;\n",
              "      cursor: pointer;\n",
              "      display: none;\n",
              "      fill: #1967D2;\n",
              "      height: 32px;\n",
              "      padding: 0 0 0 0;\n",
              "      width: 32px;\n",
              "    }\n",
              "\n",
              "    .colab-df-convert:hover {\n",
              "      background-color: #E2EBFA;\n",
              "      box-shadow: 0px 1px 2px rgba(60, 64, 67, 0.3), 0px 1px 3px 1px rgba(60, 64, 67, 0.15);\n",
              "      fill: #174EA6;\n",
              "    }\n",
              "\n",
              "    [theme=dark] .colab-df-convert {\n",
              "      background-color: #3B4455;\n",
              "      fill: #D2E3FC;\n",
              "    }\n",
              "\n",
              "    [theme=dark] .colab-df-convert:hover {\n",
              "      background-color: #434B5C;\n",
              "      box-shadow: 0px 1px 3px 1px rgba(0, 0, 0, 0.15);\n",
              "      filter: drop-shadow(0px 1px 2px rgba(0, 0, 0, 0.3));\n",
              "      fill: #FFFFFF;\n",
              "    }\n",
              "  </style>\n",
              "\n",
              "      <script>\n",
              "        const buttonEl =\n",
              "          document.querySelector('#df-e8a5d7de-b2eb-48a6-a92f-825662b26dcd button.colab-df-convert');\n",
              "        buttonEl.style.display =\n",
              "          google.colab.kernel.accessAllowed ? 'block' : 'none';\n",
              "\n",
              "        async function convertToInteractive(key) {\n",
              "          const element = document.querySelector('#df-e8a5d7de-b2eb-48a6-a92f-825662b26dcd');\n",
              "          const dataTable =\n",
              "            await google.colab.kernel.invokeFunction('convertToInteractive',\n",
              "                                                     [key], {});\n",
              "          if (!dataTable) return;\n",
              "\n",
              "          const docLinkHtml = 'Like what you see? Visit the ' +\n",
              "            '<a target=\"_blank\" href=https://colab.research.google.com/notebooks/data_table.ipynb>data table notebook</a>'\n",
              "            + ' to learn more about interactive tables.';\n",
              "          element.innerHTML = '';\n",
              "          dataTable['output_type'] = 'display_data';\n",
              "          await google.colab.output.renderOutput(dataTable, element);\n",
              "          const docLink = document.createElement('div');\n",
              "          docLink.innerHTML = docLinkHtml;\n",
              "          element.appendChild(docLink);\n",
              "        }\n",
              "      </script>\n",
              "    </div>\n",
              "  </div>\n"
            ]
          },
          "metadata": {},
          "execution_count": 45
        }
      ]
    },
    {
      "cell_type": "code",
      "source": [
        "# visualizing number of terrorist incidents\n",
        "import matplotlib.pyplot as plt\n",
        "# Create a pie chart\n",
        "plt.figure(figsize=(8,5))\n",
        "# Plot the pie chart\n",
        "plt.pie(incidents_country_df['Percent'], labels=incidents_country_df['Country_type'], autopct='%1.1f%%', startangle=140, colors=['cyan','blueviolet','orange'])\n",
        "plt.title('Number of terrorist incidents', fontsize=15)\n",
        "plt.axis('equal')\n",
        "# Equal aspect ratio ensures that the pie chart is circular.\n",
        "#Draw a circle in the center to create a donut chart effect\n",
        "centre_circle = plt.Circle((0,0),0.60,fc='white')\n",
        "fig = plt.gcf()\n",
        "fig.gca().add_artist(centre_circle)\n",
        "\n",
        "# Show the pie chart\n",
        "plt.tight_layout()\n",
        "plt.show()"
      ],
      "metadata": {
        "id": "2YkKnkeMOOFH",
        "colab": {
          "base_uri": "https://localhost:8080/",
          "height": 507
        },
        "outputId": "de2d4e8d-6de8-4a6c-95d6-b46892085399"
      },
      "execution_count": 46,
      "outputs": [
        {
          "output_type": "display_data",
          "data": {
            "text/plain": [
              "<Figure size 800x500 with 1 Axes>"
            ],
            "image/png": "[encoded data removed]"
          },
          "metadata": {}
        }
      ]
    },
    {
      "cell_type": "code",
      "source": [
        "#Q5-Are there any trends or patterns in the weapons used in terrorist attacks?\n",
        "\n",
        "terr_attack_df = gtd_df_copy['Weapon_Detail'].value_counts()\n",
        "terr_attack_df = pd.DataFrame({'Weapon_Type': terr_attack_df.index, 'Count': terr_attack_df.values})\n",
        "terr_attack_df =terr_attack_df[terr_attack_df['Weapon_Type']!='Unknown']\n",
        "terr_attack_df.loc[4,'Weapon_Type']='Unknown Firearm'\n",
        "terr_attack_df.loc[6,'Weapon_Type']='Roadside bomb'\n",
        "terr_attack_df.loc[8,'Weapon_Type']='Improvised explosive'\n",
        "terr_attack_df.loc[9,'Weapon_Type']='Unknown explosives'\n",
        "terr_attack_df.loc[10,'Weapon_Type']='Mortars'\n",
        "terr_attack_df.loc[11,'Weapon_Type']='Unknown Weapons'\n",
        "terr_attack_df.loc[14,'Weapon_Type']='Rockets'\n",
        "terr_attack_df.loc[16,'Weapon_Type']='Rockets'\n",
        "terr_attack_df.loc[17,'Weapon_Type']='Roadside Landmine'\n",
        "terr_attack_df.loc[18,'Weapon_Type']='Imposive explosive device'\n",
        "terr_attack_df.loc[19,'Weapon_Type']='Incendiary device'\n",
        "terr_attack_df.loc[20,'Weapon_Type']='Grenade'\n",
        "terr_attack_df=terr_attack_df.head(20)\n",
        "terr_attack_df"
      ],
      "metadata": {
        "id": "KYehkbQ0cxaC",
        "colab": {
          "base_uri": "https://localhost:8080/",
          "height": 676
        },
        "outputId": "b2a10ae4-fe8a-4c17-e282-d03c0842f252"
      },
      "execution_count": 47,
      "outputs": [
        {
          "output_type": "execute_result",
          "data": {
            "text/plain": [
              "                  Weapon_Type  Count\n",
              "1                   Explosive  17382\n",
              "2           Automatic firearm  12175\n",
              "3                      Pistol   4303\n",
              "4             Unknown Firearm   4027\n",
              "5                     Firearm   3848\n",
              "6               Roadside bomb   3584\n",
              "7                  Incendiary   3191\n",
              "8        Improvised explosive   3005\n",
              "9          Unknown explosives   1054\n",
              "10                    Mortars    827\n",
              "11            Unknown Weapons    774\n",
              "12                      Knife    687\n",
              "13                    Grenade    680\n",
              "14                    Rockets    676\n",
              "15                       Bomb    671\n",
              "16                    Rockets    622\n",
              "17          Roadside Landmine    618\n",
              "18  Imposive explosive device    508\n",
              "19          Incendiary device    487\n",
              "20                    Grenade    460"
            ],
            "text/html": [
              "\n",
              "\n",
              "  <div id=\"df-ead5be8a-233f-4ce0-8624-f3d17bea1bc9\">\n",
              "    <div class=\"colab-df-container\">\n",
              "      <div>\n",
              "<style scoped>\n",
              "    .dataframe tbody tr th:only-of-type {\n",
              "        vertical-align: middle;\n",
              "    }\n",
              "\n",
              "    .dataframe tbody tr th {\n",
              "        vertical-align: top;\n",
              "    }\n",
              "\n",
              "    .dataframe thead th {\n",
              "        text-align: right;\n",
              "    }\n",
              "</style>\n",
              "<table border=\"1\" class=\"dataframe\">\n",
              "  <thead>\n",
              "    <tr style=\"text-align: right;\">\n",
              "      <th></th>\n",
              "      <th>Weapon_Type</th>\n",
              "      <th>Count</th>\n",
              "    </tr>\n",
              "  </thead>\n",
              "  <tbody>\n",
              "    <tr>\n",
              "      <th>1</th>\n",
              "      <td>Explosive</td>\n",
              "      <td>17382</td>\n",
              "    </tr>\n",
              "    <tr>\n",
              "      <th>2</th>\n",
              "      <td>Automatic firearm</td>\n",
              "      <td>12175</td>\n",
              "    </tr>\n",
              "    <tr>\n",
              "      <th>3</th>\n",
              "      <td>Pistol</td>\n",
              "      <td>4303</td>\n",
              "    </tr>\n",
              "    <tr>\n",
              "      <th>4</th>\n",
              "      <td>Unknown Firearm</td>\n",
              "      <td>4027</td>\n",
              "    </tr>\n",
              "    <tr>\n",
              "      <th>5</th>\n",
              "      <td>Firearm</td>\n",
              "      <td>3848</td>\n",
              "    </tr>\n",
              "    <tr>\n",
              "      <th>6</th>\n",
              "      <td>Roadside bomb</td>\n",
              "      <td>3584</td>\n",
              "    </tr>\n",
              "    <tr>\n",
              "      <th>7</th>\n",
              "      <td>Incendiary</td>\n",
              "      <td>3191</td>\n",
              "    </tr>\n",
              "    <tr>\n",
              "      <th>8</th>\n",
              "      <td>Improvised explosive</td>\n",
              "      <td>3005</td>\n",
              "    </tr>\n",
              "    <tr>\n",
              "      <th>9</th>\n",
              "      <td>Unknown explosives</td>\n",
              "      <td>1054</td>\n",
              "    </tr>\n",
              "    <tr>\n",
              "      <th>10</th>\n",
              "      <td>Mortars</td>\n",
              "      <td>827</td>\n",
              "    </tr>\n",
              "    <tr>\n",
              "      <th>11</th>\n",
              "      <td>Unknown Weapons</td>\n",
              "      <td>774</td>\n",
              "    </tr>\n",
              "    <tr>\n",
              "      <th>12</th>\n",
              "      <td>Knife</td>\n",
              "      <td>687</td>\n",
              "    </tr>\n",
              "    <tr>\n",
              "      <th>13</th>\n",
              "      <td>Grenade</td>\n",
              "      <td>680</td>\n",
              "    </tr>\n",
              "    <tr>\n",
              "      <th>14</th>\n",
              "      <td>Rockets</td>\n",
              "      <td>676</td>\n",
              "    </tr>\n",
              "    <tr>\n",
              "      <th>15</th>\n",
              "      <td>Bomb</td>\n",
              "      <td>671</td>\n",
              "    </tr>\n",
              "    <tr>\n",
              "      <th>16</th>\n",
              "      <td>Rockets</td>\n",
              "      <td>622</td>\n",
              "    </tr>\n",
              "    <tr>\n",
              "      <th>17</th>\n",
              "      <td>Roadside Landmine</td>\n",
              "      <td>618</td>\n",
              "    </tr>\n",
              "    <tr>\n",
              "      <th>18</th>\n",
              "      <td>Imposive explosive device</td>\n",
              "      <td>508</td>\n",
              "    </tr>\n",
              "    <tr>\n",
              "      <th>19</th>\n",
              "      <td>Incendiary device</td>\n",
              "      <td>487</td>\n",
              "    </tr>\n",
              "    <tr>\n",
              "      <th>20</th>\n",
              "      <td>Grenade</td>\n",
              "      <td>460</td>\n",
              "    </tr>\n",
              "  </tbody>\n",
              "</table>\n",
              "</div>\n",
              "      <button class=\"colab-df-convert\" onclick=\"convertToInteractive('df-ead5be8a-233f-4ce0-8624-f3d17bea1bc9')\"\n",
              "              title=\"Convert this dataframe to an interactive table.\"\n",
              "              style=\"display:none;\">\n",
              "\n",
              "  <svg xmlns=\"http://www.w3.org/2000/svg\" height=\"24px\"viewBox=\"0 0 24 24\"\n",
              "       width=\"24px\">\n",
              "    <path d=\"M0 0h24v24H0V0z\" fill=\"none\"/>\n",
              "    <path d=\"M18.56 5.44l.94 2.06.94-2.06 2.06-.94-2.06-.94-.94-2.06-.94 2.06-2.06.94zm-11 1L8.5 8.5l.94-2.06 2.06-.94-2.06-.94L8.5 2.5l-.94 2.06-2.06.94zm10 10l.94 2.06.94-2.06 2.06-.94-2.06-.94-.94-2.06-.94 2.06-2.06.94z\"/><path d=\"M17.41 7.96l-1.37-1.37c-.4-.4-.92-.59-1.43-.59-.52 0-1.04.2-1.43.59L10.3 9.45l-7.72 7.72c-.78.78-.78 2.05 0 2.83L4 21.41c.39.39.9.59 1.41.59.51 0 1.02-.2 1.41-.59l7.78-7.78 2.81-2.81c.8-.78.8-2.07 0-2.86zM5.41 20L4 18.59l7.72-7.72 1.47 1.35L5.41 20z\"/>\n",
              "  </svg>\n",
              "      </button>\n",
              "\n",
              "\n",
              "\n",
              "    <div id=\"df-447b9c31-8b1d-440e-a28a-3525789ae788\">\n",
              "      <button class=\"colab-df-quickchart\" onclick=\"quickchart('df-447b9c31-8b1d-440e-a28a-3525789ae788')\"\n",
              "              title=\"Suggest charts.\"\n",
              "              style=\"display:none;\">\n",
              "\n",
              "<svg xmlns=\"http://www.w3.org/2000/svg\" height=\"24px\"viewBox=\"0 0 24 24\"\n",
              "     width=\"24px\">\n",
              "    <g>\n",
              "        <path d=\"M19 3H5c-1.1 0-2 .9-2 2v14c0 1.1.9 2 2 2h14c1.1 0 2-.9 2-2V5c0-1.1-.9-2-2-2zM9 17H7v-7h2v7zm4 0h-2V7h2v10zm4 0h-2v-4h2v4z\"/>\n",
              "    </g>\n",
              "</svg>\n",
              "      </button>\n",
              "    </div>\n",
              "\n",
              "<style>\n",
              "  .colab-df-quickchart {\n",
              "    background-color: #E8F0FE;\n",
              "    border: none;\n",
              "    border-radius: 50%;\n",
              "    cursor: pointer;\n",
              "    display: none;\n",
              "    fill: #1967D2;\n",
              "    height: 32px;\n",
              "    padding: 0 0 0 0;\n",
              "    width: 32px;\n",
              "  }\n",
              "\n",
              "  .colab-df-quickchart:hover {\n",
              "    background-color: #E2EBFA;\n",
              "    box-shadow: 0px 1px 2px rgba(60, 64, 67, 0.3), 0px 1px 3px 1px rgba(60, 64, 67, 0.15);\n",
              "    fill: #174EA6;\n",
              "  }\n",
              "\n",
              "  [theme=dark] .colab-df-quickchart {\n",
              "    background-color: #3B4455;\n",
              "    fill: #D2E3FC;\n",
              "  }\n",
              "\n",
              "  [theme=dark] .colab-df-quickchart:hover {\n",
              "    background-color: #434B5C;\n",
              "    box-shadow: 0px 1px 3px 1px rgba(0, 0, 0, 0.15);\n",
              "    filter: drop-shadow(0px 1px 2px rgba(0, 0, 0, 0.3));\n",
              "    fill: #FFFFFF;\n",
              "  }\n",
              "</style>\n",
              "\n",
              "    <script>\n",
              "      async function quickchart(key) {\n",
              "        const containerElement = document.querySelector('#' + key);\n",
              "        const charts = await google.colab.kernel.invokeFunction(\n",
              "            'suggestCharts', [key], {});\n",
              "      }\n",
              "    </script>\n",
              "\n",
              "      <script>\n",
              "\n",
              "function displayQuickchartButton(domScope) {\n",
              "  let quickchartButtonEl =\n",
              "    domScope.querySelector('#df-447b9c31-8b1d-440e-a28a-3525789ae788 button.colab-df-quickchart');\n",
              "  quickchartButtonEl.style.display =\n",
              "    google.colab.kernel.accessAllowed ? 'block' : 'none';\n",
              "}\n",
              "\n",
              "        displayQuickchartButton(document);\n",
              "      </script>\n",
              "      <style>\n",
              "    .colab-df-container {\n",
              "      display:flex;\n",
              "      flex-wrap:wrap;\n",
              "      gap: 12px;\n",
              "    }\n",
              "\n",
              "    .colab-df-convert {\n",
              "      background-color: #E8F0FE;\n",
              "      border: none;\n",
              "      border-radius: 50%;\n",
              "      cursor: pointer;\n",
              "      display: none;\n",
              "      fill: #1967D2;\n",
              "      height: 32px;\n",
              "      padding: 0 0 0 0;\n",
              "      width: 32px;\n",
              "    }\n",
              "\n",
              "    .colab-df-convert:hover {\n",
              "      background-color: #E2EBFA;\n",
              "      box-shadow: 0px 1px 2px rgba(60, 64, 67, 0.3), 0px 1px 3px 1px rgba(60, 64, 67, 0.15);\n",
              "      fill: #174EA6;\n",
              "    }\n",
              "\n",
              "    [theme=dark] .colab-df-convert {\n",
              "      background-color: #3B4455;\n",
              "      fill: #D2E3FC;\n",
              "    }\n",
              "\n",
              "    [theme=dark] .colab-df-convert:hover {\n",
              "      background-color: #434B5C;\n",
              "      box-shadow: 0px 1px 3px 1px rgba(0, 0, 0, 0.15);\n",
              "      filter: drop-shadow(0px 1px 2px rgba(0, 0, 0, 0.3));\n",
              "      fill: #FFFFFF;\n",
              "    }\n",
              "  </style>\n",
              "\n",
              "      <script>\n",
              "        const buttonEl =\n",
              "          document.querySelector('#df-ead5be8a-233f-4ce0-8624-f3d17bea1bc9 button.colab-df-convert');\n",
              "        buttonEl.style.display =\n",
              "          google.colab.kernel.accessAllowed ? 'block' : 'none';\n",
              "\n",
              "        async function convertToInteractive(key) {\n",
              "          const element = document.querySelector('#df-ead5be8a-233f-4ce0-8624-f3d17bea1bc9');\n",
              "          const dataTable =\n",
              "            await google.colab.kernel.invokeFunction('convertToInteractive',\n",
              "                                                     [key], {});\n",
              "          if (!dataTable) return;\n",
              "\n",
              "          const docLinkHtml = 'Like what you see? Visit the ' +\n",
              "            '<a target=\"_blank\" href=https://colab.research.google.com/notebooks/data_table.ipynb>data table notebook</a>'\n",
              "            + ' to learn more about interactive tables.';\n",
              "          element.innerHTML = '';\n",
              "          dataTable['output_type'] = 'display_data';\n",
              "          await google.colab.output.renderOutput(dataTable, element);\n",
              "          const docLink = document.createElement('div');\n",
              "          docLink.innerHTML = docLinkHtml;\n",
              "          element.appendChild(docLink);\n",
              "        }\n",
              "      </script>\n",
              "    </div>\n",
              "  </div>\n"
            ]
          },
          "metadata": {},
          "execution_count": 47
        }
      ]
    },
    {
      "cell_type": "code",
      "source": [
        "# Visualizing trends in weapons used in terrorist attack\n",
        "\n",
        "import matplotlib.pyplot as plt\n",
        "import seaborn as sns\n",
        "\n",
        "plt.figure(figsize=(12, 6))\n",
        "# ax = sns.barplot(x= 'Weapon_Type', y='Count',data=terr_attack_df)\n",
        "ax = sns.lineplot(x= 'Weapon_Type', y='Count',data=terr_attack_df,marker='o')\n",
        "# Add labels and title\n",
        "plt.title('Trends in weapons used in terrorist attack')\n",
        "plt.ylabel('count')\n",
        "\n",
        "plt.xticks(rotation=45, ha='right')\n",
        "plt.gca().yaxis.grid(True)  # Add horizontal grid lines\n",
        "\n",
        "# Adjust the layout to avoid overlapping labels and titles\n",
        "plt.tight_layout()\n",
        "# Show the plot\n",
        "plt.show()"
      ],
      "metadata": {
        "id": "try9Aft9TaI1",
        "colab": {
          "base_uri": "https://localhost:8080/",
          "height": 607
        },
        "outputId": "7aa301b7-1c2a-4461-f0fe-e448b9ec6850"
      },
      "execution_count": 48,
      "outputs": [
        {
          "output_type": "display_data",
          "data": {
            "text/plain": [
              "<Figure size 1200x600 with 1 Axes>"
            ],
            "image/png": "[encoded data removed]"
          },
          "metadata": {}
        }
      ]
    },
    {
      "cell_type": "code",
      "source": [
        "#Q6-How do terrorist incidents differ based on the motivation behind the attacks (e.g., political, religious, ideological)?\n",
        "pd.set_option('display.max_rows',None)\n",
        "pd.set_option('display.max_columns',None)\n",
        "# motive=gtd_df['Motive'].value_counts().sort_values()\n",
        "# motive.sortvalues()\n",
        "\n",
        "motive = gtd_df_copy['Motive'].value_counts().reset_index(name='count').sort_values('count', ascending = False)\n",
        "motive.head(35)\n",
        "\n",
        "# motive_type_df=gtd_df_copy\n",
        "# motive_type_df= ['Motive_Type']!= not_reported\n",
        "# motive_type_df.loc[7,'Motive_Type']='Political'\n",
        "# motive_type_df.loc[7,'Motive_Type']='Political'\n",
        "\n",
        "motive = gtd_df_copy['Motive'].value_counts().reset_index(name='count').sort_values('count', ascending = False)\n",
        "motive.loc[0, 'index'] = 'Not Reported'\n",
        "motive.loc[1, 'index'] = 'Not Reported'\n",
        "motive.loc[2, 'index'] = 'Political'\n",
        "motive.loc[3, 'index'] = 'Not Reported'\n",
        "motive.loc[4, 'index'] = 'Not Reported'\n",
        "motive.loc[5, 'index'] = 'Not Reported'\n",
        "motive.loc[6, 'index'] = 'Religious'\n",
        "motive.loc[7, 'index'] = 'Political'\n",
        "motive.loc[8, 'index'] = 'Ideological'\n",
        "motive.loc[9, 'index'] = 'Religious'\n",
        "motive.loc[10, 'index'] = 'Political'\n",
        "motive.loc[11, 'index'] = 'Political'\n",
        "motive.loc[12, 'index'] = 'Political'\n",
        "motive.loc[13, 'index'] = 'Religious'\n",
        "motive.loc[14, 'index'] = 'Political'\n",
        "motive.loc[15, 'index'] = 'Not Reported'\n",
        "motive.loc[16, 'index'] = 'Ideological'\n",
        "motive.loc[17, 'index'] = 'Political'\n",
        "motive.loc[18, 'index'] = 'Ideological'\n",
        "motive.loc[19, 'index'] = 'Ideological'\n",
        "motive.loc[20, 'index'] = 'Ideological'\n",
        "motive.loc[21, 'index'] = 'Political'\n",
        "motive.loc[22, 'index'] = 'Ideological'\n",
        "motive.loc[23, 'index'] = 'Political'\n",
        "motive.loc[24, 'index'] = 'Political'\n",
        "motive.loc[25, 'index'] = 'Political'\n",
        "motive.loc[26, 'index'] = 'Political'\n",
        "motive.loc[27, 'index'] = 'Political'\n",
        "motive.loc[28, 'index'] = 'Ideological'\n",
        "motive.loc[29, 'index'] = 'Ideological'\n",
        "motive.loc[30, 'index'] = 'Political'\n",
        "motive.loc[31, 'index'] = 'Ideological'\n",
        "motive.loc[32, 'index'] = 'Religious'\n",
        "motive.loc[33, 'index'] = 'Political'\n",
        "motive.loc[34, 'index'] = 'Political'\n",
        "motive_df = motive.head(35)\n",
        "# motive_df\n",
        "motive_df = motive_df.groupby('index')['count'].sum()\n",
        "motive_df = pd.DataFrame({'Motive': motive_df.index, 'Counts': motive_df.values})\n",
        "motive_df.drop(1, inplace=True)\n",
        "# Calculate the total count for normalization\n",
        "total_counts = motive_df['Counts'].sum()\n",
        "# Convert 'Counts' to percentages\n",
        "motive_df['Percentage'] = (motive_df['Counts'] / total_counts) * 100\n",
        "motive_df\n",
        "#Create a bar plot to visualize motive counts\n",
        "plt.figure(figsize=(6, 6))\n",
        "sns.barplot(data = motive_df, x = 'Motive', y = 'Percentage',palette='viridis')\n",
        "# plt.bar(motive_df['Motive'], motive_df['Percentage'], color='plasma')\n",
        "plt.title('Distribution of Motive Counts')\n",
        "plt.xlabel('Motive')\n",
        "plt.ylabel('Counts')\n",
        "plt.xticks(rotation=45)  # Rotate x-axis labels for better visibility\n",
        "plt.tight_layout()\n",
        "plt.show()"
      ],
      "metadata": {
        "id": "mNf-GdMJNCo2",
        "colab": {
          "base_uri": "https://localhost:8080/",
          "height": 607
        },
        "outputId": "d0d6f80e-bd23-4561-b213-b34dc71fad7f"
      },
      "execution_count": 49,
      "outputs": [
        {
          "output_type": "display_data",
          "data": {
            "text/plain": [
              "<Figure size 600x600 with 1 Axes>"
            ],
            "image/png": "[encoded data removed]"
          },
          "metadata": {}
        }
      ]
    },
    {
      "cell_type": "code",
      "source": [],
      "metadata": {
        "id": "DVHuZMv9qtmr"
      },
      "execution_count": 49,
      "outputs": []
    },
    {
      "cell_type": "markdown",
      "source": [
        "### What all manipulations have you done and insights you found?"
      ],
      "metadata": {
        "id": "MSa1f5Uengrz"
      }
    },
    {
      "cell_type": "markdown",
      "source": [
        "Answer Here."
      ],
      "metadata": {
        "id": "LbyXE7I1olp8"
      }
    },
    {
      "cell_type": "markdown",
      "source": [
        "## ***4. Data Vizualization, Storytelling & Experimenting with charts : Understand the relationships between variables***"
      ],
      "metadata": {
        "id": "GF8Ens_Soomf"
      }
    },
    {
      "cell_type": "code",
      "source": [
        "import pandas as pd\n",
        "import seaborn as sns\n",
        "import matplotlib.pyplot as plt"
      ],
      "metadata": {
        "id": "KMVnZtgusJRp"
      },
      "execution_count": 50,
      "outputs": []
    },
    {
      "cell_type": "markdown",
      "source": [
        "#### Chart - 1"
      ],
      "metadata": {
        "id": "0wOQAZs5pc--"
      }
    },
    {
      "cell_type": "code",
      "source": [
        "# Chart - 1 visualization code"
      ],
      "metadata": {
        "id": "7v_ESjsspbW7"
      },
      "execution_count": 51,
      "outputs": []
    },
    {
      "cell_type": "markdown",
      "source": [
        "##### 1. Why did you pick the specific chart?"
      ],
      "metadata": {
        "id": "K5QZ13OEpz2H"
      }
    },
    {
      "cell_type": "markdown",
      "source": [
        "Answer Here."
      ],
      "metadata": {
        "id": "XESiWehPqBRc"
      }
    },
    {
      "cell_type": "markdown",
      "source": [
        "##### 2. What is/are the insight(s) found from the chart?"
      ],
      "metadata": {
        "id": "lQ7QKXXCp7Bj"
      }
    },
    {
      "cell_type": "markdown",
      "source": [
        "Answer Here"
      ],
      "metadata": {
        "id": "C_j1G7yiqdRP"
      }
    },
    {
      "cell_type": "markdown",
      "source": [
        "##### 3. Will the gained insights help creating a positive business impact?\n",
        "Are there any insights that lead to negative growth? Justify with specific reason."
      ],
      "metadata": {
        "id": "448CDAPjqfQr"
      }
    },
    {
      "cell_type": "markdown",
      "source": [
        "Answer Here"
      ],
      "metadata": {
        "id": "3cspy4FjqxJW"
      }
    },
    {
      "cell_type": "markdown",
      "source": [
        "#### Chart - 2"
      ],
      "metadata": {
        "id": "KSlN3yHqYklG"
      }
    },
    {
      "cell_type": "code",
      "source": [
        "# Chart - 2 visualization code"
      ],
      "metadata": {
        "id": "R4YgtaqtYklH"
      },
      "execution_count": 52,
      "outputs": []
    },
    {
      "cell_type": "markdown",
      "source": [
        "##### 1. Why did you pick the specific chart?"
      ],
      "metadata": {
        "id": "t6dVpIINYklI"
      }
    },
    {
      "cell_type": "markdown",
      "source": [
        "Answer Here."
      ],
      "metadata": {
        "id": "5aaW0BYyYklI"
      }
    },
    {
      "cell_type": "markdown",
      "source": [
        "##### 2. What is/are the insight(s) found from the chart?"
      ],
      "metadata": {
        "id": "ijmpgYnKYklI"
      }
    },
    {
      "cell_type": "markdown",
      "source": [
        "Answer Here"
      ],
      "metadata": {
        "id": "PSx9atu2YklI"
      }
    },
    {
      "cell_type": "markdown",
      "source": [
        "##### 3. Will the gained insights help creating a positive business impact?\n",
        "Are there any insights that lead to negative growth? Justify with specific reason."
      ],
      "metadata": {
        "id": "-JiQyfWJYklI"
      }
    },
    {
      "cell_type": "markdown",
      "source": [
        "Answer Here"
      ],
      "metadata": {
        "id": "BcBbebzrYklV"
      }
    },
    {
      "cell_type": "markdown",
      "source": [
        "#### Chart - 3"
      ],
      "metadata": {
        "id": "EM7whBJCYoAo"
      }
    },
    {
      "cell_type": "code",
      "source": [
        "# Chart - 3 visualization code"
      ],
      "metadata": {
        "id": "t6GMdE67YoAp"
      },
      "execution_count": 53,
      "outputs": []
    },
    {
      "cell_type": "markdown",
      "source": [
        "##### 1. Why did you pick the specific chart?"
      ],
      "metadata": {
        "id": "fge-S5ZAYoAp"
      }
    },
    {
      "cell_type": "markdown",
      "source": [
        "Answer Here."
      ],
      "metadata": {
        "id": "5dBItgRVYoAp"
      }
    },
    {
      "cell_type": "markdown",
      "source": [
        "##### 2. What is/are the insight(s) found from the chart?"
      ],
      "metadata": {
        "id": "85gYPyotYoAp"
      }
    },
    {
      "cell_type": "markdown",
      "source": [
        "Answer Here"
      ],
      "metadata": {
        "id": "4jstXR6OYoAp"
      }
    },
    {
      "cell_type": "markdown",
      "source": [
        "##### 3. Will the gained insights help creating a positive business impact?\n",
        "Are there any insights that lead to negative growth? Justify with specific reason."
      ],
      "metadata": {
        "id": "RoGjAbkUYoAp"
      }
    },
    {
      "cell_type": "markdown",
      "source": [
        "Answer Here"
      ],
      "metadata": {
        "id": "zfJ8IqMcYoAp"
      }
    },
    {
      "cell_type": "markdown",
      "source": [
        "#### Chart - 4"
      ],
      "metadata": {
        "id": "4Of9eVA-YrdM"
      }
    },
    {
      "cell_type": "code",
      "source": [
        "# Chart - 4 visualization code"
      ],
      "metadata": {
        "id": "irlUoxc8YrdO"
      },
      "execution_count": 54,
      "outputs": []
    },
    {
      "cell_type": "markdown",
      "source": [
        "##### 1. Why did you pick the specific chart?"
      ],
      "metadata": {
        "id": "iky9q4vBYrdO"
      }
    },
    {
      "cell_type": "markdown",
      "source": [
        "Answer Here."
      ],
      "metadata": {
        "id": "aJRCwT6DYrdO"
      }
    },
    {
      "cell_type": "markdown",
      "source": [
        "##### 2. What is/are the insight(s) found from the chart?"
      ],
      "metadata": {
        "id": "F6T5p64dYrdO"
      }
    },
    {
      "cell_type": "markdown",
      "source": [
        "Answer Here"
      ],
      "metadata": {
        "id": "Xx8WAJvtYrdO"
      }
    },
    {
      "cell_type": "markdown",
      "source": [
        "##### 3. Will the gained insights help creating a positive business impact?\n",
        "Are there any insights that lead to negative growth? Justify with specific reason."
      ],
      "metadata": {
        "id": "y-Ehk30pYrdP"
      }
    },
    {
      "cell_type": "markdown",
      "source": [
        "Answer Here"
      ],
      "metadata": {
        "id": "jLNxxz7MYrdP"
      }
    },
    {
      "cell_type": "markdown",
      "source": [
        "#### Chart - 5"
      ],
      "metadata": {
        "id": "bamQiAODYuh1"
      }
    },
    {
      "cell_type": "code",
      "source": [
        "# Chart - 5 visualization code"
      ],
      "metadata": {
        "id": "TIJwrbroYuh3"
      },
      "execution_count": 55,
      "outputs": []
    },
    {
      "cell_type": "markdown",
      "source": [
        "##### 1. Why did you pick the specific chart?"
      ],
      "metadata": {
        "id": "QHF8YVU7Yuh3"
      }
    },
    {
      "cell_type": "markdown",
      "source": [
        "Answer Here."
      ],
      "metadata": {
        "id": "dcxuIMRPYuh3"
      }
    },
    {
      "cell_type": "markdown",
      "source": [
        "##### 2. What is/are the insight(s) found from the chart?"
      ],
      "metadata": {
        "id": "GwzvFGzlYuh3"
      }
    },
    {
      "cell_type": "markdown",
      "source": [
        "Answer Here"
      ],
      "metadata": {
        "id": "uyqkiB8YYuh3"
      }
    },
    {
      "cell_type": "markdown",
      "source": [
        "##### 3. Will the gained insights help creating a positive business impact?\n",
        "Are there any insights that lead to negative growth? Justify with specific reason."
      ],
      "metadata": {
        "id": "qYpmQ266Yuh3"
      }
    },
    {
      "cell_type": "markdown",
      "source": [
        "Answer Here"
      ],
      "metadata": {
        "id": "_WtzZ_hCYuh4"
      }
    },
    {
      "cell_type": "markdown",
      "source": [
        "#### Chart - 6"
      ],
      "metadata": {
        "id": "OH-pJp9IphqM"
      }
    },
    {
      "cell_type": "code",
      "source": [
        "# Chart - 6 visualization code"
      ],
      "metadata": {
        "id": "kuRf4wtuphqN"
      },
      "execution_count": 56,
      "outputs": []
    },
    {
      "cell_type": "markdown",
      "source": [
        "##### 1. Why did you pick the specific chart?"
      ],
      "metadata": {
        "id": "bbFf2-_FphqN"
      }
    },
    {
      "cell_type": "markdown",
      "source": [
        "Answer Here."
      ],
      "metadata": {
        "id": "loh7H2nzphqN"
      }
    },
    {
      "cell_type": "markdown",
      "source": [
        "##### 2. What is/are the insight(s) found from the chart?"
      ],
      "metadata": {
        "id": "_ouA3fa0phqN"
      }
    },
    {
      "cell_type": "markdown",
      "source": [
        "Answer Here"
      ],
      "metadata": {
        "id": "VECbqPI7phqN"
      }
    },
    {
      "cell_type": "markdown",
      "source": [
        "##### 3. Will the gained insights help creating a positive business impact?\n",
        "Are there any insights that lead to negative growth? Justify with specific reason."
      ],
      "metadata": {
        "id": "Seke61FWphqN"
      }
    },
    {
      "cell_type": "markdown",
      "source": [
        "Answer Here"
      ],
      "metadata": {
        "id": "DW4_bGpfphqN"
      }
    },
    {
      "cell_type": "markdown",
      "source": [
        "#### Chart - 7"
      ],
      "metadata": {
        "id": "PIIx-8_IphqN"
      }
    },
    {
      "cell_type": "code",
      "source": [
        "# Chart - 7 visualization code"
      ],
      "metadata": {
        "id": "lqAIGUfyphqO"
      },
      "execution_count": 57,
      "outputs": []
    },
    {
      "cell_type": "markdown",
      "source": [
        "##### 1. Why did you pick the specific chart?"
      ],
      "metadata": {
        "id": "t27r6nlMphqO"
      }
    },
    {
      "cell_type": "markdown",
      "source": [
        "Answer Here."
      ],
      "metadata": {
        "id": "iv6ro40sphqO"
      }
    },
    {
      "cell_type": "markdown",
      "source": [
        "##### 2. What is/are the insight(s) found from the chart?"
      ],
      "metadata": {
        "id": "r2jJGEOYphqO"
      }
    },
    {
      "cell_type": "markdown",
      "source": [
        "Answer Here"
      ],
      "metadata": {
        "id": "Po6ZPi4hphqO"
      }
    },
    {
      "cell_type": "markdown",
      "source": [
        "##### 3. Will the gained insights help creating a positive business impact?\n",
        "Are there any insights that lead to negative growth? Justify with specific reason."
      ],
      "metadata": {
        "id": "b0JNsNcRphqO"
      }
    },
    {
      "cell_type": "markdown",
      "source": [
        "Answer Here"
      ],
      "metadata": {
        "id": "xvSq8iUTphqO"
      }
    },
    {
      "cell_type": "markdown",
      "source": [
        "#### Chart - 8"
      ],
      "metadata": {
        "id": "BZR9WyysphqO"
      }
    },
    {
      "cell_type": "code",
      "source": [
        "# Chart - 8 visualization code"
      ],
      "metadata": {
        "id": "TdPTWpAVphqO"
      },
      "execution_count": 58,
      "outputs": []
    },
    {
      "cell_type": "markdown",
      "source": [
        "##### 1. Why did you pick the specific chart?"
      ],
      "metadata": {
        "id": "jj7wYXLtphqO"
      }
    },
    {
      "cell_type": "markdown",
      "source": [
        "Answer Here."
      ],
      "metadata": {
        "id": "Ob8u6rCTphqO"
      }
    },
    {
      "cell_type": "markdown",
      "source": [
        "##### 2. What is/are the insight(s) found from the chart?"
      ],
      "metadata": {
        "id": "eZrbJ2SmphqO"
      }
    },
    {
      "cell_type": "markdown",
      "source": [
        "Answer Here"
      ],
      "metadata": {
        "id": "mZtgC_hjphqO"
      }
    },
    {
      "cell_type": "markdown",
      "source": [
        "##### 3. Will the gained insights help creating a positive business impact?\n",
        "Are there any insights that lead to negative growth? Justify with specific reason."
      ],
      "metadata": {
        "id": "rFu4xreNphqO"
      }
    },
    {
      "cell_type": "markdown",
      "source": [
        "Answer Here"
      ],
      "metadata": {
        "id": "ey_0qi68phqO"
      }
    },
    {
      "cell_type": "markdown",
      "source": [
        "#### Chart - 9"
      ],
      "metadata": {
        "id": "YJ55k-q6phqO"
      }
    },
    {
      "cell_type": "code",
      "source": [
        "# Chart - 9 visualization code"
      ],
      "metadata": {
        "id": "B2aS4O1ophqO"
      },
      "execution_count": 59,
      "outputs": []
    },
    {
      "cell_type": "markdown",
      "source": [
        "##### 1. Why did you pick the specific chart?"
      ],
      "metadata": {
        "id": "gCFgpxoyphqP"
      }
    },
    {
      "cell_type": "markdown",
      "source": [
        "Answer Here."
      ],
      "metadata": {
        "id": "TVxDimi2phqP"
      }
    },
    {
      "cell_type": "markdown",
      "source": [
        "##### 2. What is/are the insight(s) found from the chart?"
      ],
      "metadata": {
        "id": "OVtJsKN_phqQ"
      }
    },
    {
      "cell_type": "markdown",
      "source": [
        "Answer Here"
      ],
      "metadata": {
        "id": "ngGi97qjphqQ"
      }
    },
    {
      "cell_type": "markdown",
      "source": [
        "##### 3. Will the gained insights help creating a positive business impact?\n",
        "Are there any insights that lead to negative growth? Justify with specific reason."
      ],
      "metadata": {
        "id": "lssrdh5qphqQ"
      }
    },
    {
      "cell_type": "markdown",
      "source": [
        "Answer Here"
      ],
      "metadata": {
        "id": "tBpY5ekJphqQ"
      }
    },
    {
      "cell_type": "markdown",
      "source": [
        "#### Chart - 10"
      ],
      "metadata": {
        "id": "U2RJ9gkRphqQ"
      }
    },
    {
      "cell_type": "code",
      "source": [
        "# Chart - 10 visualization code"
      ],
      "metadata": {
        "id": "GM7a4YP4phqQ"
      },
      "execution_count": 60,
      "outputs": []
    },
    {
      "cell_type": "markdown",
      "source": [
        "##### 1. Why did you pick the specific chart?"
      ],
      "metadata": {
        "id": "1M8mcRywphqQ"
      }
    },
    {
      "cell_type": "markdown",
      "source": [
        "Answer Here."
      ],
      "metadata": {
        "id": "8agQvks0phqQ"
      }
    },
    {
      "cell_type": "markdown",
      "source": [
        "##### 2. What is/are the insight(s) found from the chart?"
      ],
      "metadata": {
        "id": "tgIPom80phqQ"
      }
    },
    {
      "cell_type": "markdown",
      "source": [
        "Answer Here"
      ],
      "metadata": {
        "id": "Qp13pnNzphqQ"
      }
    },
    {
      "cell_type": "markdown",
      "source": [
        "##### 3. Will the gained insights help creating a positive business impact?\n",
        "Are there any insights that lead to negative growth? Justify with specific reason."
      ],
      "metadata": {
        "id": "JMzcOPDDphqR"
      }
    },
    {
      "cell_type": "markdown",
      "source": [
        "Answer Here"
      ],
      "metadata": {
        "id": "R4Ka1PC2phqR"
      }
    },
    {
      "cell_type": "markdown",
      "source": [
        "#### Chart - 11"
      ],
      "metadata": {
        "id": "x-EpHcCOp1ci"
      }
    },
    {
      "cell_type": "code",
      "source": [
        "# Chart - 11 visualization code"
      ],
      "metadata": {
        "id": "mAQTIvtqp1cj"
      },
      "execution_count": 61,
      "outputs": []
    },
    {
      "cell_type": "markdown",
      "source": [
        "##### 1. Why did you pick the specific chart?"
      ],
      "metadata": {
        "id": "X_VqEhTip1ck"
      }
    },
    {
      "cell_type": "markdown",
      "source": [
        "Answer Here."
      ],
      "metadata": {
        "id": "-vsMzt_np1ck"
      }
    },
    {
      "cell_type": "markdown",
      "source": [
        "##### 2. What is/are the insight(s) found from the chart?"
      ],
      "metadata": {
        "id": "8zGJKyg5p1ck"
      }
    },
    {
      "cell_type": "markdown",
      "source": [
        "Answer Here"
      ],
      "metadata": {
        "id": "ZYdMsrqVp1ck"
      }
    },
    {
      "cell_type": "markdown",
      "source": [
        "##### 3. Will the gained insights help creating a positive business impact?\n",
        "Are there any insights that lead to negative growth? Justify with specific reason."
      ],
      "metadata": {
        "id": "PVzmfK_Ep1ck"
      }
    },
    {
      "cell_type": "markdown",
      "source": [
        "Answer Here"
      ],
      "metadata": {
        "id": "druuKYZpp1ck"
      }
    },
    {
      "cell_type": "markdown",
      "source": [
        "#### Chart - 12"
      ],
      "metadata": {
        "id": "n3dbpmDWp1ck"
      }
    },
    {
      "cell_type": "code",
      "source": [
        "# Chart - 12 visualization code"
      ],
      "metadata": {
        "id": "bwevp1tKp1ck"
      },
      "execution_count": 62,
      "outputs": []
    },
    {
      "cell_type": "markdown",
      "source": [
        "##### 1. Why did you pick the specific chart?"
      ],
      "metadata": {
        "id": "ylSl6qgtp1ck"
      }
    },
    {
      "cell_type": "markdown",
      "source": [
        "Answer Here."
      ],
      "metadata": {
        "id": "m2xqNkiQp1ck"
      }
    },
    {
      "cell_type": "markdown",
      "source": [
        "##### 2. What is/are the insight(s) found from the chart?"
      ],
      "metadata": {
        "id": "ZWILFDl5p1ck"
      }
    },
    {
      "cell_type": "markdown",
      "source": [
        "Answer Here"
      ],
      "metadata": {
        "id": "x-lUsV2mp1ck"
      }
    },
    {
      "cell_type": "markdown",
      "source": [
        "##### 3. Will the gained insights help creating a positive business impact?\n",
        "Are there any insights that lead to negative growth? Justify with specific reason."
      ],
      "metadata": {
        "id": "M7G43BXep1ck"
      }
    },
    {
      "cell_type": "markdown",
      "source": [
        "Answer Here"
      ],
      "metadata": {
        "id": "5wwDJXsLp1cl"
      }
    },
    {
      "cell_type": "markdown",
      "source": [
        "#### Chart - 13"
      ],
      "metadata": {
        "id": "Ag9LCva-p1cl"
      }
    },
    {
      "cell_type": "code",
      "source": [
        "# Chart - 13 visualization code"
      ],
      "metadata": {
        "id": "EUfxeq9-p1cl"
      },
      "execution_count": 63,
      "outputs": []
    },
    {
      "cell_type": "markdown",
      "source": [
        "##### 1. Why did you pick the specific chart?"
      ],
      "metadata": {
        "id": "E6MkPsBcp1cl"
      }
    },
    {
      "cell_type": "markdown",
      "source": [
        "Answer Here."
      ],
      "metadata": {
        "id": "V22bRsFWp1cl"
      }
    },
    {
      "cell_type": "markdown",
      "source": [
        "##### 2. What is/are the insight(s) found from the chart?"
      ],
      "metadata": {
        "id": "2cELzS2fp1cl"
      }
    },
    {
      "cell_type": "markdown",
      "source": [
        "Answer Here"
      ],
      "metadata": {
        "id": "ozQPc2_Ip1cl"
      }
    },
    {
      "cell_type": "markdown",
      "source": [
        "##### 3. Will the gained insights help creating a positive business impact?\n",
        "Are there any insights that lead to negative growth? Justify with specific reason."
      ],
      "metadata": {
        "id": "3MPXvC8up1cl"
      }
    },
    {
      "cell_type": "markdown",
      "source": [
        "Answer Here"
      ],
      "metadata": {
        "id": "GL8l1tdLp1cl"
      }
    },
    {
      "cell_type": "markdown",
      "source": [
        "#### Chart - 14 - Correlation Heatmap"
      ],
      "metadata": {
        "id": "NC_X3p0fY2L0"
      }
    },
    {
      "cell_type": "code",
      "source": [
        "# Correlation Heatmap visualization code"
      ],
      "metadata": {
        "id": "xyC9zolEZNRQ"
      },
      "execution_count": 64,
      "outputs": []
    },
    {
      "cell_type": "markdown",
      "source": [
        "##### 1. Why did you pick the specific chart?"
      ],
      "metadata": {
        "id": "UV0SzAkaZNRQ"
      }
    },
    {
      "cell_type": "markdown",
      "source": [
        "Answer Here."
      ],
      "metadata": {
        "id": "DVPuT8LYZNRQ"
      }
    },
    {
      "cell_type": "markdown",
      "source": [
        "##### 2. What is/are the insight(s) found from the chart?"
      ],
      "metadata": {
        "id": "YPEH6qLeZNRQ"
      }
    },
    {
      "cell_type": "markdown",
      "source": [
        "Answer Here"
      ],
      "metadata": {
        "id": "bfSqtnDqZNRR"
      }
    },
    {
      "cell_type": "markdown",
      "source": [
        "#### Chart - 15 - Pair Plot"
      ],
      "metadata": {
        "id": "q29F0dvdveiT"
      }
    },
    {
      "cell_type": "code",
      "source": [
        "# Pair Plot visualization code"
      ],
      "metadata": {
        "id": "o58-TEIhveiU"
      },
      "execution_count": 65,
      "outputs": []
    },
    {
      "cell_type": "markdown",
      "source": [
        "##### 1. Why did you pick the specific chart?"
      ],
      "metadata": {
        "id": "EXh0U9oCveiU"
      }
    },
    {
      "cell_type": "markdown",
      "source": [
        "Answer Here."
      ],
      "metadata": {
        "id": "eMmPjTByveiU"
      }
    },
    {
      "cell_type": "markdown",
      "source": [
        "##### 2. What is/are the insight(s) found from the chart?"
      ],
      "metadata": {
        "id": "22aHeOlLveiV"
      }
    },
    {
      "cell_type": "markdown",
      "source": [
        "Answer Here"
      ],
      "metadata": {
        "id": "uPQ8RGwHveiV"
      }
    },
    {
      "cell_type": "markdown",
      "source": [
        "## **5. Solution to Business Objective**"
      ],
      "metadata": {
        "id": "JcMwzZxoAimU"
      }
    },
    {
      "cell_type": "markdown",
      "source": [
        "#### What do you suggest the client to achieve Business Objective ?\n",
        "Explain Briefly."
      ],
      "metadata": {
        "id": "8G2x9gOozGDZ"
      }
    },
    {
      "cell_type": "markdown",
      "source": [
        "Answer Here."
      ],
      "metadata": {
        "id": "pASKb0qOza21"
      }
    },
    {
      "cell_type": "markdown",
      "source": [
        "# **Conclusion**"
      ],
      "metadata": {
        "id": "gCX9965dhzqZ"
      }
    },
    {
      "cell_type": "markdown",
      "source": [
        "Write the conclusion here."
      ],
      "metadata": {
        "id": "Fjb1IsQkh3yE"
      }
    },
    {
      "cell_type": "markdown",
      "source": [
        "### ***Hurrah! You have successfully completed your EDA Capstone Project !!!***"
      ],
      "metadata": {
        "id": "gIfDvo9L0UH2"
      }
    }
  ]
}